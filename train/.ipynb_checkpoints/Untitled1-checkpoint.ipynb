{
 "cells": [
  {
   "cell_type": "code",
   "execution_count": 44,
   "metadata": {},
   "outputs": [],
   "source": [
    "import matplotlib.pyplot as plt\n",
    "import matplotlib.image as mpimg\n",
    "import numpy as np\n",
    "import sklearn as skl\n",
    "from sklearn.metrics import precision_score, recall_score, f1_score\n",
    "import torch\n",
    "import torchvision.transforms as transforms\n",
    "import os\n",
    "import pandas as pd\n",
    "import pytorch_lightning as pl\n",
    "from PIL import Image\n",
    "from IPython.display import Image as Iimage\n",
    "from matplotlib.pyplot import imshow\n",
    "import category_encoders as ce\n",
    "import gc\n",
    "import math"
   ]
  },
  {
   "cell_type": "code",
   "execution_count": 45,
   "metadata": {},
   "outputs": [
    {
     "name": "stderr",
     "output_type": "stream",
     "text": [
      "Global seed set to 1525336894\n"
     ]
    },
    {
     "data": {
      "text/plain": [
       "1525336894"
      ]
     },
     "execution_count": 45,
     "metadata": {},
     "output_type": "execute_result"
    }
   ],
   "source": [
    "pl.utilities.seed.seed_everything()"
   ]
  },
  {
   "cell_type": "code",
   "execution_count": 46,
   "metadata": {},
   "outputs": [],
   "source": [
    "#all dataset paths\n",
    "dataset1_path = '..\\dataset\\classes82'\n",
    "dataset2_path = '..\\dataset\\classes369'\n",
    "model_path = '..\\models'\n",
    "\n",
    "BINARY = 'binary'\n",
    "ONEHOT = 'onehot' "
   ]
  },
  {
   "cell_type": "markdown",
   "metadata": {},
   "source": [
    "# Data Preprocessing"
   ]
  },
  {
   "cell_type": "markdown",
   "metadata": {},
   "source": [
    "## Data augmentation"
   ]
  },
  {
   "cell_type": "code",
   "execution_count": 47,
   "metadata": {},
   "outputs": [],
   "source": [
    "totensor = transforms.ToTensor()\n",
    "topil = transforms.ToPILImage()"
   ]
  },
  {
   "cell_type": "markdown",
   "metadata": {},
   "source": [
    "### transforms operations"
   ]
  },
  {
   "cell_type": "code",
   "execution_count": 48,
   "metadata": {},
   "outputs": [],
   "source": [
    "rotate = transforms.RandomAffine(10,fillcolor = 255)\n",
    "hor_translate = transforms.RandomAffine(0,translate = (0.06,0),fillcolor = 0)\n",
    "ver_translate = transforms.RandomAffine(0,translate = (0,0.06),fillcolor = 0)\n",
    "com1 = transforms.Compose([\n",
    "    transforms.RandomAffine(10,fillcolor = 255),\n",
    "    transforms.RandomAffine(0,translate = (0.06,0),fillcolor = 255)\n",
    "])\n",
    "com2 = transforms.Compose([\n",
    "    transforms.RandomAffine(10,fillcolor = 255),\n",
    "    transforms.RandomAffine(0,translate = (0,0.06),fillcolor = 255)\n",
    "])"
   ]
  },
  {
   "cell_type": "code",
   "execution_count": 49,
   "metadata": {},
   "outputs": [
    {
     "data": {
      "text/plain": [
       "Text(0.5, 1.0, 'combination 2 image')"
      ]
     },
     "execution_count": 49,
     "metadata": {},
     "output_type": "execute_result"
    },
    {
     "data": {
      "image/png": "[encoded data removed]",
      "text/plain": [
       "<Figure size 720x720 with 6 Axes>"
      ]
     },
     "metadata": {
      "needs_background": "light"
     },
     "output_type": "display_data"
    }
   ],
   "source": [
    "image = Image.open('../test.png').convert('L')\n",
    "rotate_image = rotate(image)\n",
    "hor_image = hor_translate(image)\n",
    "ver_image = ver_translate(image)\n",
    "com1_image = com1(image)\n",
    "com2_image = com2(image)\n",
    "\n",
    "fig,axs = plt.subplots(2,3,figsize=(10,10))\n",
    "\n",
    "axs[0,0].imshow(np.asarray(image),'gray')\n",
    "axs[0,0].set_title('original image')\n",
    "axs[0,1].imshow(np.asarray(rotate_image),'gray')\n",
    "axs[0,1].set_title('rotated image')\n",
    "axs[0,2].imshow(np.asarray(hor_image),'gray')\n",
    "axs[0,2].set_title('horizontal translated image')\n",
    "axs[1,0].imshow(np.asarray(ver_image),'gray')\n",
    "axs[1,0].set_title('vertical translated image')\n",
    "axs[1,1].imshow(np.asarray(com1_image),'gray')\n",
    "axs[1,1].set_title('combination 1 image')\n",
    "axs[1,2].imshow(np.asarray(com2_image),'gray')\n",
    "axs[1,2].set_title('combination 2 image')"
   ]
  },
  {
   "cell_type": "code",
   "execution_count": null,
   "metadata": {},
   "outputs": [],
   "source": []
  },
  {
   "cell_type": "code",
   "execution_count": null,
   "metadata": {},
   "outputs": [],
   "source": []
  },
  {
   "cell_type": "code",
   "execution_count": null,
   "metadata": {},
   "outputs": [],
   "source": []
  },
  {
   "cell_type": "markdown",
   "metadata": {},
   "source": [
    "## Make the labels of classes369\n",
    "this is the first version that the label for each class is a number from 0 to 336<br>\n",
    "<br>\n",
    "__but the second version has 336 classes__"
   ]
  },
  {
   "cell_type": "code",
   "execution_count": 50,
   "metadata": {},
   "outputs": [
    {
     "name": "stdout",
     "output_type": "stream",
     "text": [
      "306\n",
      "['\\\\aa', '\\\\L', '\\\\AA', '\\\\ae', '\\\\AE', '\\\\guillemotleft']\n"
     ]
    }
   ],
   "source": [
    "class369_data_pd = pd.read_csv('..\\dataset\\classes369\\\\newsymbols.csv')\n",
    "class369_data_pd.head()\n",
    "class306id = []\n",
    "table = ''\n",
    "start = 0\n",
    "for latex in class369_data_pd['latex']:\n",
    "    class306id.append(latex)\n",
    "    table = table + '[' + str(start) + ']' + latex\n",
    "    start+=1\n",
    "print(len(class306id))\n",
    "print(class306id[300:306])"
   ]
  },
  {
   "cell_type": "code",
   "execution_count": 51,
   "metadata": {},
   "outputs": [],
   "source": [
    "classes306Latex = open('classes306Latex.txt','w+') \n",
    "classes306Latex.write(table)\n",
    "classes306Latex.close()"
   ]
  },
  {
   "cell_type": "code",
   "execution_count": 52,
   "metadata": {},
   "outputs": [],
   "source": [
    "training_numbers = [] \n",
    "testing_numbers = []\n",
    "for training_number in class369_data_pd['training_samples']:\n",
    "    training_numbers.append(training_number)\n",
    "for testing_number in class369_data_pd['test_samples']:\n",
    "    testing_numbers.append(testing_number)"
   ]
  },
  {
   "cell_type": "code",
   "execution_count": 53,
   "metadata": {},
   "outputs": [
    {
     "name": "stdout",
     "output_type": "stream",
     "text": [
      "(13770,)\n",
      "(1530,)\n"
     ]
    }
   ],
   "source": [
    "def make_nparray(number,size):\n",
    "    arr = np.zeros(size)\n",
    "    for i in range(size):\n",
    "        arr[i] = number\n",
    "    return arr    \n",
    "class_306_labels_origin = np.zeros(45)\n",
    "for i in range(305):\n",
    "    class_306_labels_origin = np.concatenate((class_306_labels_origin,\n",
    "                                             make_nparray(i+1,45)))\n",
    "print(class_306_labels_origin.shape)  \n",
    "class_306_labels_origin_val = np.zeros(5)\n",
    "for i in range(305):\n",
    "    class_306_labels_origin_val = np.concatenate((class_306_labels_origin_val,\n",
    "                                             make_nparray(i+1,5)))\n",
    "print(class_306_labels_origin_val.shape) \n",
    "class_306_labels_origin = torch.from_numpy(class_306_labels_origin)\n",
    "class_306_labels_origin = class_306_labels_origin.type(torch.long)\n",
    "class_306_labels_origin_val = torch.from_numpy(class_306_labels_origin_val)\n",
    "class_306_labels_origin_val = class_306_labels_origin_val.type(torch.long)"
   ]
  },
  {
   "cell_type": "code",
   "execution_count": 54,
   "metadata": {},
   "outputs": [
    {
     "name": "stdout",
     "output_type": "stream",
     "text": [
      "tensor(2)\n"
     ]
    }
   ],
   "source": [
    "print(class_306_labels_origin[90])"
   ]
  },
  {
   "cell_type": "code",
   "execution_count": 55,
   "metadata": {},
   "outputs": [
    {
     "name": "stdout",
     "output_type": "stream",
     "text": [
      "tensor([2, 2, 2, 2, 2, 3, 3, 3, 3, 3, 4, 4, 4, 4, 4, 5, 5, 5, 5, 5])\n"
     ]
    }
   ],
   "source": [
    "print(class_306_labels_origin_val[10:30])"
   ]
  },
  {
   "cell_type": "markdown",
   "metadata": {},
   "source": [
    "# Make 306 binary labels"
   ]
  },
  {
   "cell_type": "code",
   "execution_count": 56,
   "metadata": {},
   "outputs": [
    {
     "name": "stdout",
     "output_type": "stream",
     "text": [
      "     latex_0  latex_1  latex_2  latex_3  latex_4  latex_5  latex_6  latex_7  \\\n",
      "300        0        1        0        0        1        0        1        1   \n",
      "301        0        1        0        0        1        0        1        1   \n",
      "302        0        1        0        0        1        0        1        1   \n",
      "303        0        1        0        0        1        1        0        0   \n",
      "304        0        1        0        0        1        1        0        0   \n",
      "305        0        1        0        0        1        1        0        0   \n",
      "\n",
      "     latex_8  latex_9  \n",
      "300        0        1  \n",
      "301        1        0  \n",
      "302        1        1  \n",
      "303        0        0  \n",
      "304        0        1  \n",
      "305        1        0  \n"
     ]
    },
    {
     "name": "stderr",
     "output_type": "stream",
     "text": [
      "C:\\Users\\99298\\anaconda3\\envs\\COMP0036-group-cw\\lib\\site-packages\\category_encoders\\utils.py:21: FutureWarning: is_categorical is deprecated and will be removed in a future version.  Use is_categorical_dtype instead\n",
      "  elif pd.api.types.is_categorical(cols):\n"
     ]
    }
   ],
   "source": [
    "##class306id\n",
    "encoder= ce.BinaryEncoder(cols=['latex'],return_df=True)\n",
    "binary_labels_df = encoder.fit_transform(class369_data_pd['latex'])\n",
    "print(binary_labels_df[300:306])\n"
   ]
  },
  {
   "cell_type": "markdown",
   "metadata": {},
   "source": [
    "## Make one hot encoding labels"
   ]
  },
  {
   "cell_type": "code",
   "execution_count": 57,
   "metadata": {},
   "outputs": [
    {
     "name": "stdout",
     "output_type": "stream",
     "text": [
      "   latex_1  latex_2  latex_3  latex_4  latex_5  latex_6  latex_7  latex_8  \\\n",
      "0        1        0        0        0        0        0        0        0   \n",
      "1        0        1        0        0        0        0        0        0   \n",
      "2        0        0        1        0        0        0        0        0   \n",
      "3        0        0        0        1        0        0        0        0   \n",
      "4        0        0        0        0        1        0        0        0   \n",
      "\n",
      "   latex_9  latex_10  ...  latex_297  latex_298  latex_299  latex_300  \\\n",
      "0        0         0  ...          0          0          0          0   \n",
      "1        0         0  ...          0          0          0          0   \n",
      "2        0         0  ...          0          0          0          0   \n",
      "3        0         0  ...          0          0          0          0   \n",
      "4        0         0  ...          0          0          0          0   \n",
      "\n",
      "   latex_301  latex_302  latex_303  latex_304  latex_305  latex_306  \n",
      "0          0          0          0          0          0          0  \n",
      "1          0          0          0          0          0          0  \n",
      "2          0          0          0          0          0          0  \n",
      "3          0          0          0          0          0          0  \n",
      "4          0          0          0          0          0          0  \n",
      "\n",
      "[5 rows x 306 columns]\n"
     ]
    },
    {
     "name": "stderr",
     "output_type": "stream",
     "text": [
      "C:\\Users\\99298\\anaconda3\\envs\\COMP0036-group-cw\\lib\\site-packages\\category_encoders\\utils.py:21: FutureWarning: is_categorical is deprecated and will be removed in a future version.  Use is_categorical_dtype instead\n",
      "  elif pd.api.types.is_categorical(cols):\n"
     ]
    }
   ],
   "source": [
    "encoder = ce.OneHotEncoder(cols=['latex'],return_df=True)\n",
    "onehot_labels_df = encoder.fit_transform(class369_data_pd['latex'])\n",
    "print(onehot_labels_df.head())"
   ]
  },
  {
   "cell_type": "markdown",
   "metadata": {},
   "source": [
    "## Transform labels to numpy"
   ]
  },
  {
   "cell_type": "code",
   "execution_count": 58,
   "metadata": {},
   "outputs": [
    {
     "name": "stdout",
     "output_type": "stream",
     "text": [
      "(306, 9)\n",
      "[[1. 0. 0. 1. 1. 0. 0. 0. 1.]]\n"
     ]
    }
   ],
   "source": [
    "binary_labels_np_unfixed = binary_labels_df.to_numpy()\n",
    "binary_labels_np = np.zeros([binary_labels_np_unfixed.shape[0],9])\n",
    "for i in range(len(binary_labels_np_unfixed)):\n",
    "    binary_labels_np[i] = binary_labels_np_unfixed[i][1:]\n",
    "print(binary_labels_np.shape)\n",
    "print(binary_labels_np[304:305])\n"
   ]
  },
  {
   "cell_type": "code",
   "execution_count": 59,
   "metadata": {},
   "outputs": [
    {
     "name": "stdout",
     "output_type": "stream",
     "text": [
      "(306, 306)\n",
      "[[1 0 0 ... 0 0 0]\n",
      " [0 1 0 ... 0 0 0]\n",
      " [0 0 1 ... 0 0 0]\n",
      " [0 0 0 ... 0 0 0]\n",
      " [0 0 0 ... 0 0 0]]\n"
     ]
    }
   ],
   "source": [
    "onehot_labels_np = onehot_labels_df.to_numpy()\n",
    "print(onehot_labels_np.shape)\n",
    "print(onehot_labels_np[0:5])"
   ]
  },
  {
   "cell_type": "code",
   "execution_count": 60,
   "metadata": {},
   "outputs": [],
   "source": [
    "training_numbers = [] \n",
    "testing_numbers = []\n",
    "for training_number in class369_data_pd['training_samples']:\n",
    "    training_numbers.append(training_number)\n",
    "for testing_number in class369_data_pd['test_samples']:\n",
    "    testing_numbers.append(testing_number)"
   ]
  },
  {
   "cell_type": "markdown",
   "metadata": {},
   "source": [
    "## fit labels in shape :(number,label)"
   ]
  },
  {
   "cell_type": "code",
   "execution_count": 61,
   "metadata": {},
   "outputs": [],
   "source": [
    "def make_2Dnparray(value,size):\n",
    "    arr = np.zeros((size,len(value)))\n",
    "    for i in range(size):\n",
    "        arr[i] = value\n",
    "    return arr  \n",
    "\n",
    "def make_labels(labels,numbers):\n",
    "    result = make_2Dnparray(labels[0],numbers[0])\n",
    "    for i in range(len(numbers)-1):\n",
    "        result = np.concatenate((result,make_2Dnparray(labels[i+1],numbers[i+1])))\n",
    "    return result\n",
    "    "
   ]
  },
  {
   "cell_type": "markdown",
   "metadata": {},
   "source": [
    "## new code"
   ]
  },
  {
   "cell_type": "code",
   "execution_count": 62,
   "metadata": {},
   "outputs": [],
   "source": [
    "def make_certain_labels(labels_np,number):\n",
    "    result = make_2Dnparray(labels_np[0],number)\n",
    "    for i in range(305):\n",
    "        result = np.concatenate((result,make_2Dnparray(labels_np[i+1],number)))\n",
    "    return result    \n",
    "class_306_labels_binary = make_certain_labels(binary_labels_np,45)\n",
    "class_306_labels_binary_val = make_certain_labels(binary_labels_np,5)\n",
    "class_306_labels_onehot = make_certain_labels(onehot_labels_np,45)\n",
    "class_306_labels_onehot_val = make_certain_labels(onehot_labels_np,5)"
   ]
  },
  {
   "cell_type": "code",
   "execution_count": 63,
   "metadata": {},
   "outputs": [
    {
     "name": "stdout",
     "output_type": "stream",
     "text": [
      "(13770, 306)\n",
      "(1530, 306)\n"
     ]
    }
   ],
   "source": [
    "print(class_306_labels_onehot.shape)\n",
    "print(class_306_labels_onehot_val.shape)"
   ]
  },
  {
   "cell_type": "code",
   "execution_count": null,
   "metadata": {},
   "outputs": [],
   "source": []
  },
  {
   "cell_type": "code",
   "execution_count": null,
   "metadata": {},
   "outputs": [],
   "source": []
  },
  {
   "cell_type": "markdown",
   "metadata": {},
   "source": [
    "# Start experiments"
   ]
  },
  {
   "cell_type": "markdown",
   "metadata": {},
   "source": [
    "## Load training images"
   ]
  },
  {
   "cell_type": "code",
   "execution_count": 64,
   "metadata": {},
   "outputs": [],
   "source": [
    "def reverse10(arr):\n",
    "    shape = arr.shape\n",
    "    for i in range(shape[0]):\n",
    "        for j in range(shape[2]):\n",
    "            for k in range(shape[3]):\n",
    "                if arr[i][0][j][k] == 0.:\n",
    "                    arr[i][0][j][k] = 1.\n",
    "                else:\n",
    "                    arr[i][0][j][k] = 0.\n",
    "    return arr"
   ]
  },
  {
   "cell_type": "code",
   "execution_count": 65,
   "metadata": {},
   "outputs": [],
   "source": [
    "totensor = transforms.ToTensor()\n",
    "topil = transforms.ToPILImage()\n",
    "channels = 1\n",
    "height = 32\n",
    "width = 32\n",
    "\n",
    "def load_306_images(folder,folder2):\n",
    "    # 45 images for each classes so 3015 below\n",
    "    images = torch.zeros(13770,channels,height,width)\n",
    "    files = os.listdir(folder)\n",
    "    files2 = os.listdir(folder2)\n",
    "    start = 0\n",
    "    image_dataset_index = 0\n",
    "    for i in range(168):\n",
    "        for j in range(45):\n",
    "            img = Image.open(os.path.join(folder,files[15000+image_dataset_index + j])).convert('L')\n",
    "            images[start] = totensor(img)\n",
    "            start += 1\n",
    "        image_dataset_index += training_numbers[i]  \n",
    "    image_dataset_index -= (92673-15000) ## images in first folder \n",
    "    for i in range(138):\n",
    "        for j in range(45):\n",
    "            img = Image.open(os.path.join(folder2,files2[image_dataset_index + j])).convert('L')\n",
    "            images[start] = totensor(img)\n",
    "            start += 1\n",
    "        image_dataset_index += training_numbers[168+i]      \n",
    "    return images \n",
    "class_369_folder = '..\\dataset\\classes369\\\\newhasy-data'\n",
    "class_369_folder2 = '..\\dataset\\classes369\\\\newhasy-data1'"
   ]
  },
  {
   "cell_type": "code",
   "execution_count": 66,
   "metadata": {},
   "outputs": [],
   "source": [
    "files = os.listdir(class_369_folder2)\n",
    "names = ''\n",
    "for i in files:\n",
    "    names = names + i + ','\n",
    "name = open('names.txt','w+') \n",
    "name.write(names)\n",
    "name.close()"
   ]
  },
  {
   "cell_type": "code",
   "execution_count": 67,
   "metadata": {},
   "outputs": [],
   "source": [
    "images_train_t = load_306_images(class_369_folder,class_369_folder2)\n",
    "images_train_t = reverse10(images_train_t)"
   ]
  },
  {
   "cell_type": "code",
   "execution_count": 68,
   "metadata": {},
   "outputs": [
    {
     "data": {
      "text/plain": [
       "<matplotlib.image.AxesImage at 0x1c9478d7608>"
      ]
     },
     "execution_count": 68,
     "metadata": {},
     "output_type": "execute_result"
    },
    {
     "data": {
      "image/png": "[encoded data removed]",
      "text/plain": [
       "<Figure size 432x288 with 1 Axes>"
      ]
     },
     "metadata": {
      "needs_background": "light"
     },
     "output_type": "display_data"
    }
   ],
   "source": [
    "plt.imshow(np.asarray(topil(images_train_t[13724])),'gray')\n"
   ]
  },
  {
   "cell_type": "markdown",
   "metadata": {},
   "source": [
    "## Load validation set"
   ]
  },
  {
   "cell_type": "code",
   "execution_count": 69,
   "metadata": {},
   "outputs": [],
   "source": [
    "totensor = transforms.ToTensor()\n",
    "topil = transforms.ToPILImage()\n",
    "channels = 1\n",
    "height = 32\n",
    "width = 32\n",
    "class_369_folder = '..\\dataset\\classes369\\\\newhasy-data'\n",
    "class_369_folder2 = '..\\dataset\\classes369\\\\newhasy-data1'\n",
    "def load_val_images(folder):\n",
    "    # 5 images for each classes so 3015 below\n",
    "    images = torch.zeros(1530,channels,height,width)\n",
    "    files = os.listdir(folder)\n",
    "    start = 0\n",
    "    image_dataset_index = 0\n",
    "    for i in range(306):\n",
    "        for j in range(5):\n",
    "            img =Image.open(os.path.join(folder,files[image_dataset_index + j])).convert('L')\n",
    "            images[start] = totensor(img)\n",
    "            start += 1\n",
    "        image_dataset_index += testing_numbers[i]      \n",
    "    return images "
   ]
  },
  {
   "cell_type": "code",
   "execution_count": 70,
   "metadata": {},
   "outputs": [],
   "source": [
    "images_val_t = load_val_images(class_369_folder)\n",
    "images_val_t = reverse10(images_val_t)"
   ]
  },
  {
   "cell_type": "code",
   "execution_count": 71,
   "metadata": {},
   "outputs": [
    {
     "data": {
      "text/plain": [
       "<matplotlib.image.AxesImage at 0x1c94793af48>"
      ]
     },
     "execution_count": 71,
     "metadata": {},
     "output_type": "execute_result"
    },
    {
     "data": {
      "image/png": "[encoded data removed]",
      "text/plain": [
       "<Figure size 432x288 with 1 Axes>"
      ]
     },
     "metadata": {
      "needs_background": "light"
     },
     "output_type": "display_data"
    }
   ],
   "source": [
    "plt.imshow(np.asarray(topil(images_val_t[1529])),'gray')"
   ]
  },
  {
   "cell_type": "markdown",
   "metadata": {},
   "source": [
    "## <font color='blue'>Dataset Definition</font>"
   ]
  },
  {
   "cell_type": "code",
   "execution_count": 72,
   "metadata": {},
   "outputs": [],
   "source": [
    "from torch.utils.data import Dataset, DataLoader\n",
    "import torch.nn as nn"
   ]
  },
  {
   "cell_type": "code",
   "execution_count": 73,
   "metadata": {},
   "outputs": [],
   "source": [
    "class Augmented_dataset(Dataset):\n",
    "    def __init__(self, imgs, labels):\n",
    "        self.imgs = imgs\n",
    "        self.labels = labels\n",
    "        \n",
    "\n",
    "    def __len__(self):\n",
    "        # RETURN SIZE OF DATASET\n",
    "        length = len(self.labels) \n",
    "        return length\n",
    "\n",
    "    def __getitem__(self, idx):\n",
    "        # RETURN IMAGE AT GIVEN idx\n",
    "        image = self.imgs[idx]\n",
    "        choice = np.random.randint(6)\n",
    "        if choice ==0:\n",
    "            pass\n",
    "        elif choice ==1:\n",
    "            image = rotate(image)\n",
    "        elif choice ==2:\n",
    "            image = hor_translate(image)\n",
    "        elif choice ==3:\n",
    "            image = ver_translate(image)\n",
    "        elif choice ==4:\n",
    "            image = com1(image)\n",
    "        else:\n",
    "            image = com2(image)    \n",
    "        label = self.labels[idx]\n",
    "        return image,label"
   ]
  },
  {
   "cell_type": "code",
   "execution_count": 74,
   "metadata": {},
   "outputs": [],
   "source": [
    "images_doc = Augmented_dataset(images_train_t,class_306_labels_binary)\n",
    "images_dataloader = DataLoader(images_doc,shuffle=True,batch_size=100,num_workers=0)"
   ]
  },
  {
   "cell_type": "code",
   "execution_count": 75,
   "metadata": {},
   "outputs": [],
   "source": [
    "def compute_accuracy(output, target):\n",
    "    correct = 0\n",
    "    shape = output.shape   \n",
    "    for i in range(shape[0]):\n",
    "        eq = True\n",
    "        for j in range(shape[1]):\n",
    "            if output[i][j] != target[i][j]:\n",
    "                eq = False\n",
    "                break\n",
    "        if eq:\n",
    "            correct += 1\n",
    "    return correct/shape[0]  \n",
    "\n",
    "def transfer_output_binary(arr):\n",
    "    for i in range(arr.shape[0]):\n",
    "        for j in range(arr.shape[1]):\n",
    "            if arr[i][j] >0.5:\n",
    "                arr[i][j]=1\n",
    "            else:\n",
    "                arr[i][j]=0\n",
    "    return arr         "
   ]
  },
  {
   "cell_type": "code",
   "execution_count": 76,
   "metadata": {},
   "outputs": [],
   "source": [
    "# this one is for regression output\n",
    "def cnn_score(model2CNN,X,y,transfer = True):\n",
    "    y = torch.from_numpy(y)\n",
    "    y = y.type(torch.float32)\n",
    "    output = model2CNN(X)\n",
    "    if transfer:\n",
    "        output = transfer_output_binary(output)\n",
    "    ssr = torch.pow((y-output),2)\n",
    "    ssr = ssr.sum()\n",
    "    sst = torch.pow((y-(y.mean())),2)\n",
    "    sst = sst.sum()\n",
    "    score = 1-(ssr/sst)\n",
    "    print('socre is:',score)\n",
    "    return output\n",
    "\n",
    "# this one is for binary output\n",
    "def cnn_predict(model,X,len_y,transfer):\n",
    "    model.eval()\n",
    "    result = torch.zeros((X.shape[0],len_y))\n",
    "    if transfer:\n",
    "        for i in range(len(X)):\n",
    "            output = model(X[i:i+1])\n",
    "            result[i:i+1] = transfer_output_binary(output)\n",
    "    else:\n",
    "        for i in range(len(X)):\n",
    "            output = model(X[i:i+1])\n",
    "            result[i:i+1] = output     \n",
    "    return result  "
   ]
  },
  {
   "cell_type": "code",
   "execution_count": 77,
   "metadata": {},
   "outputs": [],
   "source": [
    "def cnn_fit(model2CNN,docs = None,loss_function = nn.MSELoss(),epochs = 1,add_softmax=False):\n",
    "    model2CNN.train()\n",
    "    model2CNN_optimizer =  torch.optim.Adam(model2CNN.parameters(), lr=0.01,weight_decay=1e-6) \n",
    "    loss =0\n",
    "    n = 0\n",
    "    for ep in range(epochs):\n",
    "        for i, data in enumerate(docs):\n",
    "            model2CNN_optimizer.zero_grad()\n",
    "            output = model2CNN(data[0])\n",
    "            if add_softmax:\n",
    "                target = data[1]\n",
    "            else:\n",
    "                target = data[1].type(torch.float32)\n",
    "            loss = loss_function(output,target)\n",
    "            loss.backward()\n",
    "            model2CNN_optimizer.step()\n",
    "            print(\"loss:\",loss)\n",
    "    print('final loss:',loss)        \n",
    "    return model2CNN"
   ]
  },
  {
   "cell_type": "markdown",
   "metadata": {},
   "source": [
    "# Pytorch Lightning"
   ]
  },
  {
   "cell_type": "code",
   "execution_count": 78,
   "metadata": {},
   "outputs": [],
   "source": [
    "class Test_dataset(Dataset):\n",
    "    def __init__(self, imgs, labels):\n",
    "        self.imgs = imgs\n",
    "        self.labels = labels\n",
    "        \n",
    "\n",
    "    def __len__(self):\n",
    "        # RETURN SIZE OF DATASET\n",
    "        length = len(self.labels) \n",
    "        return length\n",
    "\n",
    "    def __getitem__(self, idx):\n",
    "        # RETURN IMAGE AT GIVEN idx\n",
    "        image = self.imgs[idx]   \n",
    "        label = self.labels[idx]\n",
    "        return image,label"
   ]
  },
  {
   "cell_type": "code",
   "execution_count": 79,
   "metadata": {},
   "outputs": [],
   "source": [
    "images_val_doc = Test_dataset(images_val_t,class_306_labels_origin_val)\n",
    "images_val_dataloader = DataLoader(images_val_doc,shuffle=True,batch_size=100,num_workers=0)"
   ]
  },
  {
   "cell_type": "code",
   "execution_count": 80,
   "metadata": {},
   "outputs": [],
   "source": [
    "def cnn_predict_lightning(model,X,len_y,transfer):\n",
    "    model.eval()\n",
    "    result = torch.zeros((X.shape[0],len_y))\n",
    "    if transfer:\n",
    "        for i in range(len(X)):\n",
    "            output =torch.sigmoid( model(X[i:i+1]))#.to(device = 'cuda'))\n",
    "            result[i:i+1] = transfer_output_binary(output)\n",
    "    else:\n",
    "        for i in range(len(X)):\n",
    "            output = model(X[i:i+1])#.to(device = 'cuda'))\n",
    "            result[i:i+1] = output     \n",
    "    return result  "
   ]
  },
  {
   "cell_type": "code",
   "execution_count": 81,
   "metadata": {},
   "outputs": [],
   "source": [
    "import time"
   ]
  },
  {
   "cell_type": "code",
   "execution_count": 82,
   "metadata": {},
   "outputs": [],
   "source": [
    "def train_cnn(model,dataloader = images_dataloader,max_ep = 30):\n",
    "    trainer = pl.Trainer(max_epochs = max_ep,gpus = 1,precision = 16)\n",
    "    ''' lr_learnt = False\n",
    "    lrs = []\n",
    "    for i in range(5):\n",
    "        trainer.tune(model,train_dataloader = dataloader)\n",
    "        lrs.append(model.learning_rate)\n",
    "        if model.learning_rate > 1e-5 and model.learning_rate < 0.1:\n",
    "            lr_learnt = True\n",
    "            break\n",
    "    average = sum(lrs)/5.        \n",
    "    if lr_learnt == False and average>0.5:\n",
    "        model.learning_rate = 0.001\n",
    "    else:\n",
    "        model.learning_rate = average\n",
    "    print('learning rate:',model.learning_rate)'''\n",
    "    start = time.time()\n",
    "    trainer.fit(model,dataloader)\n",
    "    print(time.time()-start)\n",
    "    trainer = None \n",
    "    del trainer\n",
    "    gc.collect()\n",
    "    torch.cuda.empty_cache()\n",
    "    gc.collect()\n",
    "    \n",
    "def test_cnn(model):\n",
    "    output = cnn_predict_lightning(model,images_val_t,9,transfer = True)\n",
    "    accuracy = compute_accuracy(output,torch.tensor(class_306_labels_binary_val))\n",
    "    print(accuracy)\n",
    "    return output"
   ]
  },
  {
   "cell_type": "code",
   "execution_count": 83,
   "metadata": {},
   "outputs": [],
   "source": [
    "def test_cnn_onehot(model):\n",
    "    output = cnn_predict_lightning_onehot(model,images_val_t)\n",
    "    accuracy = compute_accuracy_onehot(output,class_306_labels_origin_val)\n",
    "    print(accuracy)\n",
    "    return output,accuracy\n",
    "\n",
    "def compute_accuracy_onehot(output, target):\n",
    "    correct = 0\n",
    "    shape = output.shape   \n",
    "    for i in range(shape[0]):\n",
    "        if output[i] == target[i]:\n",
    "            correct+=1\n",
    "    return correct/shape[0] \n",
    "\n",
    "def cnn_predict_lightning_onehot(model,X):\n",
    "    model.eval()\n",
    "    result = torch.zeros(X.shape[0])\n",
    "    for i in range(len(X)):\n",
    "        output =torch.argmax( model(X[i:i+1]))#.to(device = 'cuda'))\n",
    "        result[i:i+1] = output\n",
    "    return result "
   ]
  },
  {
   "cell_type": "code",
   "execution_count": 84,
   "metadata": {},
   "outputs": [],
   "source": [
    "images_doc_onehot = Augmented_dataset(images_train_t,class_306_labels_origin)\n",
    "images_dataloader_onehot = DataLoader(images_doc_onehot,shuffle=True,batch_size=100,num_workers=0)"
   ]
  },
  {
   "cell_type": "markdown",
   "metadata": {},
   "source": [
    "## CNN21"
   ]
  },
  {
   "cell_type": "code",
   "execution_count": null,
   "metadata": {},
   "outputs": [],
   "source": [
    "from pytorch_lightning.callbacks.early_stopping import EarlyStopping\n",
    "class CNN21(pl.LightningModule):\n",
    "    def __init__(self,loss_func,lr = 1e-3):\n",
    "        super().__init__()\n",
    "        self.loss_func = loss_func\n",
    "        self.learning_rate = lr\n",
    "        self.conv1 = nn.Sequential( \n",
    "            nn.Conv2d(1, 64, kernel_size=3, stride=1),\n",
    "            nn.BatchNorm2d(64),\n",
    "            #30\n",
    "            nn.ReLU(),\n",
    "            nn.Conv2d(64, 128, kernel_size=3, stride=1),\n",
    "            nn.BatchNorm2d(128),\n",
    "            #28\n",
    "            nn.ReLU(),\n",
    "            nn.MaxPool2d(2, stride=2))\n",
    "        #14\n",
    "        self.conv2 = nn.Sequential(\n",
    "            nn.Conv2d(128, 256, kernel_size=3, stride=1),\n",
    "            nn.BatchNorm2d(256),\n",
    "            #12\n",
    "            nn.ReLU(),\n",
    "            nn.MaxPool2d(2, stride=2))\n",
    "        #6\n",
    "        self.conv3 = nn.Sequential(\n",
    "            nn.Conv2d(256, 512, kernel_size=3, stride=1),\n",
    "            #4\n",
    "            nn.BatchNorm2d(512),\n",
    "            nn.ReLU(),\n",
    "            nn.MaxPool2d(2, stride=2),\n",
    "        #2\n",
    "            nn.Dropout())\n",
    "        self.fc1 = nn.Linear(2048, 100)\n",
    "        self.fc2 = nn.Linear(100,9)\n",
    "    \n",
    "    def forward(self, x):\n",
    "        # \n",
    "        # x : batch_size x 3 x 32 x 32\n",
    "        f = nn.functional\n",
    "        out = self.conv1(x)\n",
    "        out = self.conv2(out)\n",
    "        out = self.conv3(out) \n",
    "        out = out.view(x.shape[0], out.shape[1]*out.shape[2]*out.shape[3])\n",
    "        linearOut = f.relu(self.fc1(out))\n",
    "        #linearOut = torch.sigmoid(self.fc2(linearOut))\n",
    "        linearOut = self.fc2(linearOut)\n",
    "        return linearOut\n",
    "    \n",
    "    def configure_optimizers(self):\n",
    "        optimizer = torch.optim.Adam(self.parameters(), lr=self.learning_rate)\n",
    "        return optimizer\n",
    "    \n",
    "    def training_step(self,batch,batch_idx):\n",
    "        x,y = batch\n",
    "        y_hat = self(x)\n",
    "        loss = self.loss_func(y_hat,y)\n",
    "        #self.log('train_loss', loss)\n",
    "        return loss"
   ]
  },
  {
   "cell_type": "code",
   "execution_count": null,
   "metadata": {},
   "outputs": [],
   "source": [
    "cnn21 = CNN21(nn.BCEWithLogitsLoss())\n",
    "trainer_cnn21 = pl.Trainer(max_epochs = 150,gpus = 1,precision = 16,auto_lr_find=True)\n",
    "trainer_cnn21.tune(cnn21,train_dataloader = images_dataloader)\n",
    "cnn21.learning_rate"
   ]
  },
  {
   "cell_type": "code",
   "execution_count": null,
   "metadata": {},
   "outputs": [],
   "source": [
    "start = time.time()\n",
    "trainer_cnn21.fit(cnn21,images_dataloader)\n",
    "print(time.time()-start)"
   ]
  },
  {
   "cell_type": "code",
   "execution_count": null,
   "metadata": {},
   "outputs": [],
   "source": [
    "torch.save(cnn21.state_dict(), model_path+'\\\\cnn21.pth')"
   ]
  },
  {
   "cell_type": "code",
   "execution_count": null,
   "metadata": {},
   "outputs": [],
   "source": [
    "cnn21 = CNN21(nn.BCEWithLogitsLoss())\n",
    "cnn21.load_state_dict(torch.load(model_path+'\\\\cnn21.pth'))"
   ]
  },
  {
   "cell_type": "code",
   "execution_count": null,
   "metadata": {},
   "outputs": [],
   "source": [
    "output_cnn21 = test_cnn(cnn21)"
   ]
  },
  {
   "cell_type": "code",
   "execution_count": null,
   "metadata": {},
   "outputs": [],
   "source": [
    "output_cnn21 = cnn_predict_lightning(cnn21,images_val_t,9,transfer = True)\n",
    "accuracy_cnn21 = compute_accuracy(output_cnn21,torch.tensor(class_306_labels_binary_val))\n",
    "print(accuracy_cnn21)"
   ]
  },
  {
   "cell_type": "code",
   "execution_count": null,
   "metadata": {},
   "outputs": [],
   "source": [
    "print(output_cnn21[0:10])"
   ]
  },
  {
   "cell_type": "code",
   "execution_count": null,
   "metadata": {},
   "outputs": [],
   "source": []
  },
  {
   "cell_type": "markdown",
   "metadata": {},
   "source": [
    "## CNN 23"
   ]
  },
  {
   "cell_type": "code",
   "execution_count": null,
   "metadata": {},
   "outputs": [],
   "source": [
    "class CNN23(pl.LightningModule):\n",
    "    def __init__(self,loss_func,lr = 1e-3):\n",
    "        super().__init__()\n",
    "        self.loss_func = loss_func\n",
    "        self.learning_rate = lr\n",
    "        self.conv1 = nn.Sequential( \n",
    "            nn.Conv2d(1, 64, kernel_size=3, stride=1),\n",
    "            nn.BatchNorm2d(64),\n",
    "            #30\n",
    "            nn.ReLU(),\n",
    "            nn.Conv2d(64, 128, kernel_size=3, stride=1),\n",
    "            nn.BatchNorm2d(128),\n",
    "            #28\n",
    "            nn.ReLU(),\n",
    "            nn.MaxPool2d(2, stride=2))\n",
    "        #14\n",
    "        self.conv2 = nn.Sequential(\n",
    "            nn.Conv2d(128, 128, kernel_size=3, stride=1),\n",
    "            nn.BatchNorm2d(128),\n",
    "            #12\n",
    "            nn.ReLU(),\n",
    "            nn.Conv2d(128, 256, kernel_size=3, stride=1),\n",
    "            nn.BatchNorm2d(256),\n",
    "            #10\n",
    "            nn.ReLU(),\n",
    "            nn.MaxPool2d(2, stride=2))\n",
    "        #5\n",
    "        self.conv3 = nn.Sequential(\n",
    "            nn.Conv2d(256, 512, kernel_size=3, stride=1),\n",
    "            #3\n",
    "            nn.BatchNorm2d(512),\n",
    "            nn.ReLU(),\n",
    "            nn.MaxPool2d(2, stride=1),\n",
    "        #2\n",
    "            nn.Dropout())\n",
    "        self.fc1 = nn.Linear(2048, 1000)\n",
    "        self.fc2 = nn.Linear(1000,100)\n",
    "        self.fc3 = nn.Linear(100,9)\n",
    "    \n",
    "    def forward(self, x):\n",
    "        # \n",
    "        # x : batch_size x 3 x 32 x 32\n",
    "        f = nn.functional\n",
    "        out = self.conv1(x)\n",
    "        out = self.conv2(out)\n",
    "        out = self.conv3(out) \n",
    "        out = out.view(x.shape[0], out.shape[1]*out.shape[2]*out.shape[3])\n",
    "        linearOut = f.relu(self.fc1(out))\n",
    "        #linearOut = torch.sigmoid(self.fc2(linearOut))\n",
    "        linearOut = f.relu(self.fc2(linearOut))\n",
    "        linearOut = self.fc3(linearOut)\n",
    "        return linearOut\n",
    "    \n",
    "    def configure_optimizers(self):\n",
    "        optimizer = torch.optim.Adam(self.parameters(), lr=self.learning_rate)\n",
    "        return optimizer\n",
    "    \n",
    "    def training_step(self,batch,batch_idx):\n",
    "        x,y = batch\n",
    "        y_hat = self(x)\n",
    "        loss = self.loss_func(y_hat,y)\n",
    "        #self.log('train_loss', loss)\n",
    "        return loss"
   ]
  },
  {
   "cell_type": "code",
   "execution_count": null,
   "metadata": {},
   "outputs": [],
   "source": [
    "cnn23 = CNN23(nn.BCEWithLogitsLoss())\n",
    "trainer_cnn23 = train_cnn(cnn23)"
   ]
  },
  {
   "cell_type": "code",
   "execution_count": null,
   "metadata": {},
   "outputs": [],
   "source": [
    "torch.save(cnn23.state_dict(), model_path+'\\\\cnn23.pth')"
   ]
  },
  {
   "cell_type": "code",
   "execution_count": null,
   "metadata": {},
   "outputs": [],
   "source": [
    "cnn23 = CNN23(nn.BCEWithLogitsLoss())\n",
    "cnn23.load_state_dict(torch.load(model_path+'\\\\cnn23.pth'))\n",
    "output_cnn23 = test_cnn(cnn23)"
   ]
  },
  {
   "cell_type": "code",
   "execution_count": null,
   "metadata": {},
   "outputs": [],
   "source": [
    "\n",
    "output_cnn23 = test_cnn(cnn23)"
   ]
  },
  {
   "cell_type": "code",
   "execution_count": null,
   "metadata": {},
   "outputs": [],
   "source": []
  },
  {
   "cell_type": "markdown",
   "metadata": {},
   "source": [
    "## CNN 24"
   ]
  },
  {
   "cell_type": "code",
   "execution_count": null,
   "metadata": {},
   "outputs": [],
   "source": [
    "class CNN24(pl.LightningModule):\n",
    "    def __init__(self,loss_func,lr = 1e-3):\n",
    "        super().__init__()\n",
    "        self.loss_func = loss_func\n",
    "        self.learning_rate = lr\n",
    "        self.conv1 = nn.Sequential( \n",
    "            nn.Conv2d(1, 64, kernel_size=3, stride=1),\n",
    "            nn.BatchNorm2d(64),\n",
    "            #30\n",
    "            nn.ReLU(),\n",
    "            nn.Conv2d(64, 128, kernel_size=3, stride=1),\n",
    "            nn.BatchNorm2d(128),\n",
    "            #28\n",
    "            nn.ReLU(),\n",
    "            nn.MaxPool2d(2, stride=2))\n",
    "        #14\n",
    "        self.conv2 = nn.Sequential(\n",
    "            nn.Conv2d(128, 128, kernel_size=3, stride=1),\n",
    "            nn.BatchNorm2d(128),\n",
    "            #12\n",
    "            nn.ReLU(),\n",
    "            nn.Conv2d(128, 256, kernel_size=3, stride=1),\n",
    "            nn.BatchNorm2d(256),\n",
    "            #10\n",
    "            nn.ReLU(),\n",
    "            nn.MaxPool2d(2, stride=2))\n",
    "        #5\n",
    "        self.conv3 = nn.Sequential(\n",
    "            nn.Conv2d(256, 512, kernel_size=3, stride=1),\n",
    "            #3\n",
    "            nn.BatchNorm2d(512),\n",
    "            nn.ReLU(),\n",
    "            nn.MaxPool2d(2, stride=1),\n",
    "        #2\n",
    "            nn.Dropout())\n",
    "        self.fc1 = nn.Linear(2048, 1000)\n",
    "        self.fc2 = nn.Linear(1000,1000)\n",
    "        self.fc3 = nn.Linear(1000,100)\n",
    "        self.fc4 = nn.Linear(100,9)\n",
    "    \n",
    "    def forward(self, x):\n",
    "        # \n",
    "        # x : batch_size x 3 x 32 x 32\n",
    "        f = nn.functional\n",
    "        out = self.conv1(x)\n",
    "        out = self.conv2(out)\n",
    "        out = self.conv3(out) \n",
    "        out = out.view(x.shape[0], out.shape[1]*out.shape[2]*out.shape[3])\n",
    "        linearOut = f.relu(self.fc1(out))\n",
    "        #linearOut = torch.sigmoid(self.fc2(linearOut))\n",
    "        linearOut = f.relu(self.fc2(linearOut))\n",
    "        linearOut = f.relu(self.fc3(linearOut))\n",
    "        linearOut = self.fc4(linearOut)\n",
    "        return linearOut\n",
    "    \n",
    "    def configure_optimizers(self):\n",
    "        optimizer = torch.optim.Adam(self.parameters(), lr=self.learning_rate)\n",
    "        return optimizer\n",
    "    \n",
    "    def training_step(self,batch,batch_idx):\n",
    "        x,y = batch\n",
    "        y_hat = self(x)\n",
    "        loss = self.loss_func(y_hat,y)\n",
    "        #self.log('train_loss', loss)\n",
    "        return loss"
   ]
  },
  {
   "cell_type": "code",
   "execution_count": null,
   "metadata": {},
   "outputs": [],
   "source": [
    "cnn24 = CNN24(nn.BCEWithLogitsLoss())\n",
    "trainer_cnn24 = train_cnn(cnn24)"
   ]
  },
  {
   "cell_type": "code",
   "execution_count": null,
   "metadata": {},
   "outputs": [],
   "source": [
    "torch.save(cnn24.state_dict(), model_path+'\\\\cnn24.pth')"
   ]
  },
  {
   "cell_type": "code",
   "execution_count": null,
   "metadata": {},
   "outputs": [],
   "source": [
    "cnn24 = CNN24(nn.BCEWithLogitsLoss())\n",
    "cnn24.load_state_dict(torch.load(model_path+'\\\\cnn24.pth'))\n",
    "_= test_cnn(cnn24)"
   ]
  },
  {
   "cell_type": "code",
   "execution_count": null,
   "metadata": {},
   "outputs": [],
   "source": [
    "cnn24.cpu()\n",
    "output_cnn24 = test_cnn(cnn24)"
   ]
  },
  {
   "cell_type": "code",
   "execution_count": null,
   "metadata": {},
   "outputs": [],
   "source": []
  },
  {
   "cell_type": "markdown",
   "metadata": {},
   "source": [
    "## CNN27"
   ]
  },
  {
   "cell_type": "code",
   "execution_count": null,
   "metadata": {},
   "outputs": [],
   "source": [
    "class CNN27(pl.LightningModule):\n",
    "    def __init__(self,loss_func,lr = 1e-3):\n",
    "        super().__init__()\n",
    "        self.loss_func = loss_func\n",
    "        self.learning_rate = lr\n",
    "        self.conv1 = nn.Sequential( \n",
    "            nn.Conv2d(1, 64, kernel_size=3, stride=1,padding = 1),\n",
    "            nn.BatchNorm2d(64),\n",
    "            #32\n",
    "            nn.ReLU(),\n",
    "            nn.Conv2d(64, 64, kernel_size=3, stride=1,padding = 1),\n",
    "            nn.BatchNorm2d(64),\n",
    "            #32\n",
    "            nn.ReLU(),\n",
    "            nn.Conv2d(64, 128, kernel_size=3, stride=1,padding = 1),\n",
    "            nn.BatchNorm2d(128),\n",
    "            #32\n",
    "            nn.ReLU(),\n",
    "            nn.MaxPool2d(2, stride=2))\n",
    "        #16\n",
    "        self.conv2 = nn.Sequential(\n",
    "            nn.Conv2d(128, 128, kernel_size=3, stride=1,padding = 1),\n",
    "            nn.BatchNorm2d(128),\n",
    "            #16\n",
    "            nn.ReLU(),\n",
    "            nn.Conv2d(128, 128, kernel_size=3, stride=1,padding = 1),\n",
    "            nn.BatchNorm2d(128),\n",
    "            #16\n",
    "            nn.ReLU(),\n",
    "            nn.Conv2d(128, 256, kernel_size=3, stride=1,padding = 1),\n",
    "            nn.BatchNorm2d(256),\n",
    "            #16\n",
    "            nn.ReLU(),\n",
    "            nn.MaxPool2d(2, stride=2))\n",
    "        #8\n",
    "        self.conv3 = nn.Sequential(\n",
    "            nn.Conv2d(256, 256, kernel_size=3, stride=1,padding = 1),\n",
    "            #8\n",
    "            nn.BatchNorm2d(256),\n",
    "            nn.ReLU(),\n",
    "            nn.Conv2d(256, 256, kernel_size=3, stride=1,padding = 1),\n",
    "            #8\n",
    "            nn.BatchNorm2d(256),\n",
    "            nn.ReLU(),\n",
    "            nn.Conv2d(256, 256, kernel_size=3, stride=1,padding = 1),\n",
    "            #8\n",
    "            nn.BatchNorm2d(256),\n",
    "            nn.ReLU(),\n",
    "            nn.MaxPool2d(2, stride=2))\n",
    "        self.conv4 = nn.Sequential(\n",
    "            nn.Conv2d(256, 256, kernel_size=3, stride=1,padding = 1),\n",
    "            #4\n",
    "            nn.BatchNorm2d(256),\n",
    "            nn.ReLU(),\n",
    "            nn.Conv2d(256, 256, kernel_size=3, stride=1,padding = 1),\n",
    "            #4\n",
    "            nn.BatchNorm2d(256),\n",
    "            nn.ReLU(),\n",
    "            nn.Conv2d(256, 512, kernel_size=3, stride=1,padding = 1),\n",
    "            #4\n",
    "            nn.BatchNorm2d(512),\n",
    "            nn.ReLU(),\n",
    "            nn.MaxPool2d(2, stride=2),\n",
    "        #2\n",
    "            nn.Dropout())\n",
    "        self.fc1 = nn.Linear(2048, 1000)\n",
    "        self.fc2 = nn.Linear(1000,100)\n",
    "        self.fc3 = nn.Linear(100,9)\n",
    "    \n",
    "    def forward(self, x):\n",
    "        # \n",
    "        # x : batch_size x 3 x 32 x 32\n",
    "        f = nn.functional\n",
    "        out = self.conv1(x)\n",
    "        out = self.conv2(out)\n",
    "        out = self.conv3(out) \n",
    "        out = self.conv4(out)\n",
    "        out = out.view(x.shape[0], out.shape[1]*out.shape[2]*out.shape[3])\n",
    "        linearOut = f.relu(self.fc1(out))\n",
    "        #linearOut = torch.sigmoid(self.fc2(linearOut))\n",
    "        linearOut = f.relu(self.fc2(linearOut))\n",
    "        linearOut = self.fc3(linearOut)\n",
    "        return linearOut\n",
    "    \n",
    "    def configure_optimizers(self):\n",
    "        optimizer = torch.optim.Adam(self.parameters(), lr=self.learning_rate)\n",
    "        return optimizer\n",
    "    \n",
    "    def training_step(self,batch,batch_idx):\n",
    "        x,y = batch\n",
    "        y_hat = self(x)\n",
    "        loss = self.loss_func(y_hat,y)\n",
    "        #self.log('train_loss', loss)\n",
    "        return loss"
   ]
  },
  {
   "cell_type": "code",
   "execution_count": null,
   "metadata": {},
   "outputs": [],
   "source": [
    "cnn27 = CNN27(nn.BCEWithLogitsLoss())\n",
    "trainer_cnn27 = train_cnn(cnn27)"
   ]
  },
  {
   "cell_type": "code",
   "execution_count": null,
   "metadata": {},
   "outputs": [],
   "source": [
    "torch.save(cnn27.state_dict(), model_path+'\\\\cnn27.pth')"
   ]
  },
  {
   "cell_type": "code",
   "execution_count": null,
   "metadata": {},
   "outputs": [],
   "source": [
    "cnn27 =CNN27(nn.BCEWithLogitsLoss()) \n",
    "cnn27.load_state_dict(torch.load(model_path+'\\\\cnn27.pth'))"
   ]
  },
  {
   "cell_type": "code",
   "execution_count": null,
   "metadata": {},
   "outputs": [],
   "source": [
    "output_cnn27 = test_cnn(cnn27)"
   ]
  },
  {
   "cell_type": "code",
   "execution_count": null,
   "metadata": {},
   "outputs": [],
   "source": []
  },
  {
   "cell_type": "markdown",
   "metadata": {},
   "source": [
    "## CNN28"
   ]
  },
  {
   "cell_type": "code",
   "execution_count": null,
   "metadata": {},
   "outputs": [],
   "source": [
    "class CNN28(pl.LightningModule):\n",
    "    def __init__(self,loss_func,lr = 1e-3):\n",
    "        super().__init__()\n",
    "        self.loss_func = loss_func\n",
    "        self.learning_rate = lr\n",
    "        self.conv1 = nn.Sequential( \n",
    "            nn.Conv2d(1, 32, kernel_size=3, stride=1,padding = 1),\n",
    "            nn.BatchNorm2d(32),\n",
    "            #32\n",
    "            nn.LeakyReLU(),\n",
    "            nn.Conv2d(32, 32, kernel_size=3, stride=1,padding = 1),\n",
    "            nn.BatchNorm2d(32),\n",
    "            #32\n",
    "            nn.LeakyReLU(),\n",
    "            nn.MaxPool2d(2, stride=2))\n",
    "        #16\n",
    "        self.conv2 = nn.Sequential(\n",
    "            nn.Conv2d(32, 64, kernel_size=3, stride=1,padding = 1),\n",
    "            nn.BatchNorm2d(64),\n",
    "            #16\n",
    "            nn.LeakyReLU(),\n",
    "            nn.Conv2d(64, 64, kernel_size=3, stride=1,padding = 1),\n",
    "            nn.BatchNorm2d(64),\n",
    "            #16\n",
    "            nn.LeakyReLU(),\n",
    "            nn.MaxPool2d(2, stride=2))\n",
    "        #8\n",
    "        self.conv3 = nn.Sequential(\n",
    "            nn.Conv2d(64, 128, kernel_size=3, stride=1,padding = 1),\n",
    "            #8\n",
    "            nn.BatchNorm2d(128),\n",
    "            nn.LeakyReLU(),\n",
    "            nn.Conv2d(128, 128, kernel_size=3, stride=1,padding = 1),\n",
    "            #8\n",
    "            nn.BatchNorm2d(128),\n",
    "            nn.LeakyReLU(),\n",
    "            nn.Conv2d(128, 128, kernel_size=3, stride=1,padding = 1),\n",
    "            #8\n",
    "            nn.BatchNorm2d(128),\n",
    "            nn.LeakyReLU(),\n",
    "            nn.MaxPool2d(2, stride=2))\n",
    "        self.conv4 = nn.Sequential(\n",
    "            nn.Conv2d(128, 256, kernel_size=3, stride=1,padding = 1),\n",
    "            #4\n",
    "            nn.BatchNorm2d(256),\n",
    "            nn.LeakyReLU(),\n",
    "            nn.Conv2d(256, 256, kernel_size=3, stride=1,padding = 1),\n",
    "            #4\n",
    "            nn.BatchNorm2d(256),\n",
    "            nn.LeakyReLU(),\n",
    "            nn.Conv2d(256, 256, kernel_size=3, stride=1,padding = 1),\n",
    "            #4\n",
    "            nn.BatchNorm2d(256),\n",
    "            nn.LeakyReLU(),\n",
    "            nn.MaxPool2d(2, stride=2))\n",
    "        self.conv5 = nn.Sequential(\n",
    "            nn.Conv2d(256, 512, kernel_size=3, stride=1,padding = 1),\n",
    "            #2\n",
    "            nn.BatchNorm2d(512),\n",
    "            nn.LeakyReLU(),\n",
    "            nn.Conv2d(512, 512, kernel_size=3, stride=1,padding = 1),\n",
    "            #2\n",
    "            nn.BatchNorm2d(512),\n",
    "            nn.LeakyReLU(),\n",
    "            nn.Conv2d(512, 512, kernel_size=3, stride=1,padding = 1),\n",
    "            #2\n",
    "            nn.BatchNorm2d(512),\n",
    "            nn.LeakyReLU(),\n",
    "            nn.MaxPool2d(2, stride=2),\n",
    "        #1\n",
    "            nn.Dropout())\n",
    "        self.fc1 = nn.Linear(512, 512)\n",
    "        self.fc2 = nn.Linear(512,100)\n",
    "        self.fc3 = nn.Linear(100,9)\n",
    "    \n",
    "    def forward(self, x):\n",
    "        # \n",
    "        # x : batch_size x 3 x 32 x 32\n",
    "        f = nn.functional\n",
    "        out = self.conv1(x)\n",
    "        out = self.conv2(out)\n",
    "        out = self.conv3(out) \n",
    "        out = self.conv4(out)\n",
    "        out = self.conv5(out)\n",
    "        out = out.view(x.shape[0], out.shape[1]*out.shape[2]*out.shape[3])\n",
    "        linearOut = f.relu(self.fc1(out))\n",
    "        #linearOut = torch.sigmoid(self.fc2(linearOut))\n",
    "        linearOut = f.relu(self.fc2(linearOut))\n",
    "        linearOut = self.fc3(linearOut)\n",
    "        return linearOut\n",
    "    \n",
    "    def configure_optimizers(self):\n",
    "        optimizer = torch.optim.Adam(self.parameters(), lr=self.learning_rate)\n",
    "        return optimizer\n",
    "    \n",
    "    def training_step(self,batch,batch_idx):\n",
    "        x,y = batch\n",
    "        y_hat = self(x)\n",
    "        loss = self.loss_func(y_hat,y)\n",
    "        #self.log('train_loss', loss)\n",
    "        return loss"
   ]
  },
  {
   "cell_type": "code",
   "execution_count": null,
   "metadata": {},
   "outputs": [],
   "source": [
    "cnn28 = CNN28(nn.BCEWithLogitsLoss())\n",
    "trainer_cnn28 = train_cnn(cnn28)"
   ]
  },
  {
   "cell_type": "code",
   "execution_count": null,
   "metadata": {},
   "outputs": [],
   "source": [
    "torch.save(cnn28.state_dict(), model_path+'\\\\cnn28.pth')"
   ]
  },
  {
   "cell_type": "code",
   "execution_count": null,
   "metadata": {},
   "outputs": [],
   "source": [
    "cnn28 =CNN28(nn.BCEWithLogitsLoss()) \n",
    "cnn28.load_state_dict(torch.load(model_path+'\\\\cnn28.pth'))"
   ]
  },
  {
   "cell_type": "code",
   "execution_count": null,
   "metadata": {},
   "outputs": [],
   "source": [
    "output_cnn28 = test_cnn(cnn28)"
   ]
  },
  {
   "cell_type": "code",
   "execution_count": null,
   "metadata": {},
   "outputs": [],
   "source": [
    "print(output_cnn28[0:10])"
   ]
  },
  {
   "cell_type": "markdown",
   "metadata": {},
   "source": [
    "## CNN29"
   ]
  },
  {
   "cell_type": "code",
   "execution_count": null,
   "metadata": {},
   "outputs": [],
   "source": [
    "class CNN29(pl.LightningModule):\n",
    "    def __init__(self,loss_func,lr = 1e-3):\n",
    "        super().__init__()\n",
    "        self.loss_func = loss_func\n",
    "        self.learning_rate = lr\n",
    "        self.conv1 = nn.Sequential( \n",
    "            nn.Conv2d(1, 32, kernel_size=3, stride=1,padding = 1),\n",
    "            nn.BatchNorm2d(32),\n",
    "            #32\n",
    "            nn.LeakyReLU(),\n",
    "            nn.Conv2d(32, 32, kernel_size=3, stride=1,padding = 1),\n",
    "            nn.BatchNorm2d(32),\n",
    "            #32\n",
    "            nn.LeakyReLU(),\n",
    "            nn.MaxPool2d(2, stride=2))\n",
    "        #16\n",
    "        self.conv2 = nn.Sequential(\n",
    "            nn.Conv2d(32, 32, kernel_size=3, stride=1,padding = 1),\n",
    "            nn.BatchNorm2d(32),\n",
    "            #16\n",
    "            nn.LeakyReLU(),\n",
    "            nn.Conv2d(32, 64, kernel_size=3, stride=1,padding = 1),\n",
    "            nn.BatchNorm2d(64),\n",
    "            #16\n",
    "            nn.LeakyReLU(),\n",
    "            nn.MaxPool2d(2, stride=2))\n",
    "        #8\n",
    "        self.conv3 = nn.Sequential(\n",
    "            nn.Conv2d(64, 64, kernel_size=3, stride=1,padding = 1),\n",
    "            #8\n",
    "            nn.BatchNorm2d(64),\n",
    "            nn.LeakyReLU(),\n",
    "            nn.Conv2d(64, 64, kernel_size=3, stride=1,padding = 1),\n",
    "            #8\n",
    "            nn.BatchNorm2d(64),\n",
    "            nn.LeakyReLU(),\n",
    "            nn.Conv2d(64, 128, kernel_size=3, stride=1,padding = 1),\n",
    "            #8\n",
    "            nn.BatchNorm2d(128),\n",
    "            nn.LeakyReLU(),\n",
    "            nn.MaxPool2d(2, stride=2))\n",
    "        self.conv4 = nn.Sequential(\n",
    "            nn.Conv2d(128, 128, kernel_size=3, stride=1,padding = 1),\n",
    "            #4\n",
    "            nn.BatchNorm2d(128),\n",
    "            nn.LeakyReLU(),\n",
    "            nn.Conv2d(128, 128, kernel_size=3, stride=1,padding = 1),\n",
    "            #4\n",
    "            nn.BatchNorm2d(128),\n",
    "            nn.LeakyReLU(),\n",
    "            nn.Conv2d(128, 256, kernel_size=3, stride=1,padding = 1),\n",
    "            #4\n",
    "            nn.BatchNorm2d(256),\n",
    "            nn.LeakyReLU(),\n",
    "            nn.MaxPool2d(2, stride=2))\n",
    "        self.conv5 = nn.Sequential(\n",
    "            nn.Conv2d(256, 256, kernel_size=3, stride=1,padding = 1),\n",
    "            #2\n",
    "            nn.BatchNorm2d(256),\n",
    "            nn.LeakyReLU(),\n",
    "            nn.Conv2d(256, 256, kernel_size=3, stride=1,padding = 1),\n",
    "            #2\n",
    "            nn.BatchNorm2d(256),\n",
    "            nn.LeakyReLU(),\n",
    "            nn.Conv2d(256, 512, kernel_size=3, stride=1,padding = 1),\n",
    "            #2\n",
    "            nn.BatchNorm2d(512),\n",
    "            nn.LeakyReLU(),\n",
    "            nn.MaxPool2d(2, stride=2),\n",
    "        #1\n",
    "            nn.Dropout())\n",
    "        self.fc1 = nn.Linear(512, 512)\n",
    "        self.fc2 = nn.Linear(512,400)\n",
    "        self.fc3 = nn.Linear(400,9)\n",
    "    \n",
    "    def forward(self, x):\n",
    "        # \n",
    "        # x : batch_size x 3 x 32 x 32\n",
    "        f = nn.functional\n",
    "        out = self.conv1(x)\n",
    "        out = self.conv2(out)\n",
    "        out = self.conv3(out) \n",
    "        out = self.conv4(out)\n",
    "        out = self.conv5(out)\n",
    "        out = out.view(x.shape[0], out.shape[1]*out.shape[2]*out.shape[3])\n",
    "        linearOut = f.relu(self.fc1(out))\n",
    "        #linearOut = torch.sigmoid(self.fc2(linearOut))\n",
    "        linearOut = f.relu(self.fc2(linearOut))\n",
    "        linearOut = self.fc3(linearOut)\n",
    "        return linearOut\n",
    "    \n",
    "    def configure_optimizers(self):\n",
    "        optimizer = torch.optim.Adam(self.parameters(), lr=self.learning_rate)\n",
    "        return optimizer\n",
    "    \n",
    "    def training_step(self,batch,batch_idx):\n",
    "        x,y = batch\n",
    "        y_hat = self(x)\n",
    "        loss = self.loss_func(y_hat,y)\n",
    "        #self.log('train_loss', loss)\n",
    "        return loss"
   ]
  },
  {
   "cell_type": "code",
   "execution_count": null,
   "metadata": {},
   "outputs": [],
   "source": [
    "cnn29 = CNN29(nn.BCEWithLogitsLoss())\n",
    "trainer_cnn29 = train_cnn(cnn29)"
   ]
  },
  {
   "cell_type": "code",
   "execution_count": null,
   "metadata": {},
   "outputs": [],
   "source": [
    "torch.save(cnn29.state_dict(), model_path+'\\\\cnn29.pth')"
   ]
  },
  {
   "cell_type": "code",
   "execution_count": null,
   "metadata": {},
   "outputs": [],
   "source": [
    "cnn29 =CNN29(nn.BCEWithLogitsLoss()) \n",
    "cnn29.load_state_dict(torch.load(model_path+'\\\\cnn29.pth'))"
   ]
  },
  {
   "cell_type": "code",
   "execution_count": null,
   "metadata": {},
   "outputs": [],
   "source": [
    "output_cnn29 = test_cnn(cnn29)"
   ]
  },
  {
   "cell_type": "code",
   "execution_count": null,
   "metadata": {},
   "outputs": [],
   "source": []
  },
  {
   "cell_type": "markdown",
   "metadata": {},
   "source": [
    "## CNN30"
   ]
  },
  {
   "cell_type": "code",
   "execution_count": null,
   "metadata": {},
   "outputs": [],
   "source": [
    "class CNN30(pl.LightningModule):\n",
    "    def __init__(self,loss_func,lr = 1e-3):\n",
    "        super().__init__()\n",
    "        self.loss_func = loss_func\n",
    "        self.learning_rate = lr\n",
    "        self.conv1 = nn.Sequential( \n",
    "            nn.Conv2d(1, 64, kernel_size=3, stride=1,padding = 1),\n",
    "            nn.BatchNorm2d(64),\n",
    "            #32\n",
    "            nn.ReLU(),\n",
    "            nn.Conv2d(64, 64, kernel_size=3, stride=1,padding = 1),\n",
    "            nn.BatchNorm2d(64),\n",
    "            #32\n",
    "            nn.ReLU(),\n",
    "            nn.Conv2d(64, 128, kernel_size=3, stride=1,padding = 1),\n",
    "            nn.BatchNorm2d(128),\n",
    "            #32\n",
    "            nn.ReLU(),\n",
    "            nn.MaxPool2d(2, stride=2))\n",
    "        #16\n",
    "        self.conv2 = nn.Sequential(\n",
    "            nn.Conv2d(128, 128, kernel_size=3, stride=1,padding = 1),\n",
    "            nn.BatchNorm2d(128),\n",
    "            #16\n",
    "            nn.ReLU(),\n",
    "            nn.Conv2d(128, 128, kernel_size=3, stride=1,padding = 1),\n",
    "            nn.BatchNorm2d(128),\n",
    "            #16\n",
    "            nn.ReLU(),\n",
    "            nn.Conv2d(128, 256, kernel_size=3, stride=1,padding = 1),\n",
    "            nn.BatchNorm2d(256),\n",
    "            #16\n",
    "            nn.ReLU(),\n",
    "            nn.MaxPool2d(2, stride=2))\n",
    "        #8\n",
    "        self.conv3 = nn.Sequential(\n",
    "            nn.Conv2d(256, 256, kernel_size=3, stride=1,padding = 1),\n",
    "            #8\n",
    "            nn.BatchNorm2d(256),\n",
    "            nn.ReLU(),\n",
    "            nn.Conv2d(256, 256, kernel_size=3, stride=1),\n",
    "            #6\n",
    "            nn.BatchNorm2d(256),\n",
    "            nn.ReLU(),\n",
    "            nn.Conv2d(256, 512, kernel_size=3, stride=1),\n",
    "            #4\n",
    "            nn.BatchNorm2d(512),\n",
    "            nn.ReLU(),\n",
    "            nn.MaxPool2d(2, stride=2),\n",
    "        #2\n",
    "            nn.Dropout())\n",
    "        self.fc1 = nn.Linear(2048, 1000)\n",
    "        self.fc2 = nn.Linear(1000,500)\n",
    "        self.fc3 = nn.Linear(500,306)\n",
    "    \n",
    "    def forward(self, x):\n",
    "        # \n",
    "        # x : batch_size x 3 x 32 x 32\n",
    "        f = nn.functional\n",
    "        out = self.conv1(x)\n",
    "        out = self.conv2(out)\n",
    "        out = self.conv3(out) \n",
    "        out = out.view(x.shape[0], out.shape[1]*out.shape[2]*out.shape[3])\n",
    "        linearOut = f.relu(self.fc1(out))\n",
    "        #linearOut = torch.sigmoid(self.fc2(linearOut))\n",
    "        linearOut = f.relu(self.fc2(linearOut))\n",
    "        linearOut = self.fc3(linearOut)\n",
    "        return linearOut\n",
    "    \n",
    "    def configure_optimizers(self):\n",
    "        optimizer = torch.optim.Adam(self.parameters(), lr=self.learning_rate)\n",
    "        return optimizer\n",
    "    \n",
    "    def training_step(self,batch,batch_idx):\n",
    "        x,y = batch\n",
    "        y_hat = self(x)\n",
    "        loss = self.loss_func(y_hat,y)\n",
    "        #self.log('train_loss', loss)\n",
    "        return loss"
   ]
  },
  {
   "cell_type": "code",
   "execution_count": null,
   "metadata": {},
   "outputs": [],
   "source": [
    "cnn30 = CNN30(nn.CrossEntropyLoss())\n",
    "trainer_cnn30 = train_cnn(cnn30,dataloader = images_dataloader_onehot )"
   ]
  },
  {
   "cell_type": "code",
   "execution_count": null,
   "metadata": {},
   "outputs": [],
   "source": [
    "cnn30.cpu()\n",
    "output = test_cnn_onehot(cnn30)"
   ]
  },
  {
   "cell_type": "code",
   "execution_count": null,
   "metadata": {},
   "outputs": [],
   "source": [
    "print(output[20:40])"
   ]
  },
  {
   "cell_type": "code",
   "execution_count": null,
   "metadata": {},
   "outputs": [],
   "source": []
  },
  {
   "cell_type": "code",
   "execution_count": null,
   "metadata": {},
   "outputs": [],
   "source": []
  },
  {
   "cell_type": "markdown",
   "metadata": {},
   "source": [
    "# Equation Parser"
   ]
  },
  {
   "cell_type": "code",
   "execution_count": 60,
   "metadata": {},
   "outputs": [],
   "source": [
    "cut32 = transforms.Resize([32,32])\n",
    "toPIL = transforms.ToPILImage()\n",
    "def remove_ver_zero(image):\n",
    "    # input shape: channel x height x width\n",
    "    shape = image.shape\n",
    "    highest = shape[1] - 1\n",
    "    lowest = 0\n",
    "    for i in range(shape[1]):\n",
    "        start = False\n",
    "        for j in range(shape[2]):\n",
    "            if start == False and image[0][i][j] == 1 :\n",
    "                start = True\n",
    "                if i<highest:\n",
    "                    highest = i\n",
    "            if start == True and image[0][i][j] == 0:\n",
    "                break\n",
    "        if start == True:\n",
    "            if i> lowest:\n",
    "                lowest = i\n",
    "    return image[:,highest:lowest,:]    \n",
    "\n",
    "def pad_col(img,front,back):\n",
    "    shape = img.shape\n",
    "    fr = torch.zeros(shape[0],shape[1],front)\n",
    "    ba =  torch.zeros(shape[0],shape[1],back)\n",
    "    img = torch.cat((fr,img,ba),dim = 2)\n",
    "    return img        \n",
    "\n",
    "def pad_row(img,up,down):\n",
    "    shape = img.shape\n",
    "    u = torch.zeros(shape[0],up,shape[2])\n",
    "    d =  torch.zeros(shape[0],down,shape[2])\n",
    "    img = torch.cat((u,img,d),dim = 1)\n",
    "    return img  \n",
    "\n",
    "def add_pad(img):\n",
    "    row = img.shape[1]\n",
    "    col = img.shape[2]\n",
    "    if row>col:\n",
    "        dif = row - col\n",
    "        front =math.ceil( dif / 2)\n",
    "        back = dif - front\n",
    "        img = pad_col(img, front, back)\n",
    "    else:\n",
    "        dif = col - row\n",
    "        up = math.ceil(dif/2)\n",
    "        down = dif - up\n",
    "        img = pad_row(img, up, down)\n",
    "    return img    \n",
    "\n",
    "def parse_equation(equation):\n",
    "    # input shape: channel x height x width\n",
    "    # input is a torch tensor\n",
    "    shape = equation.shape\n",
    "    start = False\n",
    "    zero = True\n",
    "    allshapes = []\n",
    "    a = torch.zeros(1,32,32)\n",
    "    for i in range(shape[2]):\n",
    "        # i is column,j is row\n",
    "        hasone = False\n",
    "        for j in range(shape[1]):\n",
    "            if equation[0][j][i] == 1.:\n",
    "                hasone = True\n",
    "                if start == False:\n",
    "                    # start one char\n",
    "                    start = True\n",
    "                    start_index = i\n",
    "        if (hasone == False or i == shape[2]-1) and start == True:\n",
    "            start = False\n",
    "            new_char = equation[:,:,start_index:i]\n",
    "            new_char = remove_ver_zero(new_char)\n",
    "            if new_char.shape[1] != new_char.shape[2]:\n",
    "                new_char = add_pad(new_char)\n",
    "            allshapes.append(new_char.shape[1]*new_char.shape[2])\n",
    "            #Image._show(toPIL(new_char))    \n",
    "            new_char = cut32(new_char)\n",
    "            if zero:\n",
    "                zero = False\n",
    "                a = new_char\n",
    "            else:\n",
    "                a = torch.cat((a,new_char),dim=0)\n",
    "    return a,allshapes \n",
    "    "
   ]
  },
  {
   "cell_type": "code",
   "execution_count": 61,
   "metadata": {},
   "outputs": [],
   "source": [
    "def single_predict(model,image,encoding):\n",
    "    #if transform is not None:\n",
    "        #image = transform(image)\n",
    "    model.eval()\n",
    "    result = model(torch.unsqueeze(image,0))\n",
    "    #print(result)\n",
    "    result = result[0]\n",
    "    if encoding == 'binary':\n",
    "        for i in range(len(binary_labels_np)):\n",
    "            match = True\n",
    "            for j in range(binary_labels_np.shape[1]):\n",
    "                if result[j] != binary_labels_np[i][j]:\n",
    "                    match = False\n",
    "                    break\n",
    "            if match:\n",
    "                print('the character is:',i,class306id[i])\n",
    "                return result\n",
    "    elif encoding == 'onehot':\n",
    "        print('the character is:',torch.argmax(result),class306id[torch.argmax(result)])\n",
    "        return class306id[torch.argmax(result)]"
   ]
  },
  {
   "cell_type": "code",
   "execution_count": 62,
   "metadata": {},
   "outputs": [],
   "source": [
    "import sys\n",
    "import os\n",
    "from PyQt5.QtWidgets import QMainWindow,QApplication,QWidget,QMessageBox,QLineEdit,QInputDialog,QFileDialog,QColorDialog,QFontDialog,QLabel,QPushButton,QVBoxLayout,QStyle,QAction\n",
    "from PyQt5.QtGui import QIcon,QPixmap,QPainter,QPen,QColor,QBrush,QFont\n",
    "from PyQt5.QtCore import Qt,QRect\n",
    "\n",
    "\n",
    "class mylable(QLabel):\n",
    "    x0=0\n",
    "    y0=0\n",
    "    x1=0\n",
    "    y1=0\n",
    "    flag=False\n",
    "    def __init__(self,parent):\n",
    "        super(mylable,self).__init__(parent)\n",
    "        self.pixmap = QPixmap(1200, 400)#考虑边框的间距 减去px\n",
    "        self.pixmap.fill(Qt.white)\n",
    "        self.setStyleSheet(\"border: 2px solid black\")\n",
    "        self.Color=Qt.black#pen color: defult:black\n",
    "        self.penwidth=5#pen width : default:4\n",
    "\n",
    "    def paintEvent(self,event):\n",
    "        #super().paintEvent(event)\n",
    "\n",
    "        painter=QPainter(self.pixmap)\n",
    "        painter.setPen(QPen(self.Color,self.penwidth,Qt.SolidLine))\n",
    "        painter.drawLine(self.x0,self.y0,self.x1,self.y1)\n",
    "        \n",
    "        Label_painter=QPainter(self)\n",
    "        Label_painter.drawPixmap(2,2,self.pixmap)\n",
    "\n",
    "    def mousePressEvent(self, event):\n",
    "        self.x1=event.x()\n",
    "        self.y1=event.y()\n",
    "        self.flag=True\n",
    "\n",
    "    def mouseMoveEvent(self, event):\n",
    "        if self.flag:\n",
    "            self.x0 = self.x1\n",
    "            self.y0 = self.y1\n",
    "            self.x1 = event.x()\n",
    "            self.y1 = event.y()\n",
    "            self.update()\n",
    "\n",
    "    def mouseReleaseEvent(self, event):\n",
    "        self.flag=False\n",
    "\n",
    "\n",
    "class Parser_ui(QMainWindow):\n",
    "    def __init__(self):\n",
    "        super(Parser_ui,self).__init__()\n",
    "        self.initUi()\n",
    "        self.erase_open = False\n",
    "        \n",
    "    def initUi(self):\n",
    "        self.resize(1300,500)\n",
    "        vbox=QVBoxLayout()\n",
    "        self.button_file=QPushButton(self)\n",
    "        self.button_file.setGeometry(1205,80,100,50)\n",
    "        self.button_file.setText(\"Parse\")\n",
    "        self.button_file.setFont(QFont('Consolas',20))\n",
    "        vbox.addWidget(self.button_file)\n",
    "        vbox.addStretch()\n",
    "        #设置画板\n",
    "        self.lb=mylable(self)\n",
    "        self.lb.setGeometry(5, 32, 1200, 400)\n",
    "        \n",
    "        self.le = QLineEdit(self)\n",
    "        self.le.setGeometry(5, 440, 1200, 50)\n",
    "        #橡皮\n",
    "        eraser=QAction(QIcon(\"rubber.png\"),\"Eraser\",self)\n",
    "        eraser.setToolTip(\"Eraser\")\n",
    "        #工具栏\n",
    "        self.menubar=self.addToolBar(\"ToolBar\")\n",
    "        self.menubar.addAction(eraser)\n",
    "        #主页面\n",
    "        self.setWindowTitle(\"Drawing Board\")\n",
    "        \n",
    "        self.button_file.clicked.connect(self.equation_finished)\n",
    "        eraser.triggered.connect(self.erase)\n",
    "\n",
    "    def erase(self):\n",
    "        if self.erase_open == False:\n",
    "            self.erase_open = True\n",
    "            self.lb.Color=Qt.white\n",
    "            self.lb.setCursor(Qt.CrossCursor)\n",
    "            self.lb.penwidth=self.lb.penwidth+30\n",
    "        else:\n",
    "            self.erase_open = False\n",
    "            self.lb.Color=Qt.black\n",
    "            self.lb.setCursor(Qt.BitmapCursor)\n",
    "            self.lb.penwidth=self.lb.penwidth-30\n",
    "    \n",
    "    def equation_finished(self):\n",
    "        self.lb.pixmap.save(os.getcwd()+'/equation.png','PNG')\n",
    "        result = self.predict_equation()\n",
    "        self.le.setText(result)       \n",
    "        \n",
    "    def predict_equation(self):\n",
    "        image = Image.open('equation.png').convert('L')\n",
    "        totensor = transforms.ToTensor()\n",
    "        image= totensor(image)\n",
    "        image = image[:,1:,:]\n",
    "        for i in range(image.shape[1]):\n",
    "            for j in range(image.shape[2]):\n",
    "                if image[0][i][j] == 1:\n",
    "                    image[0][i][j] = 0\n",
    "                else:\n",
    "                    image[0][i][j] = 1\n",
    "\n",
    "        char_list,allshapes = parse_equation(image)\n",
    "        result = ''\n",
    "        max_shape = max(allshapes)\n",
    "        for i in range(char_list.shape[0]):\n",
    "            out = single_predict(cnn51,char_list[i:i+1],'onehot')\n",
    "            if self.check_case(out):\n",
    "                if allshapes[i] < max_shape/3:\n",
    "                    out = out.lower()\n",
    "            result = result + out + ' '\n",
    "        return result   \n",
    "    \n",
    "    def check_case(self,letter):\n",
    "        if letter == 'S' or letter == 'O' or letter == 'V' or letter == 'W' or letter == 'X' or \\\n",
    "        letter == 'C' or letter == 'Z' or letter == 'P':\n",
    "            return True\n",
    "        return False\n",
    "            "
   ]
  },
  {
   "cell_type": "code",
   "execution_count": 63,
   "metadata": {},
   "outputs": [],
   "source": [
    "def run_ui():    \n",
    "    app=QApplication(sys.argv)\n",
    "    mainwindow=Parser_ui()\n",
    "    mainwindow.show()\n",
    "    sys.exit(app.exec_())"
   ]
  },
  {
   "cell_type": "code",
   "execution_count": 64,
   "metadata": {},
   "outputs": [
    {
     "name": "stdout",
     "output_type": "stream",
     "text": [
      "the character is: tensor(254) \\dotsc\n",
      "the character is: tensor(0) A\n",
      "the character is: tensor(1) B\n",
      "the character is: tensor(288) \\mathds{C}\n",
      "the character is: tensor(2) C\n",
      "the character is: tensor(236) \\Im\n",
      "the character is: tensor(245) [\n",
      "the character is: tensor(0) A\n",
      "the character is: tensor(1) B\n",
      "the character is: tensor(268) \\mathcal{C}\n",
      "the character is: tensor(135) \\star\n",
      "the character is: tensor(294) \\mathds{Z}\n",
      "the character is: tensor(264) \\varnothing\n",
      "the character is: tensor(272) \\mathcal{G}\n",
      "the character is: tensor(292) \\mathds{Q}\n",
      "the character is: tensor(0) A\n",
      "the character is: tensor(1) B\n",
      "the character is: tensor(268) \\mathcal{C}\n",
      "the character is: tensor(135) \\star\n",
      "the character is: tensor(294) \\mathds{Z}\n",
      "the character is: tensor(264) \\varnothing\n",
      "the character is: tensor(272) \\mathcal{G}\n",
      "the character is: tensor(292) \\mathds{Q}\n",
      "the character is: tensor(0) A\n",
      "the character is: tensor(1) B\n",
      "the character is: tensor(268) \\mathcal{C}\n",
      "the character is: tensor(268) \\mathcal{C}\n",
      "the character is: tensor(294) \\mathds{Z}\n",
      "the character is: tensor(288) \\mathds{C}\n",
      "the character is: tensor(186) \\subsetneq\n",
      "the character is: tensor(109) \\S\n",
      "the character is: tensor(272) \\mathcal{G}\n",
      "the character is: tensor(292) \\mathds{Q}\n",
      "the character is: tensor(292) \\mathds{Q}\n",
      "the character is: tensor(292) \\mathds{Q}\n",
      "the character is: tensor(124) \\bullet\n",
      "the character is: tensor(14) O\n",
      "the character is: tensor(14) O\n",
      "the character is: tensor(14) O\n",
      "the character is: tensor(214) \\circlearrowright\n",
      "the character is: tensor(27) 0\n",
      "the character is: tensor(0) A\n",
      "the character is: tensor(268) \\mathcal{C}\n",
      "the character is: tensor(268) \\mathcal{C}\n",
      "the character is: tensor(269) \\mathcal{D}\n",
      "the character is: tensor(124) \\bullet\n",
      "the character is: tensor(2) C\n",
      "the character is: tensor(45) e\n",
      "the character is: tensor(295) \\celsius\n",
      "the character is: tensor(292) \\mathds{Q}\n",
      "the character is: tensor(51) k\n",
      "the character is: tensor(71) \\kappa\n",
      "the character is: tensor(42) a\n"
     ]
    },
    {
     "ename": "SystemExit",
     "evalue": "0",
     "output_type": "error",
     "traceback": [
      "An exception has occurred, use %tb to see the full traceback.\n",
      "\u001b[1;31mSystemExit\u001b[0m\u001b[1;31m:\u001b[0m 0\n"
     ]
    },
    {
     "name": "stderr",
     "output_type": "stream",
     "text": [
      "C:\\Users\\99298\\anaconda3\\envs\\COMP0036-group-cw\\lib\\site-packages\\IPython\\core\\interactiveshell.py:3445: UserWarning: To exit: use 'exit', 'quit', or Ctrl-D.\n",
      "  warn(\"To exit: use 'exit', 'quit', or Ctrl-D.\", stacklevel=1)\n"
     ]
    }
   ],
   "source": [
    "run_ui()"
   ]
  },
  {
   "cell_type": "code",
   "execution_count": null,
   "metadata": {},
   "outputs": [],
   "source": [
    "plt.imshow(np.asarray(topil(images_val_t[0])),'gray')"
   ]
  },
  {
   "cell_type": "markdown",
   "metadata": {},
   "source": [
    "# <font color = 'blue'> GA </font>"
   ]
  },
  {
   "cell_type": "code",
   "execution_count": 38,
   "metadata": {},
   "outputs": [],
   "source": [
    "import torch.nn.functional as F\n",
    "class ResNetBottleneck(nn.Module):\n",
    "    expansion = 1\n",
    "    def __init__(self, in_planes, planes, stride=1):\n",
    "        super(ResNetBottleneck, self).__init__()\n",
    "        self.conv1 = nn.Conv2d(in_planes, planes, kernel_size=1, bias=False)\n",
    "        self.bn1 = nn.BatchNorm2d(planes)\n",
    "        self.conv2 = nn.Conv2d(planes, planes, kernel_size=3, stride=stride, padding=1, bias=False)\n",
    "        self.bn2 = nn.BatchNorm2d(planes)\n",
    "        self.conv3 = nn.Conv2d(planes, self.expansion*planes, kernel_size=1, bias=False)\n",
    "        self.bn3 = nn.BatchNorm2d(self.expansion*planes)\n",
    "        self.shortcut = nn.Sequential()\n",
    "        if stride != 1 or in_planes != self.expansion*planes:\n",
    "            self.shortcut = nn.Sequential(\n",
    "                nn.Conv2d(in_planes, self.expansion*planes, kernel_size=1, stride=stride, bias=False),\n",
    "                nn.BatchNorm2d(self.expansion*planes)\n",
    "            )\n",
    "    def forward(self, x):\n",
    "        out = F.relu(self.bn1(self.conv1(x)))\n",
    "        out = F.relu(self.bn2(self.conv2(out)))\n",
    "        out = self.bn3(self.conv3(out))\n",
    "        out += self.shortcut(x)\n",
    "        out = F.relu(out)\n",
    "        return out\n",
    "    \n",
    "class ResNetUnit(nn.Module):\n",
    "    def __init__(self, amount, in_channel, out_channel):\n",
    "        super(ResNetUnit, self).__init__()\n",
    "        self.in_planes = in_channel\n",
    "        self.layer = self._make_layer(ResNetBottleneck, out_channel, amount, stride=1)\n",
    "    def _make_layer(self, block, planes, num_blocks, stride):\n",
    "        strides = [stride] + [1]*(num_blocks-1)\n",
    "        layers = []\n",
    "        for stride in strides:\n",
    "            layers.append(block(self.in_planes, planes, stride))\n",
    "            self.in_planes = planes * block.expansion\n",
    "        return nn.Sequential(*layers)\n",
    "    def forward(self, x):\n",
    "        out = self.layer(x)\n",
    "        return out    "
   ]
  },
  {
   "cell_type": "code",
   "execution_count": 40,
   "metadata": {},
   "outputs": [],
   "source": [
    "class DenseNetBottleneck(nn.Module):\n",
    "    def __init__(self, nChannels, growthRate):\n",
    "        super(DenseNetBottleneck, self).__init__()\n",
    "        interChannels = 4*growthRate\n",
    "        self.bn1 = nn.BatchNorm2d(nChannels)\n",
    "        self.conv1 = nn.Conv2d(nChannels, interChannels, kernel_size=1,\n",
    "                               bias=False)\n",
    "        self.bn2 = nn.BatchNorm2d(interChannels)\n",
    "        self.conv2 = nn.Conv2d(interChannels, growthRate, kernel_size=3,\n",
    "                               padding=1, bias=False)\n",
    "    def forward(self, x):\n",
    "        out = self.conv1(F.relu(self.bn1(x)))\n",
    "        out = self.conv2(F.relu(self.bn2(out)))\n",
    "        out = torch.cat((x, out), 1)\n",
    "        return out\n",
    "class DenseNetUnit(nn.Module):\n",
    "    def __init__(self, k, amount, in_channel, out_channel, max_input_channel):\n",
    "        super(DenseNetUnit, self).__init__()\n",
    "        self.out_channel = out_channel\n",
    "        if in_channel > max_input_channel:\n",
    "            self.need_conv = True\n",
    "            self.bn = nn.BatchNorm2d(in_channel)\n",
    "            self.conv = nn.Conv2d(in_channel, max_input_channel, kernel_size=1, bias=False)\n",
    "            in_channel = max_input_channel\n",
    "        self.layer = self._make_dense(in_channel, k, amount)\n",
    "    def _make_dense(self, nChannels, growthRate, nDenseBlocks):\n",
    "        layers = []\n",
    "        for _ in range(int(nDenseBlocks)):\n",
    "            layers.append(DenseNetBottleneck(nChannels, growthRate))\n",
    "            nChannels += growthRate\n",
    "        return nn.Sequential(*layers)\n",
    "    def forward(self, x):\n",
    "        out = x\n",
    "        if hasattr(self, 'need_conv'):\n",
    "            out = self.conv(F.relu(self.bn(out)))\n",
    "        out = self.layer(out)\n",
    "        #print(out.size()[1],self.out_channel)\n",
    "        assert(out.size()[1] == self.out_channel)\n",
    "        return out\n"
   ]
  },
  {
   "cell_type": "code",
   "execution_count": null,
   "metadata": {},
   "outputs": [],
   "source": [
    "class CNN(pl.LightningModule):\n",
    "    def __init__(self,loss_func,build_code,lr = 1e-3):\n",
    "        super().__init__()\n",
    "        self.loss_func = loss_func\n",
    "        self.learning_rate = lr\n",
    "        self.current_channel = 1\n",
    "        self.res = 32 # resolution 32x32\n",
    "        layers = []\n",
    "        for code in build_code:\n",
    "            layer = self.parse_code(code)\n",
    "            layers.append(layer)\n",
    "        self.block  = nn.Sequential(*layers)  \n",
    "        num = self.current_channel*self.res*self.res      \n",
    "        self.classifier = nn.Linear(int(num),306)\n",
    "    \n",
    "    def parse_code(self,code):\n",
    "        if code[0]<21:                    # Resnet\n",
    "            unit = ResNetUnit(code[0],self.current_channel,code[1])\n",
    "            self.current_channel = code[1] \n",
    "        elif code[0]>20 and code[0]<100 :  #Densenet\n",
    "            unit = DenseNetUnit(code[2],code[0]-20,self.current_channel,code[1],code[2]*10)\n",
    "            #params : k, amount, in_channel, out_channel, max_input_channel\n",
    "            self.current_channel = code[1] \n",
    "        else:                            #pooling\n",
    "            self.res /= 2\n",
    "            if code[1] == 0:\n",
    "                unit = nn.MaxPool2d(2,stride = 2)\n",
    "            if code[1] == 1:\n",
    "                unit = nn.MaxPool2d(2,stride = 2)#####################################\n",
    "        return unit    \n",
    "    \n",
    "    def forward(self, x):\n",
    "        # \n",
    "        # x : batch_size x 3 x 32 x 32\n",
    "        x = self.block(x)\n",
    "        x = self.classifier(torch.flatten(x, 1))\n",
    "        return x\n",
    "    \n",
    "    def configure_optimizers(self):\n",
    "        optimizer = torch.optim.Adam(self.parameters(), lr=self.learning_rate)\n",
    "        return optimizer\n",
    "    \n",
    "    def training_step(self,batch,batch_idx):\n",
    "        x,y = batch\n",
    "        y_hat = self(x)\n",
    "        loss = self.loss_func(y_hat,y)\n",
    "        #self.log('train_loss', loss)\n",
    "        return loss  "
   ]
  },
  {
   "cell_type": "code",
   "execution_count": null,
   "metadata": {},
   "outputs": [],
   "source": [
    "class GA():\n",
    "    def __init__(self,population_size,generation_num,max_ep = 10,train_dataloader = images_dataloader_onehot,population = [],acc_table = [],\n",
    "                fitness_set = {}):\n",
    "        self.population_size = population_size\n",
    "        self.generation_num = generation_num\n",
    "        self.fitness_set = fitness_set\n",
    "        self.current_fitness_table = []\n",
    "        self.channel_list = [64,128,256]\n",
    "        self.k_list = [12,20]\n",
    "        self.crossover_pro = 0.0\n",
    "        self.mutation_pro = 1.\n",
    "        self.pro_var = 1. / generation_num\n",
    "        self.generation = 0\n",
    "        self.max_pooling_num = 5\n",
    "        self.max_ep = max_ep\n",
    "        self.population = population\n",
    "        self.acc_table = acc_table\n",
    "        self.train_dataloader = train_dataloader\n",
    "        \n",
    "        \n",
    "    def check_repeat(self,arr,target):\n",
    "        for i in arr:\n",
    "            if len(i) == len(target):\n",
    "                repeat = True\n",
    "                for j in range(len(i)):\n",
    "                    if i[j] != target[j]:\n",
    "                        repeat = False\n",
    "                        break\n",
    "                if repeat == True:\n",
    "                    return True\n",
    "        return False     \n",
    "    \n",
    "    def cal_code(self,individual):\n",
    "        code = ''\n",
    "        for unit in individual:\n",
    "            for number in unit:\n",
    "                code += str(number)\n",
    "        return code        \n",
    "                  \n",
    "    def generate_unit(self):\n",
    "        k = np.random.randint(1,16) #maximum 15 units\n",
    "        units_in_model = []\n",
    "        current_channel = 1\n",
    "        used_pool = 0\n",
    "        for j in range(k):\n",
    "            choice = np.random.randint(3)\n",
    "            amount_in_unit = np.random.randint(1,11)\n",
    "\n",
    "            ## choice: 0  ResNet   1: DenseNet   2:pooling\n",
    "            if used_pool >= self.max_pooling_num:\n",
    "                choice = np.random.randint(2)    \n",
    "            if used_pool == 0 and j == k-1:\n",
    "                choice = 2\n",
    "            if choice == 0:\n",
    "                info = [amount_in_unit]\n",
    "                next_channel = np.random.choice(self.channel_list)\n",
    "                current_channel = next_channel\n",
    "                info.append(next_channel)\n",
    "                units_in_model.append(info)\n",
    "            if choice == 1:\n",
    "                info = [amount_in_unit + 20]\n",
    "                k = np.random.choice(self.k_list)\n",
    "                next_channel = 0\n",
    "                if current_channel > k * 10:\n",
    "                    next_channel = k * 10 + k * amount_in_unit\n",
    "                else:\n",
    "                    next_channel = current_channel + k * amount_in_unit\n",
    "                current_channel = next_channel\n",
    "                info.append(next_channel)\n",
    "                info.append(k)\n",
    "                units_in_model.append(info)\n",
    "            if choice == 2:\n",
    "                info = [999]\n",
    "                pool_choice = np.random.randint(2)\n",
    "                used_pool += 1\n",
    "                info.append(pool_choice)\n",
    "                info.append(current_channel)\n",
    "                units_in_model.append(info)    \n",
    "        return units_in_model\n",
    "    \n",
    "    def initilize_population(self):\n",
    "        population = self.population\n",
    "        population_code = []\n",
    "        if len(population) != 0:\n",
    "            for individual in population:\n",
    "                population_code.append(self.cal_code(individual))\n",
    "        i = 0        \n",
    "        if len(self.acc_table) != 0:\n",
    "            for ind in population:\n",
    "                code = self.cal_code(ind)\n",
    "                if code not in self.fitness_set:\n",
    "                    self.fitness_set[code] = self.acc_table[i]\n",
    "                i+= 1\n",
    "        while len(population)<self.population_size:\n",
    "            units_in_model = self.generate_unit()\n",
    "            current_code = self.cal_code(units_in_model)\n",
    "            if current_code not in population_code: \n",
    "                population.append(units_in_model)    \n",
    "                population_code.append(current_code)\n",
    "        return population\n",
    "    \n",
    "    def evaluate_fitness(self,individual):\n",
    "        code = self.cal_code(individual)\n",
    "        error = False\n",
    "        acc = 0\n",
    "        if code not in self.fitness_set:\n",
    "            try:\n",
    "                model = CNN(nn.CrossEntropyLoss(),individual)\n",
    "                print('used gpu after initialize;',torch.cuda.memory_reserved(device=None))\n",
    "                print(individual)\n",
    "                self.train_model(model)\n",
    "                _,acc = test_cnn_onehot(model)\n",
    "                self.fitness_set[code] = acc\n",
    "                model.cpu()\n",
    "            except:\n",
    "                error = True\n",
    "                trainer = None\n",
    "                del trainer\n",
    "                gc.collect()\n",
    "                torch.cuda.empty_cache()\n",
    "                gc.collect()\n",
    "                torch.cuda.empty_cache()\n",
    "            return acc,error\n",
    "        else:\n",
    "            return self.fitness_set[code],error\n",
    "          \n",
    "    def crossover(self,father,mother):\n",
    "        if len(father)==1 or len(mother) == 1:\n",
    "            return father,mother\n",
    "        father_pos = np.random.randint(low = 0,high = len(father)-1)\n",
    "        mother_pos = np.random.randint(low = 0,high = len(mother)-1)\n",
    "        #first offspring\n",
    "        # father + mother\n",
    "        son1 = self.born(father,mother,father_pos,mother_pos)\n",
    "        son2 = self.born(mother,father,mother_pos,father_pos)\n",
    "        return son1,son2\n",
    "        \n",
    "    def born(self,father,mother,father_pos,mother_pos):  \n",
    "        son1 = father[0:father_pos+1] + mother[mother_pos+1:len(mother)]\n",
    "        if father[father_pos][0] <21 or mother[mother_pos+1][0]<21:\n",
    "            if mother[mother_pos+1][0]<21:\n",
    "                pass\n",
    "            else:\n",
    "                if  mother[mother_pos+1][0] > 50:\n",
    "                    son1[father_pos][1] = son1[father_pos+1][2]\n",
    "                else:\n",
    "                    amount = son1[father_pos+1][0] - 20\n",
    "                    out_channel = son1[father_pos+1][1]\n",
    "                    k = son1[father_pos+1][2]\n",
    "                    if out_channel == k * amount + k * 10:\n",
    "                        son1[father_pos][1] = k * 10\n",
    "                    else:\n",
    "                        son1[father_pos][1] = out_channel - k * amount\n",
    "        else:\n",
    "            if son1[father_pos+1][0] > 50: #max in the back\n",
    "                if son1[father_pos][0] > 50:\n",
    "                    if son1[father_pos][2] != son1[father_pos+1][2]:\n",
    "                        ex_resnet = [[1,son1[father_pos+1][2]]]\n",
    "                        son1 =father[0:father_pos+1] + ex_resnet + mother[mother_pos+1:len(mother)]\n",
    "                else:#dense in the front\n",
    "                    if son1[father_pos][1] != son1[father_pos+1][2]:\n",
    "                        ex_resnet = [[1,son1[father_pos+1][2]]]\n",
    "                        son1 =father[0:father_pos+1] + ex_resnet + mother[mother_pos+1:len(mother)]\n",
    "            else: #dese in the back\n",
    "                amount = son1[father_pos+1][0] - 20\n",
    "                out_channel = son1[father_pos+1][1]\n",
    "                k = son1[father_pos+1][2]\n",
    "                if out_channel == k * amount + k * 10:\n",
    "                    in_channel = k *10\n",
    "                else:\n",
    "                    in_channel = out_channel - k * amount\n",
    "                    \n",
    "                ex_resnet = [[1,in_channel]]  \n",
    "                if son1[father_pos][0]>50:\n",
    "                    if son1[father_pos][2] != in_channel:\n",
    "                        son1 =father[0:father_pos+1] + ex_resnet + mother[mother_pos+1:len(mother)]\n",
    "                else:\n",
    "                    if son1[father_pos][1] != in_channel:\n",
    "                        son1 =father[0:father_pos+1] + ex_resnet + mother[mother_pos+1:len(mother)]\n",
    "        return son1     \n",
    "                \n",
    "    def cal_in_dense(self,unit):\n",
    "        amount = unit[0] - 20\n",
    "        out_channel = unit[1]\n",
    "        k = unit[2]\n",
    "        if out_channel == k*10+k*amount:\n",
    "            return k*10\n",
    "        else:\n",
    "            return out_channel - k * amount\n",
    "    \n",
    "    def cal_used_pool(self,individual):\n",
    "        used = 0\n",
    "        for unit in individual:\n",
    "            if unit[0]>50:\n",
    "                used +=1\n",
    "        return used        \n",
    "            \n",
    "    def get_out_channel(self,unit):\n",
    "        if unit[0] > 50:\n",
    "            return unit[2]\n",
    "        else:\n",
    "            return unit[1]\n",
    "        \n",
    "    def mutation(self,individual):\n",
    "        choice = np.random.randint(3)\n",
    "        length = len(individual)\n",
    "        mutation_pos = np.random.randint(low = 0,high = length)\n",
    "        print('before mutation:',individual)\n",
    "        if choice ==0: #adding a unit\n",
    "            print('add')\n",
    "            add_type = np.random.randint(3)\n",
    "            if add_type == 0:\n",
    "                if self.cal_used_pool(individual) >= self.max_pooling_num:\n",
    "                    return individual\n",
    "                pool_type = np.random.randint(2)\n",
    "                if mutation_pos == length - 1:\n",
    "                    channel = self.get_out_channel(individual[mutation_pos])\n",
    "                    individual = individual + [[999,pool_type,channel]]\n",
    "                else:\n",
    "                    channel = self.get_out_channel(individual[mutation_pos])\n",
    "                    individual = individual[0:mutation_pos+1] + [[999,pool_type,channel]]  + individual[mutation_pos+1:length]\n",
    "            elif add_type == 1:\n",
    "                amount = np.random.randint(1,11)\n",
    "                channel = np.random.choice(self.channel_list)\n",
    "                if mutation_pos == length - 1:\n",
    "                    individual = individual + [[amount,channel]]    \n",
    "                else:\n",
    "                    channel = self.get_out_channel(individual[mutation_pos])\n",
    "                    individual = individual[0:mutation_pos+1] + [[amount,channel]]  + individual[mutation_pos+1:length]\n",
    "            else:    \n",
    "                amount = np.random.randint(1,11)\n",
    "                k = np.random.choice(self.k_list)\n",
    "                pre_out_channel = self.get_out_channel(individual[mutation_pos])\n",
    "                out_channel = pre_out_channel + k * amount\n",
    "                if pre_out_channel > k * 10:\n",
    "                    out_channel = k * 10 + k * amount\n",
    "                if mutation_pos == length - 1:\n",
    "                    individual = individual + [[amount + 20,out_channel,k]]    \n",
    "                else:\n",
    "                    if individual[mutation_pos+1][0]>20 and individual[mutation_pos+1][0]<50 and self.cal_in_dense(individual[mutation_pos+1]) != out_channel:\n",
    "                        individual = individual[0:mutation_pos+1] + [[amount + 20,out_channel,k]]  + [[1,self.cal_in_dense(individual[mutation_pos+1])]]  + individual[mutation_pos+1:length]\n",
    "                    elif individual[mutation_pos+1][0]>50 and individual[mutation_pos+1][2] != out_channel:\n",
    "                        individual = individual[0:mutation_pos+1] + [[amount + 20,out_channel,k]]  + [[1,individual[mutation_pos+1][2]]]  + individual[mutation_pos+1:length]\n",
    "                    else:\n",
    "                        individual = individual[0:mutation_pos+1] + [[amount + 20,out_channel,k]] + individual[mutation_pos+1:length]             \n",
    "        elif choice == 1:  #remove a unit\n",
    "            print('remove')\n",
    "            if len(individual) == 1:\n",
    "                return individual\n",
    "            individual = individual[0:mutation_pos] + individual[mutation_pos+1:length]\n",
    "            if mutation_pos == length - 1:\n",
    "                return individual\n",
    "            elif len(individual) ==1:\n",
    "                type_ = individual[0][0]\n",
    "                if type_ >50:# pool\n",
    "                    if individual[0][2] != 1:\n",
    "                        individual[0][2] = 1\n",
    "                elif type_ <21:#res\n",
    "                    pass\n",
    "                else:\n",
    "                    amount = individual[0][0] - 20\n",
    "                    individual[0][1] = 1 + amount * individual[0][2]        \n",
    "            elif mutation_pos == 0:\n",
    "                type_ = individual[0][0]\n",
    "                if type_ >50:# pool\n",
    "                    if individual[0][2] != 1:\n",
    "                        individual = [[1,individual[0][2]]] + individual\n",
    "                elif type_ <21:#res\n",
    "                    pass\n",
    "                else:\n",
    "                    amount = individual[0][0] - 20\n",
    "                    k = individual[0][2]\n",
    "                    out_channel = individual[0][1]\n",
    "                    if out_channel == k*10 + k*amount:\n",
    "                        individual = [[1,k*10]] + individual\n",
    "                    else:\n",
    "                        if out_channel - k*amount != 1:\n",
    "                            individual = [[1,out_channel - k*amount]] + individual\n",
    "            else:\n",
    "                pre_unit = individual[mutation_pos-1]\n",
    "                latter_unit = individual[mutation_pos]\n",
    "                if latter_unit[0] < 21:\n",
    "                    return individual\n",
    "                if pre_unit[0]<21: #pre is a res\n",
    "                    if latter_unit[0]>50:\n",
    "                        if latter_unit[2] != pre_unit[1]:\n",
    "                            individual[mutation_pos-1][1] = latter_unit[2]\n",
    "                    else:\n",
    "                        in_channel = self.cal_in_dense(latter_unit)\n",
    "                        if pre_unit[1] != in_channel:\n",
    "                            individual[mutation_pos-1][1] = in_channel\n",
    "                elif pre_unit[0]>50: #pre is a max\n",
    "                    if latter_unit[0]>50:\n",
    "                        if latter_unit[2] != pre_unit[2]:\n",
    "                            individual = individual[0:mutation_pos] + [[1,latter_unit[2]]] + individual[mutation_pos:len(individual)]\n",
    "                    else:\n",
    "                        in_channel = self.cal_in_dense(latter_unit)\n",
    "                        if pre_unit[2] != in_channel:\n",
    "                            individual = individual[0:mutation_pos] + [[1,in_channel]] + individual[mutation_pos:len(individual)]\n",
    "                else:#pre is a dense\n",
    "                    if latter_unit[0]>50:\n",
    "                        if pre_unit[1] != latter_unit[2]:\n",
    "                            individual = individual[0:mutation_pos] + [[1,latter_unit[2]]] + individual[mutation_pos:len(individual)]\n",
    "                    else:\n",
    "                        in_channel = self.cal_in_dense(latter_unit)\n",
    "                        if pre_unit[1] != in_channel:\n",
    "                            individual = individual[0:mutation_pos] + [[1,in_channel]] + individual[mutation_pos:len(individual)]\n",
    "                    \n",
    "            \n",
    "        else:          #modify \n",
    "            print('modify')\n",
    "            if individual[mutation_pos][0]>50:\n",
    "                if individual[mutation_pos][1] ==1:\n",
    "                    individual[mutation_pos][1] = 0\n",
    "                else:\n",
    "                    individual[mutation_pos][1] =1\n",
    "            elif individual[mutation_pos][0]<21: #resnet\n",
    "                new_amount = np.random.randint(1,11)\n",
    "                individual[mutation_pos][0] = new_amount\n",
    "        print('after mutation:',individual)\n",
    "        return individual\n",
    "    \n",
    "    \n",
    "    def select_index(self,acc_table):\n",
    "        length = len(acc_table)\n",
    "        while True:\n",
    "            a = np.random.randint(0,length)\n",
    "            b = np.random.randint(0,length)\n",
    "            if a != b:\n",
    "                if acc_table[a] > acc_table[b]:\n",
    "                    return a\n",
    "                else:\n",
    "                    return b\n",
    "        \n",
    "        \n",
    "        \n",
    "    def selection(self,population,acc_table,offsprings,acc_offsprings):        \n",
    "        allp = population + offsprings\n",
    "        allacc = acc_table + acc_offsprings\n",
    "        next_p = []\n",
    "        next_acc = []\n",
    "        length = len(allp)\n",
    "        #elitism\n",
    "        best_index = np.argmax(allacc)\n",
    "        next_p.append(allp[best_index])\n",
    "        next_acc.append(allacc[best_index])\n",
    "        used_idx = [best_index]\n",
    "        while(len(next_p)<self.population_size):\n",
    "            idx = self.select_index(allacc)\n",
    "            if idx not in used_idx:\n",
    "                next_p.append(allp[idx])\n",
    "                next_acc.append(allacc[idx])\n",
    "                used_idx.append(idx)\n",
    "        return next_p,next_acc\n",
    "    \n",
    "    \n",
    "    def framework(self):\n",
    "        self.population = self.initilize_population()\n",
    "        already_num = len(self.acc_table)# 22\n",
    "        diff = self.population_size - already_num  #3\n",
    "        for i in range(diff):\n",
    "            while True:\n",
    "                acc,error = self.evaluate_fitness(self.population[already_num+i])\n",
    "                if error == True:\n",
    "                    self.population[already_num + i] = self.generate_unit()\n",
    "                else:\n",
    "                    break    \n",
    "            self.acc_table.append(acc)\n",
    "            print('used gpu after initialize;',torch.cuda.memory_reserved(device=None))\n",
    "        current_gen = 0\n",
    "        generation_acc.append(self.acc_table.copy())\n",
    "        generation_pop.append(self.population.copy())\n",
    "        while current_gen < self.generation_num:\n",
    "            print('start generation:',current_gen)\n",
    "            offsprings = []\n",
    "            offsprings_code = []\n",
    "            while len(offsprings) < self.population_size:\n",
    "                father,mother = self.select_parents(self.population.copy(),self.acc_table.copy())\n",
    "                pro = np.random.uniform(0,1)\n",
    "                if pro > self.mutation_pro:\n",
    "                    print('crossover')\n",
    "                    son1,son2 = self.crossover(father.copy(), mother.copy())\n",
    "                else:\n",
    "                    print('mutation')\n",
    "                    son1 = self.mutation(father.copy())\n",
    "                    son2 = self.mutation(mother.copy())\n",
    "                son1_code = self.cal_code(son1) \n",
    "                son2_code = self.cal_code(son2)\n",
    "                if son1_code not in offsprings_code:\n",
    "                    offsprings_code.append(son1_code)\n",
    "                    offsprings.append(son1)\n",
    "                if son2_code not in offsprings_code:\n",
    "                    offsprings_code.append(son2_code)\n",
    "                    offsprings.append(son2)  \n",
    "            acc_offsprings = []        \n",
    "            for i in range(len(offsprings)):\n",
    "                while True:\n",
    "                    acc,error = self.evaluate_fitness(offsprings[i])\n",
    "                    if error == True:\n",
    "                        offsprings[i] = self.generate_unit()\n",
    "                    else:\n",
    "                        break  \n",
    "                acc_offsprings.append(acc)\n",
    "            self.population,self.acc_table = self.selection(self.population,self.acc_table,offsprings,acc_offsprings)\n",
    "            \n",
    "            self.mutation_pro -= self.pro_var\n",
    "            self.crossover_pro += self.pro_var\n",
    "            print('generation ',current_gen,' finished')\n",
    "            current_gen+=1   \n",
    "            generation_acc.append(self.acc_table.copy())\n",
    "            generation_pop.append(self.population.copy())\n",
    "        best_index = np.argmax(self.acc_table)  \n",
    "        best_cnn_build_code = self.population[best_index]\n",
    "        return best_cnn_build_code\n",
    "        \n",
    "        \n",
    "        \n",
    "    def select_parents(self,population,acc_table):\n",
    "        while True:\n",
    "            father = self.select_one_parent(population, acc_table)\n",
    "            mother = self.select_one_parent(population, acc_table)\n",
    "            if self.cal_code(father) != self.cal_code(mother):\n",
    "                return father, mother\n",
    "        \n",
    "        \n",
    "        \n",
    "    def select_one_parent(self,population,acc_table):\n",
    "        length = len(population)\n",
    "        while True:\n",
    "            father1 = np.random.randint(0,length)\n",
    "            father2 = np.random.randint(0,length)\n",
    "            if father1 != father2:\n",
    "                if acc_table[father1]>acc_table[father2]:\n",
    "                    return population[father1]\n",
    "                else:\n",
    "                    return population[father2]\n",
    "        \n",
    "        \n",
    "    def train_model(self,model):\n",
    "        trainer = pl.Trainer(max_epochs = self.max_ep,gpus = 1,precision = 16)\n",
    "        trainer.fit(model,self.train_dataloader)\n",
    "        print('used gpu after trained;',torch.cuda.memory_reserved(device=None))\n",
    "        del trainer\n",
    "        gc.collect()\n",
    "        torch.cuda.empty_cache()\n",
    "        gc.collect()\n",
    "        torch.cuda.empty_cache()"
   ]
  },
  {
   "cell_type": "code",
   "execution_count": null,
   "metadata": {},
   "outputs": [],
   "source": [
    "best1_cnn = CNN(nn.CrossEntropyLoss(),best1)\n",
    "trainer_best1_cnn = train_cnn(best1_cnn,dataloader = images_dataloader_onehot,max_ep = 50 )\n",
    "cnnbest4 =  CNN(nn.CrossEntropyLoss(),best4)\n",
    "a = train_cnn(cnnbest4,dataloader = images_dataloader_onehot,max_ep = 15 )"
   ]
  },
  {
   "cell_type": "code",
   "execution_count": null,
   "metadata": {},
   "outputs": [],
   "source": [
    "torch.cuda.memory_reserved(device=None)"
   ]
  },
  {
   "cell_type": "code",
   "execution_count": null,
   "metadata": {},
   "outputs": [],
   "source": [
    "ga1 = GA(35,10,max_ep = 1)\n",
    "best1 = ga1.framework()\n",
    "ga2 = GA(35,10,max_ep = 5)\n",
    "best2 = ga2.framework()\n",
    "ga2 = GA(35,10,max_ep = 5)\n",
    "best3 = ga2.framework()"
   ]
  },
  {
   "cell_type": "code",
   "execution_count": null,
   "metadata": {},
   "outputs": [],
   "source": [
    "cnnbest4 =  CNN(nn.CrossEntropyLoss(),best4)\n",
    "a = train_cnn(cnnbest4,dataloader = images_dataloader_onehot,max_ep = 15 )"
   ]
  },
  {
   "cell_type": "code",
   "execution_count": null,
   "metadata": {},
   "outputs": [],
   "source": [
    "x = np.linspace(1, 10, 10)\n",
    "print(x)"
   ]
  },
  {
   "cell_type": "code",
   "execution_count": null,
   "metadata": {},
   "outputs": [],
   "source": [
    "plt.figure(figsize=(7,7))\n",
    "for xe, ye in zip(x, generation_acc):\n",
    "    plt.scatter([xe] * len(ye), ye)\n",
    "plt.xlabel('generation')\n",
    "plt.ylabel('accuracy for 1 epoch')\n",
    "plt.savefig('../diagrams/g25e1.png')\n",
    "plt.show()    "
   ]
  },
  {
   "cell_type": "code",
   "execution_count": null,
   "metadata": {},
   "outputs": [],
   "source": [
    "avr = []\n",
    "max_acc = []\n",
    "for i in range(10):\n",
    "    avr.append(sum(generation_acc[i])/25)\n",
    "    max_acc.append(max(generation_acc[i]))\n",
    "print(avr)    \n",
    "print(max_acc)"
   ]
  },
  {
   "cell_type": "code",
   "execution_count": 44,
   "metadata": {},
   "outputs": [],
   "source": [
    "best6 = [[2, 300],\n",
    " [999, 0, 168],\n",
    " [6, 120],\n",
    " [999, 0, 300],\n",
    " [999, 1, 300],\n",
    " [25, 180, 12],\n",
    " [22, 144, 12]]\n",
    "best5 = [[22, 25, 12],\n",
    " [999, 0, 25],\n",
    " [2, 85],\n",
    " [999, 1, 85],\n",
    " [999, 1, 85],\n",
    " [23, 121, 12],\n",
    " [26, 192, 12]]\n",
    "best4 = [[5, 64],\n",
    " [6, 256],\n",
    " [999, 0, 64],\n",
    " [1, 136],\n",
    " [999, 1, 136],\n",
    " [22, 144, 12],\n",
    " [25, 180, 12],\n",
    " [999, 1, 180],\n",
    " [27, 204, 12],\n",
    " [999, 0, 204]]\n",
    "best3 = [[5, 200],\n",
    " [999, 1, 120],\n",
    " [9, 64],\n",
    " [999, 0, 64],\n",
    " [999, 1, 64],\n",
    " [7, 120],\n",
    " [30, 240, 12],\n",
    " [27, 340, 20],\n",
    " [24, 280, 20],\n",
    " [1, 280],\n",
    " [999, 1, 280]]\n",
    "\n",
    "best2 = [[4, 120],\n",
    " [999, 0, 128],\n",
    " [1, 128],\n",
    " [28, 288, 20],\n",
    " [10, 64],\n",
    " [999, 0, 128],\n",
    " [999, 1, 128],\n",
    " [8, 128],\n",
    " [24, 168, 12]]\n",
    "best1 =[[4, 128],\n",
    " [999, 0, 128],\n",
    " [1, 128],\n",
    " [28, 288, 20],\n",
    " [10, 120],\n",
    " [999, 0, 128],\n",
    " [999, 1, 128],\n",
    " [8, 128],\n",
    " [24, 168, 12]]"
   ]
  },
  {
   "cell_type": "code",
   "execution_count": 91,
   "metadata": {},
   "outputs": [],
   "source": [
    "training_loss = []\n",
    "val_loss = []"
   ]
  },
  {
   "cell_type": "code",
   "execution_count": 92,
   "metadata": {},
   "outputs": [],
   "source": [
    "history_acc = []"
   ]
  },
  {
   "cell_type": "code",
   "execution_count": 93,
   "metadata": {},
   "outputs": [],
   "source": [
    "class CNN_final(pl.LightningModule):\n",
    "    def __init__(self,loss_func,build_code,lr = 1e-4):\n",
    "        super().__init__()\n",
    "        self.loss_func = loss_func\n",
    "        self.learning_rate = lr\n",
    "        self.current_channel = 1\n",
    "        self.res = 32 # resolution 32x32\n",
    "        layers = []\n",
    "        for code in build_code:\n",
    "            layer = self.parse_code(code)\n",
    "            layers.append(layer)\n",
    "        self.block  = nn.Sequential(*layers)  \n",
    "        num = self.current_channel*self.res*self.res      \n",
    "        self.classifier =nn.Linear(int(num),306)\n",
    "    \n",
    "    def parse_code(self,code):\n",
    "        if code[0]<21:                    # Resnet\n",
    "            unit = ResNetUnit(code[0],self.current_channel,code[1])\n",
    "            self.current_channel = code[1] \n",
    "        elif code[0]>20 and code[0]<100 :  #Densenet\n",
    "            unit = DenseNetUnit(code[2],code[0]-20,self.current_channel,code[1],code[2]*10)\n",
    "            #params : k, amount, in_channel, out_channel, max_input_channel\n",
    "            self.current_channel = code[1] \n",
    "        else:                            #pooling\n",
    "            self.res /= 2\n",
    "            if code[1] == 0:\n",
    "                unit = nn.MaxPool2d(2,stride = 2)\n",
    "            if code[1] == 1:\n",
    "                unit = nn.AvgPool2d(2,stride = 2)#####################################\n",
    "        return unit    \n",
    "    \n",
    "    def forward(self, x):\n",
    "        # \n",
    "        # x : batch_size x 3 x 32 x 32\n",
    "        x = self.block(x)\n",
    "        x = self.classifier(torch.flatten(x, 1))\n",
    "        return x\n",
    "    \n",
    "    def configure_optimizers(self):\n",
    "        optimizer = torch.optim.Adam(self.parameters(), lr=self.learning_rate)\n",
    "        return optimizer\n",
    "    \n",
    "    def training_step(self,batch,batch_idx):\n",
    "        x,y = batch\n",
    "        y_hat = self(x)\n",
    "        loss = self.loss_func(y_hat,y)\n",
    "        return loss\n",
    "    \n",
    "    def validation_step(self,batch,batch_idx):\n",
    "        x,y = batch\n",
    "        y_hat = self(x)\n",
    "        loss = self.loss_func(y_hat,y)\n",
    "        return loss #{'validation loss:',loss}\n",
    "    \n",
    "    def training_epoch_end(self, training_step_outputs):\n",
    "        print('train')\n",
    "        total = torch.tensor(0.)\n",
    "        total = total.to(device=\"cuda:0\")\n",
    "        length = len(training_step_outputs)\n",
    "        for i in training_step_outputs:\n",
    "            total += i['loss']\n",
    "        v = total/length    \n",
    "        print(total/length)\n",
    "        #training_loss.append(v)   \n",
    "        \n",
    "    def validation_epoch_end(self, validation_step_outputs):\n",
    "        print('val')\n",
    "        total = torch.tensor(0.)\n",
    "        total = total.to(device=\"cuda:0\")\n",
    "        length = len(validation_step_outputs)\n",
    "        for i in validation_step_outputs:\n",
    "            total += i\n",
    "        v = total/length    \n",
    "        print(total/length)\n",
    "        #val_loss.append(v)\n",
    "        \n",
    "def train_cnn_final(model,dataloader = images_dataloader_onehot,val_dataloader = images_val_dataloader,max_ep = 150):\n",
    "    trainer = pl.Trainer(max_epochs = max_ep,gpus = 1,precision = 16)\n",
    "    trainer.fit(model,dataloader,val_dataloader)\n",
    "    trainer = None \n",
    "    del trainer\n",
    "    gc.collect()\n",
    "    torch.cuda.empty_cache()\n",
    "    gc.collect()        "
   ]
  },
  {
   "cell_type": "code",
   "execution_count": 33,
   "metadata": {},
   "outputs": [],
   "source": [
    "images_dataloader_onehot = []\n",
    "images_val_dataloader = []"
   ]
  },
  {
   "cell_type": "code",
   "execution_count": 384,
   "metadata": {},
   "outputs": [],
   "source": [
    "cnn50 = CNN_final(nn.CrossEntropyLoss(),best5,lr = 1e-3)\n",
    "torch.save(cnn50.state_dict(), model_path+'\\\\cnnbest5start.pth')"
   ]
  },
  {
   "cell_type": "code",
   "execution_count": 386,
   "metadata": {},
   "outputs": [
    {
     "name": "stderr",
     "output_type": "stream",
     "text": [
      "GPU available: True, used: True\n",
      "TPU available: False, using: 0 TPU cores\n",
      "Using native 16bit precision.\n",
      "LOCAL_RANK: 0 - CUDA_VISIBLE_DEVICES: [0]\n",
      "\n",
      "  | Name       | Type             | Params\n",
      "------------------------------------------------\n",
      "0 | loss_func  | CrossEntropyLoss | 0     \n",
      "1 | block      | Sequential       | 290 K \n",
      "2 | classifier | Linear           | 940 K \n",
      "------------------------------------------------\n",
      "1.2 M     Trainable params\n",
      "0         Non-trainable params\n",
      "1.2 M     Total params\n",
      "4.922     Total estimated model params size (MB)\n"
     ]
    },
    {
     "data": {
      "application/vnd.jupyter.widget-view+json": {
       "model_id": "",
       "version_major": 2,
       "version_minor": 0
      },
      "text/plain": [
       "Validation sanity check: |                                                                       | 0/? [00:00<…"
      ]
     },
     "metadata": {},
     "output_type": "display_data"
    },
    {
     "name": "stdout",
     "output_type": "stream",
     "text": [
      "val\n",
      "tensor(5.7241, device='cuda:0')\n"
     ]
    },
    {
     "data": {
      "application/vnd.jupyter.widget-view+json": {
       "model_id": "c068ea00634140248c6fe043e29592e4",
       "version_major": 2,
       "version_minor": 0
      },
      "text/plain": [
       "Training: |                                                                                      | 0/? [00:00<…"
      ]
     },
     "metadata": {},
     "output_type": "display_data"
    },
    {
     "name": "stdout",
     "output_type": "stream",
     "text": [
      "train\n",
      "tensor(2.0127, device='cuda:0')\n"
     ]
    },
    {
     "data": {
      "application/vnd.jupyter.widget-view+json": {
       "model_id": "",
       "version_major": 2,
       "version_minor": 0
      },
      "text/plain": [
       "Validating: |                                                                                    | 0/? [00:00<…"
      ]
     },
     "metadata": {},
     "output_type": "display_data"
    },
    {
     "name": "stdout",
     "output_type": "stream",
     "text": [
      "val\n",
      "tensor(1.2571, device='cuda:0')\n"
     ]
    },
    {
     "name": "stderr",
     "output_type": "stream",
     "text": [
      "GPU available: True, used: True\n",
      "TPU available: False, using: 0 TPU cores\n",
      "Using native 16bit precision.\n",
      "LOCAL_RANK: 0 - CUDA_VISIBLE_DEVICES: [0]\n"
     ]
    },
    {
     "name": "stdout",
     "output_type": "stream",
     "text": [
      "0.6718954248366014\n"
     ]
    },
    {
     "name": "stderr",
     "output_type": "stream",
     "text": [
      "\n",
      "  | Name       | Type             | Params\n",
      "------------------------------------------------\n",
      "0 | loss_func  | CrossEntropyLoss | 0     \n",
      "1 | block      | Sequential       | 290 K \n",
      "2 | classifier | Linear           | 940 K \n",
      "------------------------------------------------\n",
      "1.2 M     Trainable params\n",
      "0         Non-trainable params\n",
      "1.2 M     Total params\n",
      "4.922     Total estimated model params size (MB)\n"
     ]
    },
    {
     "data": {
      "application/vnd.jupyter.widget-view+json": {
       "model_id": "",
       "version_major": 2,
       "version_minor": 0
      },
      "text/plain": [
       "Validation sanity check: |                                                                       | 0/? [00:00<…"
      ]
     },
     "metadata": {},
     "output_type": "display_data"
    },
    {
     "name": "stdout",
     "output_type": "stream",
     "text": [
      "val\n",
      "tensor(1.2430, device='cuda:0')\n"
     ]
    },
    {
     "data": {
      "application/vnd.jupyter.widget-view+json": {
       "model_id": "96089af877304c92ac02a4771630be17",
       "version_major": 2,
       "version_minor": 0
      },
      "text/plain": [
       "Training: |                                                                                      | 0/? [00:00<…"
      ]
     },
     "metadata": {},
     "output_type": "display_data"
    },
    {
     "name": "stdout",
     "output_type": "stream",
     "text": [
      "train\n",
      "tensor(0.9362, device='cuda:0')\n"
     ]
    },
    {
     "data": {
      "application/vnd.jupyter.widget-view+json": {
       "model_id": "",
       "version_major": 2,
       "version_minor": 0
      },
      "text/plain": [
       "Validating: |                                                                                    | 0/? [00:00<…"
      ]
     },
     "metadata": {},
     "output_type": "display_data"
    },
    {
     "name": "stdout",
     "output_type": "stream",
     "text": [
      "val\n",
      "tensor(0.8339, device='cuda:0')\n"
     ]
    },
    {
     "name": "stderr",
     "output_type": "stream",
     "text": [
      "GPU available: True, used: True\n",
      "TPU available: False, using: 0 TPU cores\n",
      "Using native 16bit precision.\n",
      "LOCAL_RANK: 0 - CUDA_VISIBLE_DEVICES: [0]\n"
     ]
    },
    {
     "name": "stdout",
     "output_type": "stream",
     "text": [
      "0.7830065359477124\n"
     ]
    },
    {
     "name": "stderr",
     "output_type": "stream",
     "text": [
      "\n",
      "  | Name       | Type             | Params\n",
      "------------------------------------------------\n",
      "0 | loss_func  | CrossEntropyLoss | 0     \n",
      "1 | block      | Sequential       | 290 K \n",
      "2 | classifier | Linear           | 940 K \n",
      "------------------------------------------------\n",
      "1.2 M     Trainable params\n",
      "0         Non-trainable params\n",
      "1.2 M     Total params\n",
      "4.922     Total estimated model params size (MB)\n"
     ]
    },
    {
     "data": {
      "application/vnd.jupyter.widget-view+json": {
       "model_id": "",
       "version_major": 2,
       "version_minor": 0
      },
      "text/plain": [
       "Validation sanity check: |                                                                       | 0/? [00:00<…"
      ]
     },
     "metadata": {},
     "output_type": "display_data"
    },
    {
     "name": "stdout",
     "output_type": "stream",
     "text": [
      "val\n",
      "tensor(0.7611, device='cuda:0')\n"
     ]
    },
    {
     "data": {
      "application/vnd.jupyter.widget-view+json": {
       "model_id": "f94b6313405c444aa6dba0e6e53d83c2",
       "version_major": 2,
       "version_minor": 0
      },
      "text/plain": [
       "Training: |                                                                                      | 0/? [00:00<…"
      ]
     },
     "metadata": {},
     "output_type": "display_data"
    },
    {
     "name": "stdout",
     "output_type": "stream",
     "text": [
      "train\n",
      "tensor(0.7398, device='cuda:0')\n"
     ]
    },
    {
     "data": {
      "application/vnd.jupyter.widget-view+json": {
       "model_id": "",
       "version_major": 2,
       "version_minor": 0
      },
      "text/plain": [
       "Validating: |                                                                                    | 0/? [00:00<…"
      ]
     },
     "metadata": {},
     "output_type": "display_data"
    },
    {
     "name": "stdout",
     "output_type": "stream",
     "text": [
      "val\n",
      "tensor(0.8088, device='cuda:0')\n"
     ]
    },
    {
     "name": "stderr",
     "output_type": "stream",
     "text": [
      "GPU available: True, used: True\n",
      "TPU available: False, using: 0 TPU cores\n",
      "Using native 16bit precision.\n",
      "LOCAL_RANK: 0 - CUDA_VISIBLE_DEVICES: [0]\n"
     ]
    },
    {
     "name": "stdout",
     "output_type": "stream",
     "text": [
      "0.7823529411764706\n"
     ]
    },
    {
     "name": "stderr",
     "output_type": "stream",
     "text": [
      "\n",
      "  | Name       | Type             | Params\n",
      "------------------------------------------------\n",
      "0 | loss_func  | CrossEntropyLoss | 0     \n",
      "1 | block      | Sequential       | 290 K \n",
      "2 | classifier | Linear           | 940 K \n",
      "------------------------------------------------\n",
      "1.2 M     Trainable params\n",
      "0         Non-trainable params\n",
      "1.2 M     Total params\n",
      "4.922     Total estimated model params size (MB)\n"
     ]
    },
    {
     "data": {
      "application/vnd.jupyter.widget-view+json": {
       "model_id": "",
       "version_major": 2,
       "version_minor": 0
      },
      "text/plain": [
       "Validation sanity check: |                                                                       | 0/? [00:00<…"
      ]
     },
     "metadata": {},
     "output_type": "display_data"
    },
    {
     "name": "stdout",
     "output_type": "stream",
     "text": [
      "val\n",
      "tensor(0.7649, device='cuda:0')\n"
     ]
    },
    {
     "data": {
      "application/vnd.jupyter.widget-view+json": {
       "model_id": "3729c78ee716473ab36e754f38156f8e",
       "version_major": 2,
       "version_minor": 0
      },
      "text/plain": [
       "Training: |                                                                                      | 0/? [00:00<…"
      ]
     },
     "metadata": {},
     "output_type": "display_data"
    },
    {
     "name": "stdout",
     "output_type": "stream",
     "text": [
      "train\n",
      "tensor(0.6145, device='cuda:0')\n"
     ]
    },
    {
     "data": {
      "application/vnd.jupyter.widget-view+json": {
       "model_id": "",
       "version_major": 2,
       "version_minor": 0
      },
      "text/plain": [
       "Validating: |                                                                                    | 0/? [00:00<…"
      ]
     },
     "metadata": {},
     "output_type": "display_data"
    },
    {
     "name": "stdout",
     "output_type": "stream",
     "text": [
      "val\n",
      "tensor(0.7641, device='cuda:0')\n"
     ]
    },
    {
     "name": "stderr",
     "output_type": "stream",
     "text": [
      "GPU available: True, used: True\n",
      "TPU available: False, using: 0 TPU cores\n",
      "Using native 16bit precision.\n",
      "LOCAL_RANK: 0 - CUDA_VISIBLE_DEVICES: [0]\n"
     ]
    },
    {
     "name": "stdout",
     "output_type": "stream",
     "text": [
      "0.8026143790849674\n"
     ]
    },
    {
     "name": "stderr",
     "output_type": "stream",
     "text": [
      "\n",
      "  | Name       | Type             | Params\n",
      "------------------------------------------------\n",
      "0 | loss_func  | CrossEntropyLoss | 0     \n",
      "1 | block      | Sequential       | 290 K \n",
      "2 | classifier | Linear           | 940 K \n",
      "------------------------------------------------\n",
      "1.2 M     Trainable params\n",
      "0         Non-trainable params\n",
      "1.2 M     Total params\n",
      "4.922     Total estimated model params size (MB)\n"
     ]
    },
    {
     "data": {
      "application/vnd.jupyter.widget-view+json": {
       "model_id": "",
       "version_major": 2,
       "version_minor": 0
      },
      "text/plain": [
       "Validation sanity check: |                                                                       | 0/? [00:00<…"
      ]
     },
     "metadata": {},
     "output_type": "display_data"
    },
    {
     "name": "stdout",
     "output_type": "stream",
     "text": [
      "val\n",
      "tensor(0.8218, device='cuda:0')\n"
     ]
    },
    {
     "data": {
      "application/vnd.jupyter.widget-view+json": {
       "model_id": "4f3faf1184a045ffb9d143a3b1566c06",
       "version_major": 2,
       "version_minor": 0
      },
      "text/plain": [
       "Training: |                                                                                      | 0/? [00:00<…"
      ]
     },
     "metadata": {},
     "output_type": "display_data"
    },
    {
     "name": "stdout",
     "output_type": "stream",
     "text": [
      "train\n",
      "tensor(0.5192, device='cuda:0')\n"
     ]
    },
    {
     "data": {
      "application/vnd.jupyter.widget-view+json": {
       "model_id": "",
       "version_major": 2,
       "version_minor": 0
      },
      "text/plain": [
       "Validating: |                                                                                    | 0/? [00:00<…"
      ]
     },
     "metadata": {},
     "output_type": "display_data"
    },
    {
     "name": "stdout",
     "output_type": "stream",
     "text": [
      "val\n",
      "tensor(0.8156, device='cuda:0')\n"
     ]
    },
    {
     "name": "stderr",
     "output_type": "stream",
     "text": [
      "GPU available: True, used: True\n",
      "TPU available: False, using: 0 TPU cores\n",
      "Using native 16bit precision.\n",
      "LOCAL_RANK: 0 - CUDA_VISIBLE_DEVICES: [0]\n"
     ]
    },
    {
     "name": "stdout",
     "output_type": "stream",
     "text": [
      "0.7986928104575164\n"
     ]
    },
    {
     "name": "stderr",
     "output_type": "stream",
     "text": [
      "\n",
      "  | Name       | Type             | Params\n",
      "------------------------------------------------\n",
      "0 | loss_func  | CrossEntropyLoss | 0     \n",
      "1 | block      | Sequential       | 290 K \n",
      "2 | classifier | Linear           | 940 K \n",
      "------------------------------------------------\n",
      "1.2 M     Trainable params\n",
      "0         Non-trainable params\n",
      "1.2 M     Total params\n",
      "4.922     Total estimated model params size (MB)\n"
     ]
    },
    {
     "data": {
      "application/vnd.jupyter.widget-view+json": {
       "model_id": "",
       "version_major": 2,
       "version_minor": 0
      },
      "text/plain": [
       "Validation sanity check: |                                                                       | 0/? [00:00<…"
      ]
     },
     "metadata": {},
     "output_type": "display_data"
    },
    {
     "name": "stdout",
     "output_type": "stream",
     "text": [
      "val\n",
      "tensor(0.7162, device='cuda:0')\n"
     ]
    },
    {
     "data": {
      "application/vnd.jupyter.widget-view+json": {
       "model_id": "e2ce05813ac545c4991276e84364eb7f",
       "version_major": 2,
       "version_minor": 0
      },
      "text/plain": [
       "Training: |                                                                                      | 0/? [00:00<…"
      ]
     },
     "metadata": {},
     "output_type": "display_data"
    },
    {
     "name": "stdout",
     "output_type": "stream",
     "text": [
      "train\n",
      "tensor(0.4621, device='cuda:0')\n"
     ]
    },
    {
     "data": {
      "application/vnd.jupyter.widget-view+json": {
       "model_id": "",
       "version_major": 2,
       "version_minor": 0
      },
      "text/plain": [
       "Validating: |                                                                                    | 0/? [00:00<…"
      ]
     },
     "metadata": {},
     "output_type": "display_data"
    },
    {
     "name": "stdout",
     "output_type": "stream",
     "text": [
      "val\n",
      "tensor(0.7452, device='cuda:0')\n"
     ]
    },
    {
     "name": "stderr",
     "output_type": "stream",
     "text": [
      "GPU available: True, used: True\n",
      "TPU available: False, using: 0 TPU cores\n",
      "Using native 16bit precision.\n",
      "LOCAL_RANK: 0 - CUDA_VISIBLE_DEVICES: [0]\n"
     ]
    },
    {
     "name": "stdout",
     "output_type": "stream",
     "text": [
      "0.8104575163398693\n"
     ]
    },
    {
     "name": "stderr",
     "output_type": "stream",
     "text": [
      "\n",
      "  | Name       | Type             | Params\n",
      "------------------------------------------------\n",
      "0 | loss_func  | CrossEntropyLoss | 0     \n",
      "1 | block      | Sequential       | 290 K \n",
      "2 | classifier | Linear           | 940 K \n",
      "------------------------------------------------\n",
      "1.2 M     Trainable params\n",
      "0         Non-trainable params\n",
      "1.2 M     Total params\n",
      "4.922     Total estimated model params size (MB)\n"
     ]
    },
    {
     "data": {
      "application/vnd.jupyter.widget-view+json": {
       "model_id": "",
       "version_major": 2,
       "version_minor": 0
      },
      "text/plain": [
       "Validation sanity check: |                                                                       | 0/? [00:00<…"
      ]
     },
     "metadata": {},
     "output_type": "display_data"
    },
    {
     "name": "stdout",
     "output_type": "stream",
     "text": [
      "val\n",
      "tensor(0.7019, device='cuda:0')\n"
     ]
    },
    {
     "data": {
      "application/vnd.jupyter.widget-view+json": {
       "model_id": "af8438376df74a32a375d545af83e383",
       "version_major": 2,
       "version_minor": 0
      },
      "text/plain": [
       "Training: |                                                                                      | 0/? [00:00<…"
      ]
     },
     "metadata": {},
     "output_type": "display_data"
    },
    {
     "name": "stdout",
     "output_type": "stream",
     "text": [
      "train\n",
      "tensor(0.4155, device='cuda:0')\n"
     ]
    },
    {
     "data": {
      "application/vnd.jupyter.widget-view+json": {
       "model_id": "",
       "version_major": 2,
       "version_minor": 0
      },
      "text/plain": [
       "Validating: |                                                                                    | 0/? [00:00<…"
      ]
     },
     "metadata": {},
     "output_type": "display_data"
    },
    {
     "name": "stdout",
     "output_type": "stream",
     "text": [
      "val\n",
      "tensor(0.7986, device='cuda:0')\n"
     ]
    },
    {
     "name": "stderr",
     "output_type": "stream",
     "text": [
      "GPU available: True, used: True\n",
      "TPU available: False, using: 0 TPU cores\n",
      "Using native 16bit precision.\n",
      "LOCAL_RANK: 0 - CUDA_VISIBLE_DEVICES: [0]\n"
     ]
    },
    {
     "name": "stdout",
     "output_type": "stream",
     "text": [
      "0.803921568627451\n"
     ]
    },
    {
     "name": "stderr",
     "output_type": "stream",
     "text": [
      "\n",
      "  | Name       | Type             | Params\n",
      "------------------------------------------------\n",
      "0 | loss_func  | CrossEntropyLoss | 0     \n",
      "1 | block      | Sequential       | 290 K \n",
      "2 | classifier | Linear           | 940 K \n",
      "------------------------------------------------\n",
      "1.2 M     Trainable params\n",
      "0         Non-trainable params\n",
      "1.2 M     Total params\n",
      "4.922     Total estimated model params size (MB)\n"
     ]
    },
    {
     "data": {
      "application/vnd.jupyter.widget-view+json": {
       "model_id": "",
       "version_major": 2,
       "version_minor": 0
      },
      "text/plain": [
       "Validation sanity check: |                                                                       | 0/? [00:00<…"
      ]
     },
     "metadata": {},
     "output_type": "display_data"
    },
    {
     "name": "stdout",
     "output_type": "stream",
     "text": [
      "val\n",
      "tensor(0.6851, device='cuda:0')\n"
     ]
    },
    {
     "data": {
      "application/vnd.jupyter.widget-view+json": {
       "model_id": "b3ccad258a344341a8f3d109757179ff",
       "version_major": 2,
       "version_minor": 0
      },
      "text/plain": [
       "Training: |                                                                                      | 0/? [00:00<…"
      ]
     },
     "metadata": {},
     "output_type": "display_data"
    },
    {
     "name": "stdout",
     "output_type": "stream",
     "text": [
      "train\n",
      "tensor(0.3712, device='cuda:0')\n"
     ]
    },
    {
     "data": {
      "application/vnd.jupyter.widget-view+json": {
       "model_id": "",
       "version_major": 2,
       "version_minor": 0
      },
      "text/plain": [
       "Validating: |                                                                                    | 0/? [00:00<…"
      ]
     },
     "metadata": {},
     "output_type": "display_data"
    },
    {
     "name": "stdout",
     "output_type": "stream",
     "text": [
      "val\n",
      "tensor(0.7835, device='cuda:0')\n"
     ]
    },
    {
     "name": "stderr",
     "output_type": "stream",
     "text": [
      "GPU available: True, used: True\n",
      "TPU available: False, using: 0 TPU cores\n",
      "Using native 16bit precision.\n",
      "LOCAL_RANK: 0 - CUDA_VISIBLE_DEVICES: [0]\n"
     ]
    },
    {
     "name": "stdout",
     "output_type": "stream",
     "text": [
      "0.8235294117647058\n"
     ]
    },
    {
     "name": "stderr",
     "output_type": "stream",
     "text": [
      "\n",
      "  | Name       | Type             | Params\n",
      "------------------------------------------------\n",
      "0 | loss_func  | CrossEntropyLoss | 0     \n",
      "1 | block      | Sequential       | 290 K \n",
      "2 | classifier | Linear           | 940 K \n",
      "------------------------------------------------\n",
      "1.2 M     Trainable params\n",
      "0         Non-trainable params\n",
      "1.2 M     Total params\n",
      "4.922     Total estimated model params size (MB)\n"
     ]
    },
    {
     "data": {
      "application/vnd.jupyter.widget-view+json": {
       "model_id": "",
       "version_major": 2,
       "version_minor": 0
      },
      "text/plain": [
       "Validation sanity check: |                                                                       | 0/? [00:00<…"
      ]
     },
     "metadata": {},
     "output_type": "display_data"
    },
    {
     "name": "stdout",
     "output_type": "stream",
     "text": [
      "val\n",
      "tensor(0.9027, device='cuda:0')\n"
     ]
    },
    {
     "data": {
      "application/vnd.jupyter.widget-view+json": {
       "model_id": "30340318ca7e41258d2d660a624d7686",
       "version_major": 2,
       "version_minor": 0
      },
      "text/plain": [
       "Training: |                                                                                      | 0/? [00:00<…"
      ]
     },
     "metadata": {},
     "output_type": "display_data"
    },
    {
     "name": "stdout",
     "output_type": "stream",
     "text": [
      "train\n",
      "tensor(0.3315, device='cuda:0')\n"
     ]
    },
    {
     "data": {
      "application/vnd.jupyter.widget-view+json": {
       "model_id": "",
       "version_major": 2,
       "version_minor": 0
      },
      "text/plain": [
       "Validating: |                                                                                    | 0/? [00:00<…"
      ]
     },
     "metadata": {},
     "output_type": "display_data"
    },
    {
     "name": "stdout",
     "output_type": "stream",
     "text": [
      "val\n",
      "tensor(0.8200, device='cuda:0')\n"
     ]
    },
    {
     "name": "stderr",
     "output_type": "stream",
     "text": [
      "GPU available: True, used: True\n",
      "TPU available: False, using: 0 TPU cores\n",
      "Using native 16bit precision.\n",
      "LOCAL_RANK: 0 - CUDA_VISIBLE_DEVICES: [0]\n"
     ]
    },
    {
     "name": "stdout",
     "output_type": "stream",
     "text": [
      "0.8130718954248366\n"
     ]
    },
    {
     "name": "stderr",
     "output_type": "stream",
     "text": [
      "\n",
      "  | Name       | Type             | Params\n",
      "------------------------------------------------\n",
      "0 | loss_func  | CrossEntropyLoss | 0     \n",
      "1 | block      | Sequential       | 290 K \n",
      "2 | classifier | Linear           | 940 K \n",
      "------------------------------------------------\n",
      "1.2 M     Trainable params\n",
      "0         Non-trainable params\n",
      "1.2 M     Total params\n",
      "4.922     Total estimated model params size (MB)\n"
     ]
    },
    {
     "data": {
      "application/vnd.jupyter.widget-view+json": {
       "model_id": "",
       "version_major": 2,
       "version_minor": 0
      },
      "text/plain": [
       "Validation sanity check: |                                                                       | 0/? [00:00<…"
      ]
     },
     "metadata": {},
     "output_type": "display_data"
    },
    {
     "name": "stdout",
     "output_type": "stream",
     "text": [
      "val\n",
      "tensor(0.6597, device='cuda:0')\n"
     ]
    },
    {
     "data": {
      "application/vnd.jupyter.widget-view+json": {
       "model_id": "7934013900dc4d929bb14da898d31f3d",
       "version_major": 2,
       "version_minor": 0
      },
      "text/plain": [
       "Training: |                                                                                      | 0/? [00:00<…"
      ]
     },
     "metadata": {},
     "output_type": "display_data"
    },
    {
     "name": "stdout",
     "output_type": "stream",
     "text": [
      "train\n",
      "tensor(0.3160, device='cuda:0')\n"
     ]
    },
    {
     "data": {
      "application/vnd.jupyter.widget-view+json": {
       "model_id": "",
       "version_major": 2,
       "version_minor": 0
      },
      "text/plain": [
       "Validating: |                                                                                    | 0/? [00:00<…"
      ]
     },
     "metadata": {},
     "output_type": "display_data"
    },
    {
     "name": "stdout",
     "output_type": "stream",
     "text": [
      "val\n",
      "tensor(0.8751, device='cuda:0')\n"
     ]
    },
    {
     "name": "stderr",
     "output_type": "stream",
     "text": [
      "GPU available: True, used: True\n",
      "TPU available: False, using: 0 TPU cores\n",
      "Using native 16bit precision.\n",
      "LOCAL_RANK: 0 - CUDA_VISIBLE_DEVICES: [0]\n"
     ]
    },
    {
     "name": "stdout",
     "output_type": "stream",
     "text": [
      "0.7967320261437908\n"
     ]
    },
    {
     "name": "stderr",
     "output_type": "stream",
     "text": [
      "\n",
      "  | Name       | Type             | Params\n",
      "------------------------------------------------\n",
      "0 | loss_func  | CrossEntropyLoss | 0     \n",
      "1 | block      | Sequential       | 290 K \n",
      "2 | classifier | Linear           | 940 K \n",
      "------------------------------------------------\n",
      "1.2 M     Trainable params\n",
      "0         Non-trainable params\n",
      "1.2 M     Total params\n",
      "4.922     Total estimated model params size (MB)\n"
     ]
    },
    {
     "data": {
      "application/vnd.jupyter.widget-view+json": {
       "model_id": "",
       "version_major": 2,
       "version_minor": 0
      },
      "text/plain": [
       "Validation sanity check: |                                                                       | 0/? [00:00<…"
      ]
     },
     "metadata": {},
     "output_type": "display_data"
    },
    {
     "name": "stdout",
     "output_type": "stream",
     "text": [
      "val\n",
      "tensor(0.7655, device='cuda:0')\n"
     ]
    },
    {
     "data": {
      "application/vnd.jupyter.widget-view+json": {
       "model_id": "74cf21f0180c4c3b8605d99187007f01",
       "version_major": 2,
       "version_minor": 0
      },
      "text/plain": [
       "Training: |                                                                                      | 0/? [00:00<…"
      ]
     },
     "metadata": {},
     "output_type": "display_data"
    },
    {
     "name": "stdout",
     "output_type": "stream",
     "text": [
      "train\n",
      "tensor(0.3019, device='cuda:0')\n"
     ]
    },
    {
     "data": {
      "application/vnd.jupyter.widget-view+json": {
       "model_id": "",
       "version_major": 2,
       "version_minor": 0
      },
      "text/plain": [
       "Validating: |                                                                                    | 0/? [00:00<…"
      ]
     },
     "metadata": {},
     "output_type": "display_data"
    },
    {
     "name": "stdout",
     "output_type": "stream",
     "text": [
      "val\n",
      "tensor(0.8549, device='cuda:0')\n"
     ]
    },
    {
     "name": "stderr",
     "output_type": "stream",
     "text": [
      "GPU available: True, used: True\n",
      "TPU available: False, using: 0 TPU cores\n",
      "Using native 16bit precision.\n",
      "LOCAL_RANK: 0 - CUDA_VISIBLE_DEVICES: [0]\n"
     ]
    },
    {
     "name": "stdout",
     "output_type": "stream",
     "text": [
      "0.8091503267973856\n"
     ]
    },
    {
     "name": "stderr",
     "output_type": "stream",
     "text": [
      "\n",
      "  | Name       | Type             | Params\n",
      "------------------------------------------------\n",
      "0 | loss_func  | CrossEntropyLoss | 0     \n",
      "1 | block      | Sequential       | 290 K \n",
      "2 | classifier | Linear           | 940 K \n",
      "------------------------------------------------\n",
      "1.2 M     Trainable params\n",
      "0         Non-trainable params\n",
      "1.2 M     Total params\n",
      "4.922     Total estimated model params size (MB)\n"
     ]
    },
    {
     "data": {
      "application/vnd.jupyter.widget-view+json": {
       "model_id": "",
       "version_major": 2,
       "version_minor": 0
      },
      "text/plain": [
       "Validation sanity check: |                                                                       | 0/? [00:00<…"
      ]
     },
     "metadata": {},
     "output_type": "display_data"
    },
    {
     "name": "stdout",
     "output_type": "stream",
     "text": [
      "val\n",
      "tensor(0.9449, device='cuda:0')\n"
     ]
    },
    {
     "data": {
      "application/vnd.jupyter.widget-view+json": {
       "model_id": "80fec3bb05934e3f859f4ea6d0fc12f2",
       "version_major": 2,
       "version_minor": 0
      },
      "text/plain": [
       "Training: |                                                                                      | 0/? [00:00<…"
      ]
     },
     "metadata": {},
     "output_type": "display_data"
    },
    {
     "name": "stdout",
     "output_type": "stream",
     "text": [
      "train\n",
      "tensor(0.2924, device='cuda:0')\n"
     ]
    },
    {
     "data": {
      "application/vnd.jupyter.widget-view+json": {
       "model_id": "",
       "version_major": 2,
       "version_minor": 0
      },
      "text/plain": [
       "Validating: |                                                                                    | 0/? [00:00<…"
      ]
     },
     "metadata": {},
     "output_type": "display_data"
    },
    {
     "name": "stdout",
     "output_type": "stream",
     "text": [
      "val\n",
      "tensor(0.8535, device='cuda:0')\n"
     ]
    },
    {
     "name": "stderr",
     "output_type": "stream",
     "text": [
      "GPU available: True, used: True\n",
      "TPU available: False, using: 0 TPU cores\n",
      "Using native 16bit precision.\n",
      "LOCAL_RANK: 0 - CUDA_VISIBLE_DEVICES: [0]\n"
     ]
    },
    {
     "name": "stdout",
     "output_type": "stream",
     "text": [
      "0.8084967320261438\n"
     ]
    },
    {
     "name": "stderr",
     "output_type": "stream",
     "text": [
      "\n",
      "  | Name       | Type             | Params\n",
      "------------------------------------------------\n",
      "0 | loss_func  | CrossEntropyLoss | 0     \n",
      "1 | block      | Sequential       | 290 K \n",
      "2 | classifier | Linear           | 940 K \n",
      "------------------------------------------------\n",
      "1.2 M     Trainable params\n",
      "0         Non-trainable params\n",
      "1.2 M     Total params\n",
      "4.922     Total estimated model params size (MB)\n"
     ]
    },
    {
     "data": {
      "application/vnd.jupyter.widget-view+json": {
       "model_id": "",
       "version_major": 2,
       "version_minor": 0
      },
      "text/plain": [
       "Validation sanity check: |                                                                       | 0/? [00:00<…"
      ]
     },
     "metadata": {},
     "output_type": "display_data"
    },
    {
     "name": "stdout",
     "output_type": "stream",
     "text": [
      "val\n",
      "tensor(0.7317, device='cuda:0')\n"
     ]
    },
    {
     "data": {
      "application/vnd.jupyter.widget-view+json": {
       "model_id": "719a05f790f6431dbc35fa3cf335e170",
       "version_major": 2,
       "version_minor": 0
      },
      "text/plain": [
       "Training: |                                                                                      | 0/? [00:00<…"
      ]
     },
     "metadata": {},
     "output_type": "display_data"
    },
    {
     "name": "stdout",
     "output_type": "stream",
     "text": [
      "train\n",
      "tensor(0.2737, device='cuda:0')\n"
     ]
    },
    {
     "data": {
      "application/vnd.jupyter.widget-view+json": {
       "model_id": "",
       "version_major": 2,
       "version_minor": 0
      },
      "text/plain": [
       "Validating: |                                                                                    | 0/? [00:00<…"
      ]
     },
     "metadata": {},
     "output_type": "display_data"
    },
    {
     "name": "stdout",
     "output_type": "stream",
     "text": [
      "val\n",
      "tensor(0.9156, device='cuda:0')\n"
     ]
    },
    {
     "name": "stderr",
     "output_type": "stream",
     "text": [
      "GPU available: True, used: True\n",
      "TPU available: False, using: 0 TPU cores\n",
      "Using native 16bit precision.\n",
      "LOCAL_RANK: 0 - CUDA_VISIBLE_DEVICES: [0]\n"
     ]
    },
    {
     "name": "stdout",
     "output_type": "stream",
     "text": [
      "0.8065359477124183\n"
     ]
    },
    {
     "name": "stderr",
     "output_type": "stream",
     "text": [
      "\n",
      "  | Name       | Type             | Params\n",
      "------------------------------------------------\n",
      "0 | loss_func  | CrossEntropyLoss | 0     \n",
      "1 | block      | Sequential       | 290 K \n",
      "2 | classifier | Linear           | 940 K \n",
      "------------------------------------------------\n",
      "1.2 M     Trainable params\n",
      "0         Non-trainable params\n",
      "1.2 M     Total params\n",
      "4.922     Total estimated model params size (MB)\n"
     ]
    },
    {
     "data": {
      "application/vnd.jupyter.widget-view+json": {
       "model_id": "",
       "version_major": 2,
       "version_minor": 0
      },
      "text/plain": [
       "Validation sanity check: |                                                                       | 0/? [00:00<…"
      ]
     },
     "metadata": {},
     "output_type": "display_data"
    },
    {
     "name": "stdout",
     "output_type": "stream",
     "text": [
      "val\n",
      "tensor(0.9604, device='cuda:0')\n"
     ]
    },
    {
     "data": {
      "application/vnd.jupyter.widget-view+json": {
       "model_id": "e52a7efc905e4fceac818d3c45d9c6d7",
       "version_major": 2,
       "version_minor": 0
      },
      "text/plain": [
       "Training: |                                                                                      | 0/? [00:00<…"
      ]
     },
     "metadata": {},
     "output_type": "display_data"
    },
    {
     "name": "stdout",
     "output_type": "stream",
     "text": [
      "train\n",
      "tensor(0.2483, device='cuda:0')\n"
     ]
    },
    {
     "data": {
      "application/vnd.jupyter.widget-view+json": {
       "model_id": "",
       "version_major": 2,
       "version_minor": 0
      },
      "text/plain": [
       "Validating: |                                                                                    | 0/? [00:00<…"
      ]
     },
     "metadata": {},
     "output_type": "display_data"
    },
    {
     "name": "stdout",
     "output_type": "stream",
     "text": [
      "val\n",
      "tensor(0.9125, device='cuda:0')\n"
     ]
    },
    {
     "name": "stderr",
     "output_type": "stream",
     "text": [
      "GPU available: True, used: True\n",
      "TPU available: False, using: 0 TPU cores\n",
      "Using native 16bit precision.\n",
      "LOCAL_RANK: 0 - CUDA_VISIBLE_DEVICES: [0]\n"
     ]
    },
    {
     "name": "stdout",
     "output_type": "stream",
     "text": [
      "0.8091503267973856\n"
     ]
    },
    {
     "name": "stderr",
     "output_type": "stream",
     "text": [
      "\n",
      "  | Name       | Type             | Params\n",
      "------------------------------------------------\n",
      "0 | loss_func  | CrossEntropyLoss | 0     \n",
      "1 | block      | Sequential       | 290 K \n",
      "2 | classifier | Linear           | 940 K \n",
      "------------------------------------------------\n",
      "1.2 M     Trainable params\n",
      "0         Non-trainable params\n",
      "1.2 M     Total params\n",
      "4.922     Total estimated model params size (MB)\n"
     ]
    },
    {
     "data": {
      "application/vnd.jupyter.widget-view+json": {
       "model_id": "",
       "version_major": 2,
       "version_minor": 0
      },
      "text/plain": [
       "Validation sanity check: |                                                                       | 0/? [00:00<…"
      ]
     },
     "metadata": {},
     "output_type": "display_data"
    },
    {
     "name": "stdout",
     "output_type": "stream",
     "text": [
      "val\n",
      "tensor(0.7265, device='cuda:0')\n"
     ]
    },
    {
     "data": {
      "application/vnd.jupyter.widget-view+json": {
       "model_id": "cd1c88db8dd44284ad63741784a5f7c0",
       "version_major": 2,
       "version_minor": 0
      },
      "text/plain": [
       "Training: |                                                                                      | 0/? [00:00<…"
      ]
     },
     "metadata": {},
     "output_type": "display_data"
    },
    {
     "name": "stdout",
     "output_type": "stream",
     "text": [
      "train\n",
      "tensor(0.2433, device='cuda:0')\n"
     ]
    },
    {
     "data": {
      "application/vnd.jupyter.widget-view+json": {
       "model_id": "",
       "version_major": 2,
       "version_minor": 0
      },
      "text/plain": [
       "Validating: |                                                                                    | 0/? [00:00<…"
      ]
     },
     "metadata": {},
     "output_type": "display_data"
    },
    {
     "name": "stdout",
     "output_type": "stream",
     "text": [
      "val\n",
      "tensor(0.8776, device='cuda:0')\n"
     ]
    },
    {
     "name": "stderr",
     "output_type": "stream",
     "text": [
      "GPU available: True, used: True\n",
      "TPU available: False, using: 0 TPU cores\n",
      "Using native 16bit precision.\n",
      "LOCAL_RANK: 0 - CUDA_VISIBLE_DEVICES: [0]\n"
     ]
    },
    {
     "name": "stdout",
     "output_type": "stream",
     "text": [
      "0.8156862745098039\n"
     ]
    },
    {
     "name": "stderr",
     "output_type": "stream",
     "text": [
      "\n",
      "  | Name       | Type             | Params\n",
      "------------------------------------------------\n",
      "0 | loss_func  | CrossEntropyLoss | 0     \n",
      "1 | block      | Sequential       | 290 K \n",
      "2 | classifier | Linear           | 940 K \n",
      "------------------------------------------------\n",
      "1.2 M     Trainable params\n",
      "0         Non-trainable params\n",
      "1.2 M     Total params\n",
      "4.922     Total estimated model params size (MB)\n"
     ]
    },
    {
     "data": {
      "application/vnd.jupyter.widget-view+json": {
       "model_id": "",
       "version_major": 2,
       "version_minor": 0
      },
      "text/plain": [
       "Validation sanity check: |                                                                       | 0/? [00:00<…"
      ]
     },
     "metadata": {},
     "output_type": "display_data"
    },
    {
     "name": "stdout",
     "output_type": "stream",
     "text": [
      "val\n",
      "tensor(0.8478, device='cuda:0')\n"
     ]
    },
    {
     "data": {
      "application/vnd.jupyter.widget-view+json": {
       "model_id": "fc4729d9430f4f1397de26b6fdc94f6e",
       "version_major": 2,
       "version_minor": 0
      },
      "text/plain": [
       "Training: |                                                                                      | 0/? [00:00<…"
      ]
     },
     "metadata": {},
     "output_type": "display_data"
    },
    {
     "name": "stdout",
     "output_type": "stream",
     "text": [
      "train\n",
      "tensor(0.2335, device='cuda:0')\n"
     ]
    },
    {
     "data": {
      "application/vnd.jupyter.widget-view+json": {
       "model_id": "",
       "version_major": 2,
       "version_minor": 0
      },
      "text/plain": [
       "Validating: |                                                                                    | 0/? [00:00<…"
      ]
     },
     "metadata": {},
     "output_type": "display_data"
    },
    {
     "name": "stdout",
     "output_type": "stream",
     "text": [
      "val\n",
      "tensor(0.9787, device='cuda:0')\n"
     ]
    },
    {
     "name": "stderr",
     "output_type": "stream",
     "text": [
      "GPU available: True, used: True\n",
      "TPU available: False, using: 0 TPU cores\n",
      "Using native 16bit precision.\n",
      "LOCAL_RANK: 0 - CUDA_VISIBLE_DEVICES: [0]\n"
     ]
    },
    {
     "name": "stdout",
     "output_type": "stream",
     "text": [
      "0.8058823529411765\n"
     ]
    },
    {
     "name": "stderr",
     "output_type": "stream",
     "text": [
      "\n",
      "  | Name       | Type             | Params\n",
      "------------------------------------------------\n",
      "0 | loss_func  | CrossEntropyLoss | 0     \n",
      "1 | block      | Sequential       | 290 K \n",
      "2 | classifier | Linear           | 940 K \n",
      "------------------------------------------------\n",
      "1.2 M     Trainable params\n",
      "0         Non-trainable params\n",
      "1.2 M     Total params\n",
      "4.922     Total estimated model params size (MB)\n"
     ]
    },
    {
     "data": {
      "application/vnd.jupyter.widget-view+json": {
       "model_id": "",
       "version_major": 2,
       "version_minor": 0
      },
      "text/plain": [
       "Validation sanity check: |                                                                       | 0/? [00:00<…"
      ]
     },
     "metadata": {},
     "output_type": "display_data"
    },
    {
     "name": "stdout",
     "output_type": "stream",
     "text": [
      "val\n",
      "tensor(0.8655, device='cuda:0')\n"
     ]
    },
    {
     "data": {
      "application/vnd.jupyter.widget-view+json": {
       "model_id": "78bf0d57dee4422db3eafc7aea4c0439",
       "version_major": 2,
       "version_minor": 0
      },
      "text/plain": [
       "Training: |                                                                                      | 0/? [00:00<…"
      ]
     },
     "metadata": {},
     "output_type": "display_data"
    },
    {
     "name": "stdout",
     "output_type": "stream",
     "text": [
      "train\n",
      "tensor(0.2303, device='cuda:0')\n"
     ]
    },
    {
     "data": {
      "application/vnd.jupyter.widget-view+json": {
       "model_id": "",
       "version_major": 2,
       "version_minor": 0
      },
      "text/plain": [
       "Validating: |                                                                                    | 0/? [00:00<…"
      ]
     },
     "metadata": {},
     "output_type": "display_data"
    },
    {
     "name": "stdout",
     "output_type": "stream",
     "text": [
      "val\n",
      "tensor(0.9060, device='cuda:0')\n"
     ]
    },
    {
     "name": "stderr",
     "output_type": "stream",
     "text": [
      "GPU available: True, used: True\n",
      "TPU available: False, using: 0 TPU cores\n",
      "Using native 16bit precision.\n",
      "LOCAL_RANK: 0 - CUDA_VISIBLE_DEVICES: [0]\n"
     ]
    },
    {
     "name": "stdout",
     "output_type": "stream",
     "text": [
      "0.8104575163398693\n"
     ]
    },
    {
     "name": "stderr",
     "output_type": "stream",
     "text": [
      "\n",
      "  | Name       | Type             | Params\n",
      "------------------------------------------------\n",
      "0 | loss_func  | CrossEntropyLoss | 0     \n",
      "1 | block      | Sequential       | 290 K \n",
      "2 | classifier | Linear           | 940 K \n",
      "------------------------------------------------\n",
      "1.2 M     Trainable params\n",
      "0         Non-trainable params\n",
      "1.2 M     Total params\n",
      "4.922     Total estimated model params size (MB)\n"
     ]
    },
    {
     "data": {
      "application/vnd.jupyter.widget-view+json": {
       "model_id": "",
       "version_major": 2,
       "version_minor": 0
      },
      "text/plain": [
       "Validation sanity check: |                                                                       | 0/? [00:00<…"
      ]
     },
     "metadata": {},
     "output_type": "display_data"
    },
    {
     "name": "stdout",
     "output_type": "stream",
     "text": [
      "val\n",
      "tensor(0.7357, device='cuda:0')\n"
     ]
    },
    {
     "data": {
      "application/vnd.jupyter.widget-view+json": {
       "model_id": "483a0762e6b74453a42c840432bb95bb",
       "version_major": 2,
       "version_minor": 0
      },
      "text/plain": [
       "Training: |                                                                                      | 0/? [00:00<…"
      ]
     },
     "metadata": {},
     "output_type": "display_data"
    },
    {
     "name": "stdout",
     "output_type": "stream",
     "text": [
      "train\n",
      "tensor(0.2252, device='cuda:0')\n"
     ]
    },
    {
     "data": {
      "application/vnd.jupyter.widget-view+json": {
       "model_id": "",
       "version_major": 2,
       "version_minor": 0
      },
      "text/plain": [
       "Validating: |                                                                                    | 0/? [00:00<…"
      ]
     },
     "metadata": {},
     "output_type": "display_data"
    },
    {
     "name": "stdout",
     "output_type": "stream",
     "text": [
      "val\n",
      "tensor(0.9115, device='cuda:0')\n"
     ]
    },
    {
     "name": "stderr",
     "output_type": "stream",
     "text": [
      "GPU available: True, used: True\n",
      "TPU available: False, using: 0 TPU cores\n",
      "Using native 16bit precision.\n",
      "LOCAL_RANK: 0 - CUDA_VISIBLE_DEVICES: [0]\n"
     ]
    },
    {
     "name": "stdout",
     "output_type": "stream",
     "text": [
      "0.8019607843137255\n"
     ]
    },
    {
     "name": "stderr",
     "output_type": "stream",
     "text": [
      "\n",
      "  | Name       | Type             | Params\n",
      "------------------------------------------------\n",
      "0 | loss_func  | CrossEntropyLoss | 0     \n",
      "1 | block      | Sequential       | 290 K \n",
      "2 | classifier | Linear           | 940 K \n",
      "------------------------------------------------\n",
      "1.2 M     Trainable params\n",
      "0         Non-trainable params\n",
      "1.2 M     Total params\n",
      "4.922     Total estimated model params size (MB)\n"
     ]
    },
    {
     "data": {
      "application/vnd.jupyter.widget-view+json": {
       "model_id": "",
       "version_major": 2,
       "version_minor": 0
      },
      "text/plain": [
       "Validation sanity check: |                                                                       | 0/? [00:00<…"
      ]
     },
     "metadata": {},
     "output_type": "display_data"
    },
    {
     "name": "stdout",
     "output_type": "stream",
     "text": [
      "val\n",
      "tensor(0.7676, device='cuda:0')\n"
     ]
    },
    {
     "data": {
      "application/vnd.jupyter.widget-view+json": {
       "model_id": "04ef874cd5b747a8a0e08a309b41f69d",
       "version_major": 2,
       "version_minor": 0
      },
      "text/plain": [
       "Training: |                                                                                      | 0/? [00:00<…"
      ]
     },
     "metadata": {},
     "output_type": "display_data"
    },
    {
     "name": "stdout",
     "output_type": "stream",
     "text": [
      "train\n",
      "tensor(0.2026, device='cuda:0')\n"
     ]
    },
    {
     "data": {
      "application/vnd.jupyter.widget-view+json": {
       "model_id": "",
       "version_major": 2,
       "version_minor": 0
      },
      "text/plain": [
       "Validating: |                                                                                    | 0/? [00:00<…"
      ]
     },
     "metadata": {},
     "output_type": "display_data"
    },
    {
     "name": "stdout",
     "output_type": "stream",
     "text": [
      "val\n",
      "tensor(0.9305, device='cuda:0')\n"
     ]
    },
    {
     "name": "stderr",
     "output_type": "stream",
     "text": [
      "GPU available: True, used: True\n",
      "TPU available: False, using: 0 TPU cores\n",
      "Using native 16bit precision.\n",
      "LOCAL_RANK: 0 - CUDA_VISIBLE_DEVICES: [0]\n"
     ]
    },
    {
     "name": "stdout",
     "output_type": "stream",
     "text": [
      "0.8294117647058824\n"
     ]
    },
    {
     "name": "stderr",
     "output_type": "stream",
     "text": [
      "\n",
      "  | Name       | Type             | Params\n",
      "------------------------------------------------\n",
      "0 | loss_func  | CrossEntropyLoss | 0     \n",
      "1 | block      | Sequential       | 290 K \n",
      "2 | classifier | Linear           | 940 K \n",
      "------------------------------------------------\n",
      "1.2 M     Trainable params\n",
      "0         Non-trainable params\n",
      "1.2 M     Total params\n",
      "4.922     Total estimated model params size (MB)\n"
     ]
    },
    {
     "data": {
      "application/vnd.jupyter.widget-view+json": {
       "model_id": "",
       "version_major": 2,
       "version_minor": 0
      },
      "text/plain": [
       "Validation sanity check: |                                                                       | 0/? [00:00<…"
      ]
     },
     "metadata": {},
     "output_type": "display_data"
    },
    {
     "name": "stdout",
     "output_type": "stream",
     "text": [
      "val\n",
      "tensor(0.9153, device='cuda:0')\n"
     ]
    },
    {
     "data": {
      "application/vnd.jupyter.widget-view+json": {
       "model_id": "c63265a86e8946a0997796a110658bb1",
       "version_major": 2,
       "version_minor": 0
      },
      "text/plain": [
       "Training: |                                                                                      | 0/? [00:00<…"
      ]
     },
     "metadata": {},
     "output_type": "display_data"
    },
    {
     "name": "stdout",
     "output_type": "stream",
     "text": [
      "train\n",
      "tensor(0.1962, device='cuda:0')\n"
     ]
    },
    {
     "data": {
      "application/vnd.jupyter.widget-view+json": {
       "model_id": "",
       "version_major": 2,
       "version_minor": 0
      },
      "text/plain": [
       "Validating: |                                                                                    | 0/? [00:00<…"
      ]
     },
     "metadata": {},
     "output_type": "display_data"
    },
    {
     "name": "stdout",
     "output_type": "stream",
     "text": [
      "val\n",
      "tensor(1.0019, device='cuda:0')\n"
     ]
    },
    {
     "name": "stderr",
     "output_type": "stream",
     "text": [
      "GPU available: True, used: True\n",
      "TPU available: False, using: 0 TPU cores\n",
      "Using native 16bit precision.\n",
      "LOCAL_RANK: 0 - CUDA_VISIBLE_DEVICES: [0]\n"
     ]
    },
    {
     "name": "stdout",
     "output_type": "stream",
     "text": [
      "0.7986928104575164\n"
     ]
    },
    {
     "name": "stderr",
     "output_type": "stream",
     "text": [
      "\n",
      "  | Name       | Type             | Params\n",
      "------------------------------------------------\n",
      "0 | loss_func  | CrossEntropyLoss | 0     \n",
      "1 | block      | Sequential       | 290 K \n",
      "2 | classifier | Linear           | 940 K \n",
      "------------------------------------------------\n",
      "1.2 M     Trainable params\n",
      "0         Non-trainable params\n",
      "1.2 M     Total params\n",
      "4.922     Total estimated model params size (MB)\n"
     ]
    },
    {
     "data": {
      "application/vnd.jupyter.widget-view+json": {
       "model_id": "",
       "version_major": 2,
       "version_minor": 0
      },
      "text/plain": [
       "Validation sanity check: |                                                                       | 0/? [00:00<…"
      ]
     },
     "metadata": {},
     "output_type": "display_data"
    },
    {
     "name": "stdout",
     "output_type": "stream",
     "text": [
      "val\n",
      "tensor(0.8770, device='cuda:0')\n"
     ]
    },
    {
     "data": {
      "application/vnd.jupyter.widget-view+json": {
       "model_id": "60c3fa67075e4ffe9e2638aa92195a81",
       "version_major": 2,
       "version_minor": 0
      },
      "text/plain": [
       "Training: |                                                                                      | 0/? [00:00<…"
      ]
     },
     "metadata": {},
     "output_type": "display_data"
    },
    {
     "name": "stdout",
     "output_type": "stream",
     "text": [
      "train\n",
      "tensor(0.1957, device='cuda:0')\n"
     ]
    },
    {
     "data": {
      "application/vnd.jupyter.widget-view+json": {
       "model_id": "",
       "version_major": 2,
       "version_minor": 0
      },
      "text/plain": [
       "Validating: |                                                                                    | 0/? [00:00<…"
      ]
     },
     "metadata": {},
     "output_type": "display_data"
    },
    {
     "name": "stdout",
     "output_type": "stream",
     "text": [
      "val\n",
      "tensor(0.9115, device='cuda:0')\n"
     ]
    },
    {
     "name": "stderr",
     "output_type": "stream",
     "text": [
      "GPU available: True, used: True\n",
      "TPU available: False, using: 0 TPU cores\n",
      "Using native 16bit precision.\n",
      "LOCAL_RANK: 0 - CUDA_VISIBLE_DEVICES: [0]\n"
     ]
    },
    {
     "name": "stdout",
     "output_type": "stream",
     "text": [
      "0.8137254901960784\n"
     ]
    },
    {
     "name": "stderr",
     "output_type": "stream",
     "text": [
      "\n",
      "  | Name       | Type             | Params\n",
      "------------------------------------------------\n",
      "0 | loss_func  | CrossEntropyLoss | 0     \n",
      "1 | block      | Sequential       | 290 K \n",
      "2 | classifier | Linear           | 940 K \n",
      "------------------------------------------------\n",
      "1.2 M     Trainable params\n",
      "0         Non-trainable params\n",
      "1.2 M     Total params\n",
      "4.922     Total estimated model params size (MB)\n"
     ]
    },
    {
     "data": {
      "application/vnd.jupyter.widget-view+json": {
       "model_id": "",
       "version_major": 2,
       "version_minor": 0
      },
      "text/plain": [
       "Validation sanity check: |                                                                       | 0/? [00:00<…"
      ]
     },
     "metadata": {},
     "output_type": "display_data"
    },
    {
     "name": "stdout",
     "output_type": "stream",
     "text": [
      "val\n",
      "tensor(0.7168, device='cuda:0')\n"
     ]
    },
    {
     "data": {
      "application/vnd.jupyter.widget-view+json": {
       "model_id": "859e5e7bd9cf496687372682121cdda0",
       "version_major": 2,
       "version_minor": 0
      },
      "text/plain": [
       "Training: |                                                                                      | 0/? [00:00<…"
      ]
     },
     "metadata": {},
     "output_type": "display_data"
    },
    {
     "name": "stdout",
     "output_type": "stream",
     "text": [
      "train\n",
      "tensor(0.1924, device='cuda:0')\n"
     ]
    },
    {
     "data": {
      "application/vnd.jupyter.widget-view+json": {
       "model_id": "",
       "version_major": 2,
       "version_minor": 0
      },
      "text/plain": [
       "Validating: |                                                                                    | 0/? [00:00<…"
      ]
     },
     "metadata": {},
     "output_type": "display_data"
    },
    {
     "name": "stdout",
     "output_type": "stream",
     "text": [
      "val\n",
      "tensor(0.9804, device='cuda:0')\n"
     ]
    },
    {
     "name": "stderr",
     "output_type": "stream",
     "text": [
      "GPU available: True, used: True\n",
      "TPU available: False, using: 0 TPU cores\n",
      "Using native 16bit precision.\n",
      "LOCAL_RANK: 0 - CUDA_VISIBLE_DEVICES: [0]\n"
     ]
    },
    {
     "name": "stdout",
     "output_type": "stream",
     "text": [
      "0.8104575163398693\n"
     ]
    },
    {
     "name": "stderr",
     "output_type": "stream",
     "text": [
      "\n",
      "  | Name       | Type             | Params\n",
      "------------------------------------------------\n",
      "0 | loss_func  | CrossEntropyLoss | 0     \n",
      "1 | block      | Sequential       | 290 K \n",
      "2 | classifier | Linear           | 940 K \n",
      "------------------------------------------------\n",
      "1.2 M     Trainable params\n",
      "0         Non-trainable params\n",
      "1.2 M     Total params\n",
      "4.922     Total estimated model params size (MB)\n"
     ]
    },
    {
     "data": {
      "application/vnd.jupyter.widget-view+json": {
       "model_id": "",
       "version_major": 2,
       "version_minor": 0
      },
      "text/plain": [
       "Validation sanity check: |                                                                       | 0/? [00:00<…"
      ]
     },
     "metadata": {},
     "output_type": "display_data"
    },
    {
     "name": "stdout",
     "output_type": "stream",
     "text": [
      "val\n",
      "tensor(0.7965, device='cuda:0')\n"
     ]
    },
    {
     "data": {
      "application/vnd.jupyter.widget-view+json": {
       "model_id": "ca01b17062ce4915b54a354860b15cad",
       "version_major": 2,
       "version_minor": 0
      },
      "text/plain": [
       "Training: |                                                                                      | 0/? [00:00<…"
      ]
     },
     "metadata": {},
     "output_type": "display_data"
    },
    {
     "name": "stdout",
     "output_type": "stream",
     "text": [
      "train\n",
      "tensor(0.1838, device='cuda:0')\n"
     ]
    },
    {
     "data": {
      "application/vnd.jupyter.widget-view+json": {
       "model_id": "",
       "version_major": 2,
       "version_minor": 0
      },
      "text/plain": [
       "Validating: |                                                                                    | 0/? [00:00<…"
      ]
     },
     "metadata": {},
     "output_type": "display_data"
    },
    {
     "name": "stdout",
     "output_type": "stream",
     "text": [
      "val\n",
      "tensor(1.0224, device='cuda:0')\n"
     ]
    },
    {
     "name": "stderr",
     "output_type": "stream",
     "text": [
      "GPU available: True, used: True\n",
      "TPU available: False, using: 0 TPU cores\n",
      "Using native 16bit precision.\n",
      "LOCAL_RANK: 0 - CUDA_VISIBLE_DEVICES: [0]\n"
     ]
    },
    {
     "name": "stdout",
     "output_type": "stream",
     "text": [
      "0.8137254901960784\n"
     ]
    },
    {
     "name": "stderr",
     "output_type": "stream",
     "text": [
      "\n",
      "  | Name       | Type             | Params\n",
      "------------------------------------------------\n",
      "0 | loss_func  | CrossEntropyLoss | 0     \n",
      "1 | block      | Sequential       | 290 K \n",
      "2 | classifier | Linear           | 940 K \n",
      "------------------------------------------------\n",
      "1.2 M     Trainable params\n",
      "0         Non-trainable params\n",
      "1.2 M     Total params\n",
      "4.922     Total estimated model params size (MB)\n"
     ]
    },
    {
     "data": {
      "application/vnd.jupyter.widget-view+json": {
       "model_id": "",
       "version_major": 2,
       "version_minor": 0
      },
      "text/plain": [
       "Validation sanity check: |                                                                       | 0/? [00:00<…"
      ]
     },
     "metadata": {},
     "output_type": "display_data"
    },
    {
     "name": "stdout",
     "output_type": "stream",
     "text": [
      "val\n",
      "tensor(1.0842, device='cuda:0')\n"
     ]
    },
    {
     "data": {
      "application/vnd.jupyter.widget-view+json": {
       "model_id": "addc221a0d4c411e8a05d7dfd1d70ae9",
       "version_major": 2,
       "version_minor": 0
      },
      "text/plain": [
       "Training: |                                                                                      | 0/? [00:00<…"
      ]
     },
     "metadata": {},
     "output_type": "display_data"
    },
    {
     "name": "stdout",
     "output_type": "stream",
     "text": [
      "train\n",
      "tensor(0.1773, device='cuda:0')\n"
     ]
    },
    {
     "data": {
      "application/vnd.jupyter.widget-view+json": {
       "model_id": "",
       "version_major": 2,
       "version_minor": 0
      },
      "text/plain": [
       "Validating: |                                                                                    | 0/? [00:00<…"
      ]
     },
     "metadata": {},
     "output_type": "display_data"
    },
    {
     "name": "stdout",
     "output_type": "stream",
     "text": [
      "val\n",
      "tensor(0.9631, device='cuda:0')\n"
     ]
    },
    {
     "name": "stderr",
     "output_type": "stream",
     "text": [
      "GPU available: True, used: True\n",
      "TPU available: False, using: 0 TPU cores\n",
      "Using native 16bit precision.\n",
      "LOCAL_RANK: 0 - CUDA_VISIBLE_DEVICES: [0]\n"
     ]
    },
    {
     "name": "stdout",
     "output_type": "stream",
     "text": [
      "0.8104575163398693\n"
     ]
    },
    {
     "name": "stderr",
     "output_type": "stream",
     "text": [
      "\n",
      "  | Name       | Type             | Params\n",
      "------------------------------------------------\n",
      "0 | loss_func  | CrossEntropyLoss | 0     \n",
      "1 | block      | Sequential       | 290 K \n",
      "2 | classifier | Linear           | 940 K \n",
      "------------------------------------------------\n",
      "1.2 M     Trainable params\n",
      "0         Non-trainable params\n",
      "1.2 M     Total params\n",
      "4.922     Total estimated model params size (MB)\n"
     ]
    },
    {
     "data": {
      "application/vnd.jupyter.widget-view+json": {
       "model_id": "",
       "version_major": 2,
       "version_minor": 0
      },
      "text/plain": [
       "Validation sanity check: |                                                                       | 0/? [00:00<…"
      ]
     },
     "metadata": {},
     "output_type": "display_data"
    },
    {
     "name": "stdout",
     "output_type": "stream",
     "text": [
      "val\n",
      "tensor(1.0971, device='cuda:0')\n"
     ]
    },
    {
     "data": {
      "application/vnd.jupyter.widget-view+json": {
       "model_id": "dcc08296f3ba43a9afa24e58970acaec",
       "version_major": 2,
       "version_minor": 0
      },
      "text/plain": [
       "Training: |                                                                                      | 0/? [00:00<…"
      ]
     },
     "metadata": {},
     "output_type": "display_data"
    },
    {
     "name": "stdout",
     "output_type": "stream",
     "text": [
      "train\n",
      "tensor(0.1678, device='cuda:0')\n"
     ]
    },
    {
     "data": {
      "application/vnd.jupyter.widget-view+json": {
       "model_id": "",
       "version_major": 2,
       "version_minor": 0
      },
      "text/plain": [
       "Validating: |                                                                                    | 0/? [00:00<…"
      ]
     },
     "metadata": {},
     "output_type": "display_data"
    },
    {
     "name": "stdout",
     "output_type": "stream",
     "text": [
      "val\n",
      "tensor(0.9413, device='cuda:0')\n",
      "0.8124183006535948\n"
     ]
    }
   ],
   "source": [
    "for i in range(25):\n",
    "    train_cnn_final(cnn50,max_ep=1)\n",
    "    _,acc = test_cnn_onehot(cnn50)\n",
    "    history_acc.append(acc)"
   ]
  },
  {
   "cell_type": "code",
   "execution_count": 420,
   "metadata": {},
   "outputs": [
    {
     "data": {
      "text/plain": [
       "tensor(0.0463, device='cuda:0')"
      ]
     },
     "execution_count": 420,
     "metadata": {},
     "output_type": "execute_result"
    }
   ],
   "source": [
    "training_loss[74]"
   ]
  },
  {
   "cell_type": "code",
   "execution_count": 392,
   "metadata": {},
   "outputs": [
    {
     "name": "stderr",
     "output_type": "stream",
     "text": [
      "GPU available: True, used: True\n",
      "TPU available: False, using: 0 TPU cores\n",
      "Using native 16bit precision.\n",
      "LOCAL_RANK: 0 - CUDA_VISIBLE_DEVICES: [0]\n",
      "\n",
      "  | Name       | Type             | Params\n",
      "------------------------------------------------\n",
      "0 | loss_func  | CrossEntropyLoss | 0     \n",
      "1 | block      | Sequential       | 290 K \n",
      "2 | classifier | Linear           | 940 K \n",
      "------------------------------------------------\n",
      "1.2 M     Trainable params\n",
      "0         Non-trainable params\n",
      "1.2 M     Total params\n",
      "4.922     Total estimated model params size (MB)\n"
     ]
    },
    {
     "data": {
      "application/vnd.jupyter.widget-view+json": {
       "model_id": "",
       "version_major": 2,
       "version_minor": 0
      },
      "text/plain": [
       "Validation sanity check: |                                                                       | 0/? [00:00<…"
      ]
     },
     "metadata": {},
     "output_type": "display_data"
    },
    {
     "name": "stdout",
     "output_type": "stream",
     "text": [
      "val\n",
      "tensor(0.7741, device='cuda:0')\n"
     ]
    },
    {
     "data": {
      "application/vnd.jupyter.widget-view+json": {
       "model_id": "fed8fb5961194020b387a95b3db3ca02",
       "version_major": 2,
       "version_minor": 0
      },
      "text/plain": [
       "Training: |                                                                                      | 0/? [00:00<…"
      ]
     },
     "metadata": {},
     "output_type": "display_data"
    },
    {
     "name": "stdout",
     "output_type": "stream",
     "text": [
      "train\n",
      "tensor(0.1105, device='cuda:0')\n"
     ]
    },
    {
     "data": {
      "application/vnd.jupyter.widget-view+json": {
       "model_id": "",
       "version_major": 2,
       "version_minor": 0
      },
      "text/plain": [
       "Validating: |                                                                                    | 0/? [00:00<…"
      ]
     },
     "metadata": {},
     "output_type": "display_data"
    },
    {
     "name": "stdout",
     "output_type": "stream",
     "text": [
      "val\n",
      "tensor(0.8782, device='cuda:0')\n"
     ]
    },
    {
     "name": "stderr",
     "output_type": "stream",
     "text": [
      "GPU available: True, used: True\n",
      "TPU available: False, using: 0 TPU cores\n",
      "Using native 16bit precision.\n",
      "LOCAL_RANK: 0 - CUDA_VISIBLE_DEVICES: [0]\n"
     ]
    },
    {
     "name": "stdout",
     "output_type": "stream",
     "text": [
      "0.8326797385620915\n"
     ]
    },
    {
     "name": "stderr",
     "output_type": "stream",
     "text": [
      "\n",
      "  | Name       | Type             | Params\n",
      "------------------------------------------------\n",
      "0 | loss_func  | CrossEntropyLoss | 0     \n",
      "1 | block      | Sequential       | 290 K \n",
      "2 | classifier | Linear           | 940 K \n",
      "------------------------------------------------\n",
      "1.2 M     Trainable params\n",
      "0         Non-trainable params\n",
      "1.2 M     Total params\n",
      "4.922     Total estimated model params size (MB)\n"
     ]
    },
    {
     "data": {
      "application/vnd.jupyter.widget-view+json": {
       "model_id": "",
       "version_major": 2,
       "version_minor": 0
      },
      "text/plain": [
       "Validation sanity check: |                                                                       | 0/? [00:00<…"
      ]
     },
     "metadata": {},
     "output_type": "display_data"
    },
    {
     "name": "stdout",
     "output_type": "stream",
     "text": [
      "val\n",
      "tensor(0.5832, device='cuda:0')\n"
     ]
    },
    {
     "data": {
      "application/vnd.jupyter.widget-view+json": {
       "model_id": "071c3045e5eb4230acb80c34fc020848",
       "version_major": 2,
       "version_minor": 0
      },
      "text/plain": [
       "Training: |                                                                                      | 0/? [00:00<…"
      ]
     },
     "metadata": {},
     "output_type": "display_data"
    },
    {
     "name": "stdout",
     "output_type": "stream",
     "text": [
      "train\n",
      "tensor(0.0807, device='cuda:0')\n"
     ]
    },
    {
     "data": {
      "application/vnd.jupyter.widget-view+json": {
       "model_id": "",
       "version_major": 2,
       "version_minor": 0
      },
      "text/plain": [
       "Validating: |                                                                                    | 0/? [00:00<…"
      ]
     },
     "metadata": {},
     "output_type": "display_data"
    },
    {
     "name": "stdout",
     "output_type": "stream",
     "text": [
      "val\n",
      "tensor(0.8895, device='cuda:0')\n"
     ]
    },
    {
     "name": "stderr",
     "output_type": "stream",
     "text": [
      "GPU available: True, used: True\n",
      "TPU available: False, using: 0 TPU cores\n",
      "Using native 16bit precision.\n",
      "LOCAL_RANK: 0 - CUDA_VISIBLE_DEVICES: [0]\n"
     ]
    },
    {
     "name": "stdout",
     "output_type": "stream",
     "text": [
      "0.8307189542483661\n"
     ]
    },
    {
     "name": "stderr",
     "output_type": "stream",
     "text": [
      "\n",
      "  | Name       | Type             | Params\n",
      "------------------------------------------------\n",
      "0 | loss_func  | CrossEntropyLoss | 0     \n",
      "1 | block      | Sequential       | 290 K \n",
      "2 | classifier | Linear           | 940 K \n",
      "------------------------------------------------\n",
      "1.2 M     Trainable params\n",
      "0         Non-trainable params\n",
      "1.2 M     Total params\n",
      "4.922     Total estimated model params size (MB)\n"
     ]
    },
    {
     "data": {
      "application/vnd.jupyter.widget-view+json": {
       "model_id": "",
       "version_major": 2,
       "version_minor": 0
      },
      "text/plain": [
       "Validation sanity check: |                                                                       | 0/? [00:00<…"
      ]
     },
     "metadata": {},
     "output_type": "display_data"
    },
    {
     "name": "stdout",
     "output_type": "stream",
     "text": [
      "val\n",
      "tensor(0.8150, device='cuda:0')\n"
     ]
    },
    {
     "data": {
      "application/vnd.jupyter.widget-view+json": {
       "model_id": "5dfc0f2b42b44424be5efe69feb2648b",
       "version_major": 2,
       "version_minor": 0
      },
      "text/plain": [
       "Training: |                                                                                      | 0/? [00:00<…"
      ]
     },
     "metadata": {},
     "output_type": "display_data"
    },
    {
     "name": "stdout",
     "output_type": "stream",
     "text": [
      "train\n",
      "tensor(0.0680, device='cuda:0')\n"
     ]
    },
    {
     "data": {
      "application/vnd.jupyter.widget-view+json": {
       "model_id": "",
       "version_major": 2,
       "version_minor": 0
      },
      "text/plain": [
       "Validating: |                                                                                    | 0/? [00:00<…"
      ]
     },
     "metadata": {},
     "output_type": "display_data"
    },
    {
     "name": "stdout",
     "output_type": "stream",
     "text": [
      "val\n",
      "tensor(0.9020, device='cuda:0')\n"
     ]
    },
    {
     "name": "stderr",
     "output_type": "stream",
     "text": [
      "GPU available: True, used: True\n",
      "TPU available: False, using: 0 TPU cores\n",
      "Using native 16bit precision.\n",
      "LOCAL_RANK: 0 - CUDA_VISIBLE_DEVICES: [0]\n"
     ]
    },
    {
     "name": "stdout",
     "output_type": "stream",
     "text": [
      "0.8339869281045752\n"
     ]
    },
    {
     "name": "stderr",
     "output_type": "stream",
     "text": [
      "\n",
      "  | Name       | Type             | Params\n",
      "------------------------------------------------\n",
      "0 | loss_func  | CrossEntropyLoss | 0     \n",
      "1 | block      | Sequential       | 290 K \n",
      "2 | classifier | Linear           | 940 K \n",
      "------------------------------------------------\n",
      "1.2 M     Trainable params\n",
      "0         Non-trainable params\n",
      "1.2 M     Total params\n",
      "4.922     Total estimated model params size (MB)\n"
     ]
    },
    {
     "data": {
      "application/vnd.jupyter.widget-view+json": {
       "model_id": "",
       "version_major": 2,
       "version_minor": 0
      },
      "text/plain": [
       "Validation sanity check: |                                                                       | 0/? [00:00<…"
      ]
     },
     "metadata": {},
     "output_type": "display_data"
    },
    {
     "name": "stdout",
     "output_type": "stream",
     "text": [
      "val\n",
      "tensor(1.1148, device='cuda:0')\n"
     ]
    },
    {
     "data": {
      "application/vnd.jupyter.widget-view+json": {
       "model_id": "b448b7d473e540169a628aa59928955c",
       "version_major": 2,
       "version_minor": 0
      },
      "text/plain": [
       "Training: |                                                                                      | 0/? [00:00<…"
      ]
     },
     "metadata": {},
     "output_type": "display_data"
    },
    {
     "name": "stdout",
     "output_type": "stream",
     "text": [
      "train\n",
      "tensor(0.0659, device='cuda:0')\n"
     ]
    },
    {
     "data": {
      "application/vnd.jupyter.widget-view+json": {
       "model_id": "",
       "version_major": 2,
       "version_minor": 0
      },
      "text/plain": [
       "Validating: |                                                                                    | 0/? [00:00<…"
      ]
     },
     "metadata": {},
     "output_type": "display_data"
    },
    {
     "name": "stdout",
     "output_type": "stream",
     "text": [
      "val\n",
      "tensor(0.8557, device='cuda:0')\n"
     ]
    },
    {
     "name": "stderr",
     "output_type": "stream",
     "text": [
      "GPU available: True, used: True\n",
      "TPU available: False, using: 0 TPU cores\n",
      "Using native 16bit precision.\n",
      "LOCAL_RANK: 0 - CUDA_VISIBLE_DEVICES: [0]\n"
     ]
    },
    {
     "name": "stdout",
     "output_type": "stream",
     "text": [
      "0.8333333333333334\n"
     ]
    },
    {
     "name": "stderr",
     "output_type": "stream",
     "text": [
      "\n",
      "  | Name       | Type             | Params\n",
      "------------------------------------------------\n",
      "0 | loss_func  | CrossEntropyLoss | 0     \n",
      "1 | block      | Sequential       | 290 K \n",
      "2 | classifier | Linear           | 940 K \n",
      "------------------------------------------------\n",
      "1.2 M     Trainable params\n",
      "0         Non-trainable params\n",
      "1.2 M     Total params\n",
      "4.922     Total estimated model params size (MB)\n"
     ]
    },
    {
     "data": {
      "application/vnd.jupyter.widget-view+json": {
       "model_id": "",
       "version_major": 2,
       "version_minor": 0
      },
      "text/plain": [
       "Validation sanity check: |                                                                       | 0/? [00:00<…"
      ]
     },
     "metadata": {},
     "output_type": "display_data"
    },
    {
     "name": "stdout",
     "output_type": "stream",
     "text": [
      "val\n",
      "tensor(0.7085, device='cuda:0')\n"
     ]
    },
    {
     "data": {
      "application/vnd.jupyter.widget-view+json": {
       "model_id": "b2749e526b004cc9bb10912046705b18",
       "version_major": 2,
       "version_minor": 0
      },
      "text/plain": [
       "Training: |                                                                                      | 0/? [00:00<…"
      ]
     },
     "metadata": {},
     "output_type": "display_data"
    },
    {
     "name": "stdout",
     "output_type": "stream",
     "text": [
      "train\n",
      "tensor(0.0678, device='cuda:0')\n"
     ]
    },
    {
     "data": {
      "application/vnd.jupyter.widget-view+json": {
       "model_id": "",
       "version_major": 2,
       "version_minor": 0
      },
      "text/plain": [
       "Validating: |                                                                                    | 0/? [00:00<…"
      ]
     },
     "metadata": {},
     "output_type": "display_data"
    },
    {
     "name": "stdout",
     "output_type": "stream",
     "text": [
      "val\n",
      "tensor(0.8801, device='cuda:0')\n"
     ]
    },
    {
     "name": "stderr",
     "output_type": "stream",
     "text": [
      "GPU available: True, used: True\n",
      "TPU available: False, using: 0 TPU cores\n",
      "Using native 16bit precision.\n",
      "LOCAL_RANK: 0 - CUDA_VISIBLE_DEVICES: [0]\n"
     ]
    },
    {
     "name": "stdout",
     "output_type": "stream",
     "text": [
      "0.8333333333333334\n"
     ]
    },
    {
     "name": "stderr",
     "output_type": "stream",
     "text": [
      "\n",
      "  | Name       | Type             | Params\n",
      "------------------------------------------------\n",
      "0 | loss_func  | CrossEntropyLoss | 0     \n",
      "1 | block      | Sequential       | 290 K \n",
      "2 | classifier | Linear           | 940 K \n",
      "------------------------------------------------\n",
      "1.2 M     Trainable params\n",
      "0         Non-trainable params\n",
      "1.2 M     Total params\n",
      "4.922     Total estimated model params size (MB)\n"
     ]
    },
    {
     "data": {
      "application/vnd.jupyter.widget-view+json": {
       "model_id": "",
       "version_major": 2,
       "version_minor": 0
      },
      "text/plain": [
       "Validation sanity check: |                                                                       | 0/? [00:00<…"
      ]
     },
     "metadata": {},
     "output_type": "display_data"
    },
    {
     "name": "stdout",
     "output_type": "stream",
     "text": [
      "val\n",
      "tensor(0.7472, device='cuda:0')\n"
     ]
    },
    {
     "data": {
      "application/vnd.jupyter.widget-view+json": {
       "model_id": "37db556127a9401d96811b400c77bc76",
       "version_major": 2,
       "version_minor": 0
      },
      "text/plain": [
       "Training: |                                                                                      | 0/? [00:00<…"
      ]
     },
     "metadata": {},
     "output_type": "display_data"
    },
    {
     "name": "stdout",
     "output_type": "stream",
     "text": [
      "train\n",
      "tensor(0.0588, device='cuda:0')\n"
     ]
    },
    {
     "data": {
      "application/vnd.jupyter.widget-view+json": {
       "model_id": "",
       "version_major": 2,
       "version_minor": 0
      },
      "text/plain": [
       "Validating: |                                                                                    | 0/? [00:00<…"
      ]
     },
     "metadata": {},
     "output_type": "display_data"
    },
    {
     "name": "stdout",
     "output_type": "stream",
     "text": [
      "val\n",
      "tensor(0.8452, device='cuda:0')\n"
     ]
    },
    {
     "name": "stderr",
     "output_type": "stream",
     "text": [
      "GPU available: True, used: True\n",
      "TPU available: False, using: 0 TPU cores\n",
      "Using native 16bit precision.\n",
      "LOCAL_RANK: 0 - CUDA_VISIBLE_DEVICES: [0]\n"
     ]
    },
    {
     "name": "stdout",
     "output_type": "stream",
     "text": [
      "0.8392156862745098\n"
     ]
    },
    {
     "name": "stderr",
     "output_type": "stream",
     "text": [
      "\n",
      "  | Name       | Type             | Params\n",
      "------------------------------------------------\n",
      "0 | loss_func  | CrossEntropyLoss | 0     \n",
      "1 | block      | Sequential       | 290 K \n",
      "2 | classifier | Linear           | 940 K \n",
      "------------------------------------------------\n",
      "1.2 M     Trainable params\n",
      "0         Non-trainable params\n",
      "1.2 M     Total params\n",
      "4.922     Total estimated model params size (MB)\n"
     ]
    },
    {
     "data": {
      "application/vnd.jupyter.widget-view+json": {
       "model_id": "",
       "version_major": 2,
       "version_minor": 0
      },
      "text/plain": [
       "Validation sanity check: |                                                                       | 0/? [00:00<…"
      ]
     },
     "metadata": {},
     "output_type": "display_data"
    },
    {
     "name": "stdout",
     "output_type": "stream",
     "text": [
      "val\n",
      "tensor(0.7491, device='cuda:0')\n"
     ]
    },
    {
     "data": {
      "application/vnd.jupyter.widget-view+json": {
       "model_id": "50d0004d31344c6fad2cf8c00d213e32",
       "version_major": 2,
       "version_minor": 0
      },
      "text/plain": [
       "Training: |                                                                                      | 0/? [00:00<…"
      ]
     },
     "metadata": {},
     "output_type": "display_data"
    },
    {
     "name": "stdout",
     "output_type": "stream",
     "text": [
      "train\n",
      "tensor(0.0582, device='cuda:0')\n"
     ]
    },
    {
     "data": {
      "application/vnd.jupyter.widget-view+json": {
       "model_id": "",
       "version_major": 2,
       "version_minor": 0
      },
      "text/plain": [
       "Validating: |                                                                                    | 0/? [00:00<…"
      ]
     },
     "metadata": {},
     "output_type": "display_data"
    },
    {
     "name": "stdout",
     "output_type": "stream",
     "text": [
      "val\n",
      "tensor(0.8633, device='cuda:0')\n"
     ]
    },
    {
     "name": "stderr",
     "output_type": "stream",
     "text": [
      "GPU available: True, used: True\n",
      "TPU available: False, using: 0 TPU cores\n",
      "Using native 16bit precision.\n",
      "LOCAL_RANK: 0 - CUDA_VISIBLE_DEVICES: [0]\n"
     ]
    },
    {
     "name": "stdout",
     "output_type": "stream",
     "text": [
      "0.838562091503268\n"
     ]
    },
    {
     "name": "stderr",
     "output_type": "stream",
     "text": [
      "\n",
      "  | Name       | Type             | Params\n",
      "------------------------------------------------\n",
      "0 | loss_func  | CrossEntropyLoss | 0     \n",
      "1 | block      | Sequential       | 290 K \n",
      "2 | classifier | Linear           | 940 K \n",
      "------------------------------------------------\n",
      "1.2 M     Trainable params\n",
      "0         Non-trainable params\n",
      "1.2 M     Total params\n",
      "4.922     Total estimated model params size (MB)\n"
     ]
    },
    {
     "data": {
      "application/vnd.jupyter.widget-view+json": {
       "model_id": "",
       "version_major": 2,
       "version_minor": 0
      },
      "text/plain": [
       "Validation sanity check: |                                                                       | 0/? [00:00<…"
      ]
     },
     "metadata": {},
     "output_type": "display_data"
    },
    {
     "name": "stdout",
     "output_type": "stream",
     "text": [
      "val\n",
      "tensor(0.9532, device='cuda:0')\n"
     ]
    },
    {
     "data": {
      "application/vnd.jupyter.widget-view+json": {
       "model_id": "4da6f3c57d2c458889f216272521a04a",
       "version_major": 2,
       "version_minor": 0
      },
      "text/plain": [
       "Training: |                                                                                      | 0/? [00:00<…"
      ]
     },
     "metadata": {},
     "output_type": "display_data"
    },
    {
     "name": "stdout",
     "output_type": "stream",
     "text": [
      "train\n",
      "tensor(0.0559, device='cuda:0')\n"
     ]
    },
    {
     "data": {
      "application/vnd.jupyter.widget-view+json": {
       "model_id": "",
       "version_major": 2,
       "version_minor": 0
      },
      "text/plain": [
       "Validating: |                                                                                    | 0/? [00:00<…"
      ]
     },
     "metadata": {},
     "output_type": "display_data"
    },
    {
     "name": "stdout",
     "output_type": "stream",
     "text": [
      "val\n",
      "tensor(0.8301, device='cuda:0')\n"
     ]
    },
    {
     "name": "stderr",
     "output_type": "stream",
     "text": [
      "GPU available: True, used: True\n",
      "TPU available: False, using: 0 TPU cores\n",
      "Using native 16bit precision.\n",
      "LOCAL_RANK: 0 - CUDA_VISIBLE_DEVICES: [0]\n"
     ]
    },
    {
     "name": "stdout",
     "output_type": "stream",
     "text": [
      "0.838562091503268\n"
     ]
    },
    {
     "name": "stderr",
     "output_type": "stream",
     "text": [
      "\n",
      "  | Name       | Type             | Params\n",
      "------------------------------------------------\n",
      "0 | loss_func  | CrossEntropyLoss | 0     \n",
      "1 | block      | Sequential       | 290 K \n",
      "2 | classifier | Linear           | 940 K \n",
      "------------------------------------------------\n",
      "1.2 M     Trainable params\n",
      "0         Non-trainable params\n",
      "1.2 M     Total params\n",
      "4.922     Total estimated model params size (MB)\n"
     ]
    },
    {
     "data": {
      "application/vnd.jupyter.widget-view+json": {
       "model_id": "",
       "version_major": 2,
       "version_minor": 0
      },
      "text/plain": [
       "Validation sanity check: |                                                                       | 0/? [00:00<…"
      ]
     },
     "metadata": {},
     "output_type": "display_data"
    },
    {
     "name": "stdout",
     "output_type": "stream",
     "text": [
      "val\n",
      "tensor(0.8906, device='cuda:0')\n"
     ]
    },
    {
     "data": {
      "application/vnd.jupyter.widget-view+json": {
       "model_id": "6a1e46c3110f4e8e942926cec8236fa4",
       "version_major": 2,
       "version_minor": 0
      },
      "text/plain": [
       "Training: |                                                                                      | 0/? [00:00<…"
      ]
     },
     "metadata": {},
     "output_type": "display_data"
    },
    {
     "name": "stdout",
     "output_type": "stream",
     "text": [
      "train\n",
      "tensor(0.0585, device='cuda:0')\n"
     ]
    },
    {
     "data": {
      "application/vnd.jupyter.widget-view+json": {
       "model_id": "",
       "version_major": 2,
       "version_minor": 0
      },
      "text/plain": [
       "Validating: |                                                                                    | 0/? [00:00<…"
      ]
     },
     "metadata": {},
     "output_type": "display_data"
    },
    {
     "name": "stdout",
     "output_type": "stream",
     "text": [
      "val\n",
      "tensor(0.8368, device='cuda:0')\n"
     ]
    },
    {
     "name": "stderr",
     "output_type": "stream",
     "text": [
      "GPU available: True, used: True\n",
      "TPU available: False, using: 0 TPU cores\n",
      "Using native 16bit precision.\n",
      "LOCAL_RANK: 0 - CUDA_VISIBLE_DEVICES: [0]\n"
     ]
    },
    {
     "name": "stdout",
     "output_type": "stream",
     "text": [
      "0.8352941176470589\n"
     ]
    },
    {
     "name": "stderr",
     "output_type": "stream",
     "text": [
      "\n",
      "  | Name       | Type             | Params\n",
      "------------------------------------------------\n",
      "0 | loss_func  | CrossEntropyLoss | 0     \n",
      "1 | block      | Sequential       | 290 K \n",
      "2 | classifier | Linear           | 940 K \n",
      "------------------------------------------------\n",
      "1.2 M     Trainable params\n",
      "0         Non-trainable params\n",
      "1.2 M     Total params\n",
      "4.922     Total estimated model params size (MB)\n"
     ]
    },
    {
     "data": {
      "application/vnd.jupyter.widget-view+json": {
       "model_id": "",
       "version_major": 2,
       "version_minor": 0
      },
      "text/plain": [
       "Validation sanity check: |                                                                       | 0/? [00:00<…"
      ]
     },
     "metadata": {},
     "output_type": "display_data"
    },
    {
     "name": "stdout",
     "output_type": "stream",
     "text": [
      "val\n",
      "tensor(0.8284, device='cuda:0')\n"
     ]
    },
    {
     "data": {
      "application/vnd.jupyter.widget-view+json": {
       "model_id": "9c0702166d674a88954ca654a89f43e0",
       "version_major": 2,
       "version_minor": 0
      },
      "text/plain": [
       "Training: |                                                                                      | 0/? [00:00<…"
      ]
     },
     "metadata": {},
     "output_type": "display_data"
    },
    {
     "name": "stdout",
     "output_type": "stream",
     "text": [
      "train\n",
      "tensor(0.0531, device='cuda:0')\n"
     ]
    },
    {
     "data": {
      "application/vnd.jupyter.widget-view+json": {
       "model_id": "",
       "version_major": 2,
       "version_minor": 0
      },
      "text/plain": [
       "Validating: |                                                                                    | 0/? [00:00<…"
      ]
     },
     "metadata": {},
     "output_type": "display_data"
    },
    {
     "name": "stdout",
     "output_type": "stream",
     "text": [
      "val\n",
      "tensor(0.8680, device='cuda:0')\n"
     ]
    },
    {
     "name": "stderr",
     "output_type": "stream",
     "text": [
      "GPU available: True, used: True\n",
      "TPU available: False, using: 0 TPU cores\n",
      "Using native 16bit precision.\n",
      "LOCAL_RANK: 0 - CUDA_VISIBLE_DEVICES: [0]\n"
     ]
    },
    {
     "name": "stdout",
     "output_type": "stream",
     "text": [
      "0.8372549019607843\n"
     ]
    },
    {
     "name": "stderr",
     "output_type": "stream",
     "text": [
      "\n",
      "  | Name       | Type             | Params\n",
      "------------------------------------------------\n",
      "0 | loss_func  | CrossEntropyLoss | 0     \n",
      "1 | block      | Sequential       | 290 K \n",
      "2 | classifier | Linear           | 940 K \n",
      "------------------------------------------------\n",
      "1.2 M     Trainable params\n",
      "0         Non-trainable params\n",
      "1.2 M     Total params\n",
      "4.922     Total estimated model params size (MB)\n"
     ]
    },
    {
     "data": {
      "application/vnd.jupyter.widget-view+json": {
       "model_id": "",
       "version_major": 2,
       "version_minor": 0
      },
      "text/plain": [
       "Validation sanity check: |                                                                       | 0/? [00:00<…"
      ]
     },
     "metadata": {},
     "output_type": "display_data"
    },
    {
     "name": "stdout",
     "output_type": "stream",
     "text": [
      "val\n",
      "tensor(1.2099, device='cuda:0')\n"
     ]
    },
    {
     "data": {
      "application/vnd.jupyter.widget-view+json": {
       "model_id": "f93cb00ddcfb4f8b84a3965c98e3dba2",
       "version_major": 2,
       "version_minor": 0
      },
      "text/plain": [
       "Training: |                                                                                      | 0/? [00:00<…"
      ]
     },
     "metadata": {},
     "output_type": "display_data"
    },
    {
     "name": "stdout",
     "output_type": "stream",
     "text": [
      "train\n",
      "tensor(0.0541, device='cuda:0')\n"
     ]
    },
    {
     "data": {
      "application/vnd.jupyter.widget-view+json": {
       "model_id": "",
       "version_major": 2,
       "version_minor": 0
      },
      "text/plain": [
       "Validating: |                                                                                    | 0/? [00:00<…"
      ]
     },
     "metadata": {},
     "output_type": "display_data"
    },
    {
     "name": "stdout",
     "output_type": "stream",
     "text": [
      "val\n",
      "tensor(0.8336, device='cuda:0')\n"
     ]
    },
    {
     "name": "stderr",
     "output_type": "stream",
     "text": [
      "GPU available: True, used: True\n",
      "TPU available: False, using: 0 TPU cores\n",
      "Using native 16bit precision.\n",
      "LOCAL_RANK: 0 - CUDA_VISIBLE_DEVICES: [0]\n"
     ]
    },
    {
     "name": "stdout",
     "output_type": "stream",
     "text": [
      "0.8392156862745098\n"
     ]
    },
    {
     "name": "stderr",
     "output_type": "stream",
     "text": [
      "\n",
      "  | Name       | Type             | Params\n",
      "------------------------------------------------\n",
      "0 | loss_func  | CrossEntropyLoss | 0     \n",
      "1 | block      | Sequential       | 290 K \n",
      "2 | classifier | Linear           | 940 K \n",
      "------------------------------------------------\n",
      "1.2 M     Trainable params\n",
      "0         Non-trainable params\n",
      "1.2 M     Total params\n",
      "4.922     Total estimated model params size (MB)\n"
     ]
    },
    {
     "data": {
      "application/vnd.jupyter.widget-view+json": {
       "model_id": "",
       "version_major": 2,
       "version_minor": 0
      },
      "text/plain": [
       "Validation sanity check: |                                                                       | 0/? [00:00<…"
      ]
     },
     "metadata": {},
     "output_type": "display_data"
    },
    {
     "name": "stdout",
     "output_type": "stream",
     "text": [
      "val\n",
      "tensor(0.7463, device='cuda:0')\n"
     ]
    },
    {
     "data": {
      "application/vnd.jupyter.widget-view+json": {
       "model_id": "eb085432b3e74ecc9e7b169998525c7b",
       "version_major": 2,
       "version_minor": 0
      },
      "text/plain": [
       "Training: |                                                                                      | 0/? [00:00<…"
      ]
     },
     "metadata": {},
     "output_type": "display_data"
    },
    {
     "name": "stdout",
     "output_type": "stream",
     "text": [
      "train\n",
      "tensor(0.0540, device='cuda:0')\n"
     ]
    },
    {
     "data": {
      "application/vnd.jupyter.widget-view+json": {
       "model_id": "",
       "version_major": 2,
       "version_minor": 0
      },
      "text/plain": [
       "Validating: |                                                                                    | 0/? [00:00<…"
      ]
     },
     "metadata": {},
     "output_type": "display_data"
    },
    {
     "name": "stdout",
     "output_type": "stream",
     "text": [
      "val\n",
      "tensor(0.8378, device='cuda:0')\n"
     ]
    },
    {
     "name": "stderr",
     "output_type": "stream",
     "text": [
      "GPU available: True, used: True\n",
      "TPU available: False, using: 0 TPU cores\n",
      "Using native 16bit precision.\n",
      "LOCAL_RANK: 0 - CUDA_VISIBLE_DEVICES: [0]\n"
     ]
    },
    {
     "name": "stdout",
     "output_type": "stream",
     "text": [
      "0.8326797385620915\n"
     ]
    },
    {
     "name": "stderr",
     "output_type": "stream",
     "text": [
      "\n",
      "  | Name       | Type             | Params\n",
      "------------------------------------------------\n",
      "0 | loss_func  | CrossEntropyLoss | 0     \n",
      "1 | block      | Sequential       | 290 K \n",
      "2 | classifier | Linear           | 940 K \n",
      "------------------------------------------------\n",
      "1.2 M     Trainable params\n",
      "0         Non-trainable params\n",
      "1.2 M     Total params\n",
      "4.922     Total estimated model params size (MB)\n"
     ]
    },
    {
     "data": {
      "application/vnd.jupyter.widget-view+json": {
       "model_id": "",
       "version_major": 2,
       "version_minor": 0
      },
      "text/plain": [
       "Validation sanity check: |                                                                       | 0/? [00:00<…"
      ]
     },
     "metadata": {},
     "output_type": "display_data"
    },
    {
     "name": "stdout",
     "output_type": "stream",
     "text": [
      "val\n",
      "tensor(0.8106, device='cuda:0')\n"
     ]
    },
    {
     "data": {
      "application/vnd.jupyter.widget-view+json": {
       "model_id": "1b15ec9dbc044de8a11530536e620200",
       "version_major": 2,
       "version_minor": 0
      },
      "text/plain": [
       "Training: |                                                                                      | 0/? [00:00<…"
      ]
     },
     "metadata": {},
     "output_type": "display_data"
    },
    {
     "name": "stdout",
     "output_type": "stream",
     "text": [
      "train\n",
      "tensor(0.0499, device='cuda:0')\n"
     ]
    },
    {
     "data": {
      "application/vnd.jupyter.widget-view+json": {
       "model_id": "",
       "version_major": 2,
       "version_minor": 0
      },
      "text/plain": [
       "Validating: |                                                                                    | 0/? [00:00<…"
      ]
     },
     "metadata": {},
     "output_type": "display_data"
    },
    {
     "name": "stdout",
     "output_type": "stream",
     "text": [
      "val\n",
      "tensor(0.8458, device='cuda:0')\n"
     ]
    },
    {
     "name": "stderr",
     "output_type": "stream",
     "text": [
      "GPU available: True, used: True\n",
      "TPU available: False, using: 0 TPU cores\n",
      "Using native 16bit precision.\n",
      "LOCAL_RANK: 0 - CUDA_VISIBLE_DEVICES: [0]\n"
     ]
    },
    {
     "name": "stdout",
     "output_type": "stream",
     "text": [
      "0.8398692810457516\n"
     ]
    },
    {
     "name": "stderr",
     "output_type": "stream",
     "text": [
      "\n",
      "  | Name       | Type             | Params\n",
      "------------------------------------------------\n",
      "0 | loss_func  | CrossEntropyLoss | 0     \n",
      "1 | block      | Sequential       | 290 K \n",
      "2 | classifier | Linear           | 940 K \n",
      "------------------------------------------------\n",
      "1.2 M     Trainable params\n",
      "0         Non-trainable params\n",
      "1.2 M     Total params\n",
      "4.922     Total estimated model params size (MB)\n"
     ]
    },
    {
     "data": {
      "application/vnd.jupyter.widget-view+json": {
       "model_id": "",
       "version_major": 2,
       "version_minor": 0
      },
      "text/plain": [
       "Validation sanity check: |                                                                       | 0/? [00:00<…"
      ]
     },
     "metadata": {},
     "output_type": "display_data"
    },
    {
     "name": "stdout",
     "output_type": "stream",
     "text": [
      "val\n",
      "tensor(0.8038, device='cuda:0')\n"
     ]
    },
    {
     "data": {
      "application/vnd.jupyter.widget-view+json": {
       "model_id": "8fe41fbb5fd5494a829c126165fda8de",
       "version_major": 2,
       "version_minor": 0
      },
      "text/plain": [
       "Training: |                                                                                      | 0/? [00:00<…"
      ]
     },
     "metadata": {},
     "output_type": "display_data"
    },
    {
     "name": "stdout",
     "output_type": "stream",
     "text": [
      "train\n",
      "tensor(0.0501, device='cuda:0')\n"
     ]
    },
    {
     "data": {
      "application/vnd.jupyter.widget-view+json": {
       "model_id": "",
       "version_major": 2,
       "version_minor": 0
      },
      "text/plain": [
       "Validating: |                                                                                    | 0/? [00:00<…"
      ]
     },
     "metadata": {},
     "output_type": "display_data"
    },
    {
     "name": "stdout",
     "output_type": "stream",
     "text": [
      "val\n",
      "tensor(0.8537, device='cuda:0')\n"
     ]
    },
    {
     "name": "stderr",
     "output_type": "stream",
     "text": [
      "GPU available: True, used: True\n",
      "TPU available: False, using: 0 TPU cores\n",
      "Using native 16bit precision.\n",
      "LOCAL_RANK: 0 - CUDA_VISIBLE_DEVICES: [0]\n"
     ]
    },
    {
     "name": "stdout",
     "output_type": "stream",
     "text": [
      "0.842483660130719\n"
     ]
    },
    {
     "name": "stderr",
     "output_type": "stream",
     "text": [
      "\n",
      "  | Name       | Type             | Params\n",
      "------------------------------------------------\n",
      "0 | loss_func  | CrossEntropyLoss | 0     \n",
      "1 | block      | Sequential       | 290 K \n",
      "2 | classifier | Linear           | 940 K \n",
      "------------------------------------------------\n",
      "1.2 M     Trainable params\n",
      "0         Non-trainable params\n",
      "1.2 M     Total params\n",
      "4.922     Total estimated model params size (MB)\n"
     ]
    },
    {
     "data": {
      "application/vnd.jupyter.widget-view+json": {
       "model_id": "",
       "version_major": 2,
       "version_minor": 0
      },
      "text/plain": [
       "Validation sanity check: |                                                                       | 0/? [00:00<…"
      ]
     },
     "metadata": {},
     "output_type": "display_data"
    },
    {
     "name": "stdout",
     "output_type": "stream",
     "text": [
      "val\n",
      "tensor(1.1013, device='cuda:0')\n"
     ]
    },
    {
     "data": {
      "application/vnd.jupyter.widget-view+json": {
       "model_id": "d4152112638f4e0fa3489dce0604e806",
       "version_major": 2,
       "version_minor": 0
      },
      "text/plain": [
       "Training: |                                                                                      | 0/? [00:00<…"
      ]
     },
     "metadata": {},
     "output_type": "display_data"
    },
    {
     "name": "stdout",
     "output_type": "stream",
     "text": [
      "train\n",
      "tensor(0.0497, device='cuda:0')\n"
     ]
    },
    {
     "data": {
      "application/vnd.jupyter.widget-view+json": {
       "model_id": "",
       "version_major": 2,
       "version_minor": 0
      },
      "text/plain": [
       "Validating: |                                                                                    | 0/? [00:00<…"
      ]
     },
     "metadata": {},
     "output_type": "display_data"
    },
    {
     "name": "stdout",
     "output_type": "stream",
     "text": [
      "val\n",
      "tensor(0.8501, device='cuda:0')\n"
     ]
    },
    {
     "name": "stderr",
     "output_type": "stream",
     "text": [
      "GPU available: True, used: True\n",
      "TPU available: False, using: 0 TPU cores\n",
      "Using native 16bit precision.\n",
      "LOCAL_RANK: 0 - CUDA_VISIBLE_DEVICES: [0]\n"
     ]
    },
    {
     "name": "stdout",
     "output_type": "stream",
     "text": [
      "0.8392156862745098\n"
     ]
    },
    {
     "name": "stderr",
     "output_type": "stream",
     "text": [
      "\n",
      "  | Name       | Type             | Params\n",
      "------------------------------------------------\n",
      "0 | loss_func  | CrossEntropyLoss | 0     \n",
      "1 | block      | Sequential       | 290 K \n",
      "2 | classifier | Linear           | 940 K \n",
      "------------------------------------------------\n",
      "1.2 M     Trainable params\n",
      "0         Non-trainable params\n",
      "1.2 M     Total params\n",
      "4.922     Total estimated model params size (MB)\n"
     ]
    },
    {
     "data": {
      "application/vnd.jupyter.widget-view+json": {
       "model_id": "",
       "version_major": 2,
       "version_minor": 0
      },
      "text/plain": [
       "Validation sanity check: |                                                                       | 0/? [00:00<…"
      ]
     },
     "metadata": {},
     "output_type": "display_data"
    },
    {
     "name": "stdout",
     "output_type": "stream",
     "text": [
      "val\n",
      "tensor(1.1010, device='cuda:0')\n"
     ]
    },
    {
     "data": {
      "application/vnd.jupyter.widget-view+json": {
       "model_id": "38b255b4aa634c57937f788fd1dbc1c1",
       "version_major": 2,
       "version_minor": 0
      },
      "text/plain": [
       "Training: |                                                                                      | 0/? [00:00<…"
      ]
     },
     "metadata": {},
     "output_type": "display_data"
    },
    {
     "name": "stdout",
     "output_type": "stream",
     "text": [
      "train\n",
      "tensor(0.0469, device='cuda:0')\n"
     ]
    },
    {
     "data": {
      "application/vnd.jupyter.widget-view+json": {
       "model_id": "",
       "version_major": 2,
       "version_minor": 0
      },
      "text/plain": [
       "Validating: |                                                                                    | 0/? [00:00<…"
      ]
     },
     "metadata": {},
     "output_type": "display_data"
    },
    {
     "name": "stdout",
     "output_type": "stream",
     "text": [
      "val\n",
      "tensor(0.8726, device='cuda:0')\n"
     ]
    },
    {
     "name": "stderr",
     "output_type": "stream",
     "text": [
      "GPU available: True, used: True\n",
      "TPU available: False, using: 0 TPU cores\n",
      "Using native 16bit precision.\n",
      "LOCAL_RANK: 0 - CUDA_VISIBLE_DEVICES: [0]\n"
     ]
    },
    {
     "name": "stdout",
     "output_type": "stream",
     "text": [
      "0.8359477124183007\n"
     ]
    },
    {
     "name": "stderr",
     "output_type": "stream",
     "text": [
      "\n",
      "  | Name       | Type             | Params\n",
      "------------------------------------------------\n",
      "0 | loss_func  | CrossEntropyLoss | 0     \n",
      "1 | block      | Sequential       | 290 K \n",
      "2 | classifier | Linear           | 940 K \n",
      "------------------------------------------------\n",
      "1.2 M     Trainable params\n",
      "0         Non-trainable params\n",
      "1.2 M     Total params\n",
      "4.922     Total estimated model params size (MB)\n"
     ]
    },
    {
     "data": {
      "application/vnd.jupyter.widget-view+json": {
       "model_id": "",
       "version_major": 2,
       "version_minor": 0
      },
      "text/plain": [
       "Validation sanity check: |                                                                       | 0/? [00:00<…"
      ]
     },
     "metadata": {},
     "output_type": "display_data"
    },
    {
     "name": "stdout",
     "output_type": "stream",
     "text": [
      "val\n",
      "tensor(1.0937, device='cuda:0')\n"
     ]
    },
    {
     "data": {
      "application/vnd.jupyter.widget-view+json": {
       "model_id": "39e791215b96432ea521158cce187323",
       "version_major": 2,
       "version_minor": 0
      },
      "text/plain": [
       "Training: |                                                                                      | 0/? [00:00<…"
      ]
     },
     "metadata": {},
     "output_type": "display_data"
    },
    {
     "name": "stdout",
     "output_type": "stream",
     "text": [
      "train\n",
      "tensor(0.0479, device='cuda:0')\n"
     ]
    },
    {
     "data": {
      "application/vnd.jupyter.widget-view+json": {
       "model_id": "",
       "version_major": 2,
       "version_minor": 0
      },
      "text/plain": [
       "Validating: |                                                                                    | 0/? [00:00<…"
      ]
     },
     "metadata": {},
     "output_type": "display_data"
    },
    {
     "name": "stdout",
     "output_type": "stream",
     "text": [
      "val\n",
      "tensor(0.8549, device='cuda:0')\n"
     ]
    },
    {
     "name": "stderr",
     "output_type": "stream",
     "text": [
      "GPU available: True, used: True\n",
      "TPU available: False, using: 0 TPU cores\n",
      "Using native 16bit precision.\n",
      "LOCAL_RANK: 0 - CUDA_VISIBLE_DEVICES: [0]\n"
     ]
    },
    {
     "name": "stdout",
     "output_type": "stream",
     "text": [
      "0.838562091503268\n"
     ]
    },
    {
     "name": "stderr",
     "output_type": "stream",
     "text": [
      "\n",
      "  | Name       | Type             | Params\n",
      "------------------------------------------------\n",
      "0 | loss_func  | CrossEntropyLoss | 0     \n",
      "1 | block      | Sequential       | 290 K \n",
      "2 | classifier | Linear           | 940 K \n",
      "------------------------------------------------\n",
      "1.2 M     Trainable params\n",
      "0         Non-trainable params\n",
      "1.2 M     Total params\n",
      "4.922     Total estimated model params size (MB)\n"
     ]
    },
    {
     "data": {
      "application/vnd.jupyter.widget-view+json": {
       "model_id": "",
       "version_major": 2,
       "version_minor": 0
      },
      "text/plain": [
       "Validation sanity check: |                                                                       | 0/? [00:00<…"
      ]
     },
     "metadata": {},
     "output_type": "display_data"
    },
    {
     "name": "stdout",
     "output_type": "stream",
     "text": [
      "val\n",
      "tensor(1.0632, device='cuda:0')\n"
     ]
    },
    {
     "data": {
      "application/vnd.jupyter.widget-view+json": {
       "model_id": "2ec90956491745a18d2c1ff13003e0df",
       "version_major": 2,
       "version_minor": 0
      },
      "text/plain": [
       "Training: |                                                                                      | 0/? [00:00<…"
      ]
     },
     "metadata": {},
     "output_type": "display_data"
    },
    {
     "name": "stdout",
     "output_type": "stream",
     "text": [
      "train\n",
      "tensor(0.0503, device='cuda:0')\n"
     ]
    },
    {
     "data": {
      "application/vnd.jupyter.widget-view+json": {
       "model_id": "",
       "version_major": 2,
       "version_minor": 0
      },
      "text/plain": [
       "Validating: |                                                                                    | 0/? [00:00<…"
      ]
     },
     "metadata": {},
     "output_type": "display_data"
    },
    {
     "name": "stdout",
     "output_type": "stream",
     "text": [
      "val\n",
      "tensor(0.8382, device='cuda:0')\n"
     ]
    },
    {
     "name": "stderr",
     "output_type": "stream",
     "text": [
      "GPU available: True, used: True\n",
      "TPU available: False, using: 0 TPU cores\n",
      "Using native 16bit precision.\n",
      "LOCAL_RANK: 0 - CUDA_VISIBLE_DEVICES: [0]\n"
     ]
    },
    {
     "name": "stdout",
     "output_type": "stream",
     "text": [
      "0.8333333333333334\n"
     ]
    },
    {
     "name": "stderr",
     "output_type": "stream",
     "text": [
      "\n",
      "  | Name       | Type             | Params\n",
      "------------------------------------------------\n",
      "0 | loss_func  | CrossEntropyLoss | 0     \n",
      "1 | block      | Sequential       | 290 K \n",
      "2 | classifier | Linear           | 940 K \n",
      "------------------------------------------------\n",
      "1.2 M     Trainable params\n",
      "0         Non-trainable params\n",
      "1.2 M     Total params\n",
      "4.922     Total estimated model params size (MB)\n"
     ]
    },
    {
     "data": {
      "application/vnd.jupyter.widget-view+json": {
       "model_id": "",
       "version_major": 2,
       "version_minor": 0
      },
      "text/plain": [
       "Validation sanity check: |                                                                       | 0/? [00:00<…"
      ]
     },
     "metadata": {},
     "output_type": "display_data"
    },
    {
     "name": "stdout",
     "output_type": "stream",
     "text": [
      "val\n",
      "tensor(1.0103, device='cuda:0')\n"
     ]
    },
    {
     "data": {
      "application/vnd.jupyter.widget-view+json": {
       "model_id": "8b9f328c9374449a829b70eba7d96788",
       "version_major": 2,
       "version_minor": 0
      },
      "text/plain": [
       "Training: |                                                                                      | 0/? [00:00<…"
      ]
     },
     "metadata": {},
     "output_type": "display_data"
    },
    {
     "name": "stdout",
     "output_type": "stream",
     "text": [
      "train\n",
      "tensor(0.0474, device='cuda:0')\n"
     ]
    },
    {
     "data": {
      "application/vnd.jupyter.widget-view+json": {
       "model_id": "",
       "version_major": 2,
       "version_minor": 0
      },
      "text/plain": [
       "Validating: |                                                                                    | 0/? [00:00<…"
      ]
     },
     "metadata": {},
     "output_type": "display_data"
    },
    {
     "name": "stdout",
     "output_type": "stream",
     "text": [
      "val\n",
      "tensor(0.8546, device='cuda:0')\n"
     ]
    },
    {
     "name": "stderr",
     "output_type": "stream",
     "text": [
      "GPU available: True, used: True\n",
      "TPU available: False, using: 0 TPU cores\n",
      "Using native 16bit precision.\n",
      "LOCAL_RANK: 0 - CUDA_VISIBLE_DEVICES: [0]\n"
     ]
    },
    {
     "name": "stdout",
     "output_type": "stream",
     "text": [
      "0.8405228758169935\n"
     ]
    },
    {
     "name": "stderr",
     "output_type": "stream",
     "text": [
      "\n",
      "  | Name       | Type             | Params\n",
      "------------------------------------------------\n",
      "0 | loss_func  | CrossEntropyLoss | 0     \n",
      "1 | block      | Sequential       | 290 K \n",
      "2 | classifier | Linear           | 940 K \n",
      "------------------------------------------------\n",
      "1.2 M     Trainable params\n",
      "0         Non-trainable params\n",
      "1.2 M     Total params\n",
      "4.922     Total estimated model params size (MB)\n"
     ]
    },
    {
     "data": {
      "application/vnd.jupyter.widget-view+json": {
       "model_id": "",
       "version_major": 2,
       "version_minor": 0
      },
      "text/plain": [
       "Validation sanity check: |                                                                       | 0/? [00:00<…"
      ]
     },
     "metadata": {},
     "output_type": "display_data"
    },
    {
     "name": "stdout",
     "output_type": "stream",
     "text": [
      "val\n",
      "tensor(0.8150, device='cuda:0')\n"
     ]
    },
    {
     "data": {
      "application/vnd.jupyter.widget-view+json": {
       "model_id": "a4ef9ae7572442e581bc21932f0f0564",
       "version_major": 2,
       "version_minor": 0
      },
      "text/plain": [
       "Training: |                                                                                      | 0/? [00:00<…"
      ]
     },
     "metadata": {},
     "output_type": "display_data"
    },
    {
     "name": "stdout",
     "output_type": "stream",
     "text": [
      "train\n",
      "tensor(0.0452, device='cuda:0')\n"
     ]
    },
    {
     "data": {
      "application/vnd.jupyter.widget-view+json": {
       "model_id": "",
       "version_major": 2,
       "version_minor": 0
      },
      "text/plain": [
       "Validating: |                                                                                    | 0/? [00:00<…"
      ]
     },
     "metadata": {},
     "output_type": "display_data"
    },
    {
     "name": "stdout",
     "output_type": "stream",
     "text": [
      "val\n",
      "tensor(0.8632, device='cuda:0')\n"
     ]
    },
    {
     "name": "stderr",
     "output_type": "stream",
     "text": [
      "GPU available: True, used: True\n",
      "TPU available: False, using: 0 TPU cores\n",
      "Using native 16bit precision.\n",
      "LOCAL_RANK: 0 - CUDA_VISIBLE_DEVICES: [0]\n"
     ]
    },
    {
     "name": "stdout",
     "output_type": "stream",
     "text": [
      "0.8372549019607843\n"
     ]
    },
    {
     "name": "stderr",
     "output_type": "stream",
     "text": [
      "\n",
      "  | Name       | Type             | Params\n",
      "------------------------------------------------\n",
      "0 | loss_func  | CrossEntropyLoss | 0     \n",
      "1 | block      | Sequential       | 290 K \n",
      "2 | classifier | Linear           | 940 K \n",
      "------------------------------------------------\n",
      "1.2 M     Trainable params\n",
      "0         Non-trainable params\n",
      "1.2 M     Total params\n",
      "4.922     Total estimated model params size (MB)\n"
     ]
    },
    {
     "data": {
      "application/vnd.jupyter.widget-view+json": {
       "model_id": "",
       "version_major": 2,
       "version_minor": 0
      },
      "text/plain": [
       "Validation sanity check: |                                                                       | 0/? [00:00<…"
      ]
     },
     "metadata": {},
     "output_type": "display_data"
    },
    {
     "name": "stdout",
     "output_type": "stream",
     "text": [
      "val\n",
      "tensor(0.8417, device='cuda:0')\n"
     ]
    },
    {
     "data": {
      "application/vnd.jupyter.widget-view+json": {
       "model_id": "c9843b82594045cf985d879653095039",
       "version_major": 2,
       "version_minor": 0
      },
      "text/plain": [
       "Training: |                                                                                      | 0/? [00:00<…"
      ]
     },
     "metadata": {},
     "output_type": "display_data"
    },
    {
     "name": "stdout",
     "output_type": "stream",
     "text": [
      "train\n",
      "tensor(0.0427, device='cuda:0')\n"
     ]
    },
    {
     "data": {
      "application/vnd.jupyter.widget-view+json": {
       "model_id": "",
       "version_major": 2,
       "version_minor": 0
      },
      "text/plain": [
       "Validating: |                                                                                    | 0/? [00:00<…"
      ]
     },
     "metadata": {},
     "output_type": "display_data"
    },
    {
     "name": "stdout",
     "output_type": "stream",
     "text": [
      "val\n",
      "tensor(0.8535, device='cuda:0')\n"
     ]
    },
    {
     "name": "stderr",
     "output_type": "stream",
     "text": [
      "GPU available: True, used: True\n",
      "TPU available: False, using: 0 TPU cores\n",
      "Using native 16bit precision.\n",
      "LOCAL_RANK: 0 - CUDA_VISIBLE_DEVICES: [0]\n"
     ]
    },
    {
     "name": "stdout",
     "output_type": "stream",
     "text": [
      "0.8366013071895425\n"
     ]
    },
    {
     "name": "stderr",
     "output_type": "stream",
     "text": [
      "\n",
      "  | Name       | Type             | Params\n",
      "------------------------------------------------\n",
      "0 | loss_func  | CrossEntropyLoss | 0     \n",
      "1 | block      | Sequential       | 290 K \n",
      "2 | classifier | Linear           | 940 K \n",
      "------------------------------------------------\n",
      "1.2 M     Trainable params\n",
      "0         Non-trainable params\n",
      "1.2 M     Total params\n",
      "4.922     Total estimated model params size (MB)\n"
     ]
    },
    {
     "data": {
      "application/vnd.jupyter.widget-view+json": {
       "model_id": "",
       "version_major": 2,
       "version_minor": 0
      },
      "text/plain": [
       "Validation sanity check: |                                                                       | 0/? [00:00<…"
      ]
     },
     "metadata": {},
     "output_type": "display_data"
    },
    {
     "name": "stdout",
     "output_type": "stream",
     "text": [
      "val\n",
      "tensor(0.7249, device='cuda:0')\n"
     ]
    },
    {
     "data": {
      "application/vnd.jupyter.widget-view+json": {
       "model_id": "fa682a187801412a92feebdc72f81bc6",
       "version_major": 2,
       "version_minor": 0
      },
      "text/plain": [
       "Training: |                                                                                      | 0/? [00:00<…"
      ]
     },
     "metadata": {},
     "output_type": "display_data"
    },
    {
     "name": "stdout",
     "output_type": "stream",
     "text": [
      "train\n",
      "tensor(0.0460, device='cuda:0')\n"
     ]
    },
    {
     "data": {
      "application/vnd.jupyter.widget-view+json": {
       "model_id": "",
       "version_major": 2,
       "version_minor": 0
      },
      "text/plain": [
       "Validating: |                                                                                    | 0/? [00:00<…"
      ]
     },
     "metadata": {},
     "output_type": "display_data"
    },
    {
     "name": "stdout",
     "output_type": "stream",
     "text": [
      "val\n",
      "tensor(0.8392, device='cuda:0')\n"
     ]
    },
    {
     "name": "stderr",
     "output_type": "stream",
     "text": [
      "GPU available: True, used: True\n",
      "TPU available: False, using: 0 TPU cores\n",
      "Using native 16bit precision.\n",
      "LOCAL_RANK: 0 - CUDA_VISIBLE_DEVICES: [0]\n"
     ]
    },
    {
     "name": "stdout",
     "output_type": "stream",
     "text": [
      "0.8359477124183007\n"
     ]
    },
    {
     "name": "stderr",
     "output_type": "stream",
     "text": [
      "\n",
      "  | Name       | Type             | Params\n",
      "------------------------------------------------\n",
      "0 | loss_func  | CrossEntropyLoss | 0     \n",
      "1 | block      | Sequential       | 290 K \n",
      "2 | classifier | Linear           | 940 K \n",
      "------------------------------------------------\n",
      "1.2 M     Trainable params\n",
      "0         Non-trainable params\n",
      "1.2 M     Total params\n",
      "4.922     Total estimated model params size (MB)\n"
     ]
    },
    {
     "data": {
      "application/vnd.jupyter.widget-view+json": {
       "model_id": "",
       "version_major": 2,
       "version_minor": 0
      },
      "text/plain": [
       "Validation sanity check: |                                                                       | 0/? [00:00<…"
      ]
     },
     "metadata": {},
     "output_type": "display_data"
    },
    {
     "name": "stdout",
     "output_type": "stream",
     "text": [
      "val\n",
      "tensor(0.7867, device='cuda:0')\n"
     ]
    },
    {
     "data": {
      "application/vnd.jupyter.widget-view+json": {
       "model_id": "b7f4833f04144219b0d21ad64a2e2095",
       "version_major": 2,
       "version_minor": 0
      },
      "text/plain": [
       "Training: |                                                                                      | 0/? [00:00<…"
      ]
     },
     "metadata": {},
     "output_type": "display_data"
    },
    {
     "name": "stdout",
     "output_type": "stream",
     "text": [
      "train\n",
      "tensor(0.0449, device='cuda:0')\n"
     ]
    },
    {
     "data": {
      "application/vnd.jupyter.widget-view+json": {
       "model_id": "",
       "version_major": 2,
       "version_minor": 0
      },
      "text/plain": [
       "Validating: |                                                                                    | 0/? [00:00<…"
      ]
     },
     "metadata": {},
     "output_type": "display_data"
    },
    {
     "name": "stdout",
     "output_type": "stream",
     "text": [
      "val\n",
      "tensor(0.8316, device='cuda:0')\n"
     ]
    },
    {
     "name": "stderr",
     "output_type": "stream",
     "text": [
      "GPU available: True, used: True\n",
      "TPU available: False, using: 0 TPU cores\n",
      "Using native 16bit precision.\n",
      "LOCAL_RANK: 0 - CUDA_VISIBLE_DEVICES: [0]\n"
     ]
    },
    {
     "name": "stdout",
     "output_type": "stream",
     "text": [
      "0.8372549019607843\n"
     ]
    },
    {
     "name": "stderr",
     "output_type": "stream",
     "text": [
      "\n",
      "  | Name       | Type             | Params\n",
      "------------------------------------------------\n",
      "0 | loss_func  | CrossEntropyLoss | 0     \n",
      "1 | block      | Sequential       | 290 K \n",
      "2 | classifier | Linear           | 940 K \n",
      "------------------------------------------------\n",
      "1.2 M     Trainable params\n",
      "0         Non-trainable params\n",
      "1.2 M     Total params\n",
      "4.922     Total estimated model params size (MB)\n"
     ]
    },
    {
     "data": {
      "application/vnd.jupyter.widget-view+json": {
       "model_id": "",
       "version_major": 2,
       "version_minor": 0
      },
      "text/plain": [
       "Validation sanity check: |                                                                       | 0/? [00:00<…"
      ]
     },
     "metadata": {},
     "output_type": "display_data"
    },
    {
     "name": "stdout",
     "output_type": "stream",
     "text": [
      "val\n",
      "tensor(0.9454, device='cuda:0')\n"
     ]
    },
    {
     "data": {
      "application/vnd.jupyter.widget-view+json": {
       "model_id": "2cb1a51c0f684623982814c08897a91e",
       "version_major": 2,
       "version_minor": 0
      },
      "text/plain": [
       "Training: |                                                                                      | 0/? [00:00<…"
      ]
     },
     "metadata": {},
     "output_type": "display_data"
    },
    {
     "name": "stdout",
     "output_type": "stream",
     "text": [
      "train\n",
      "tensor(0.0406, device='cuda:0')\n"
     ]
    },
    {
     "data": {
      "application/vnd.jupyter.widget-view+json": {
       "model_id": "",
       "version_major": 2,
       "version_minor": 0
      },
      "text/plain": [
       "Validating: |                                                                                    | 0/? [00:00<…"
      ]
     },
     "metadata": {},
     "output_type": "display_data"
    },
    {
     "name": "stdout",
     "output_type": "stream",
     "text": [
      "val\n",
      "tensor(0.8581, device='cuda:0')\n"
     ]
    },
    {
     "name": "stderr",
     "output_type": "stream",
     "text": [
      "GPU available: True, used: True\n",
      "TPU available: False, using: 0 TPU cores\n",
      "Using native 16bit precision.\n",
      "LOCAL_RANK: 0 - CUDA_VISIBLE_DEVICES: [0]\n"
     ]
    },
    {
     "name": "stdout",
     "output_type": "stream",
     "text": [
      "0.8352941176470589\n"
     ]
    },
    {
     "name": "stderr",
     "output_type": "stream",
     "text": [
      "\n",
      "  | Name       | Type             | Params\n",
      "------------------------------------------------\n",
      "0 | loss_func  | CrossEntropyLoss | 0     \n",
      "1 | block      | Sequential       | 290 K \n",
      "2 | classifier | Linear           | 940 K \n",
      "------------------------------------------------\n",
      "1.2 M     Trainable params\n",
      "0         Non-trainable params\n",
      "1.2 M     Total params\n",
      "4.922     Total estimated model params size (MB)\n"
     ]
    },
    {
     "data": {
      "application/vnd.jupyter.widget-view+json": {
       "model_id": "",
       "version_major": 2,
       "version_minor": 0
      },
      "text/plain": [
       "Validation sanity check: |                                                                       | 0/? [00:00<…"
      ]
     },
     "metadata": {},
     "output_type": "display_data"
    },
    {
     "name": "stdout",
     "output_type": "stream",
     "text": [
      "val\n",
      "tensor(0.6690, device='cuda:0')\n"
     ]
    },
    {
     "data": {
      "application/vnd.jupyter.widget-view+json": {
       "model_id": "43499df9383a4109a811c6a3d4a5dcec",
       "version_major": 2,
       "version_minor": 0
      },
      "text/plain": [
       "Training: |                                                                                      | 0/? [00:00<…"
      ]
     },
     "metadata": {},
     "output_type": "display_data"
    },
    {
     "name": "stdout",
     "output_type": "stream",
     "text": [
      "train\n",
      "tensor(0.0463, device='cuda:0')\n"
     ]
    },
    {
     "data": {
      "application/vnd.jupyter.widget-view+json": {
       "model_id": "",
       "version_major": 2,
       "version_minor": 0
      },
      "text/plain": [
       "Validating: |                                                                                    | 0/? [00:00<…"
      ]
     },
     "metadata": {},
     "output_type": "display_data"
    },
    {
     "name": "stdout",
     "output_type": "stream",
     "text": [
      "val\n",
      "tensor(0.8273, device='cuda:0')\n",
      "0.8379084967320262\n"
     ]
    }
   ],
   "source": [
    "cnn50.learning_rate = 0.0001\n",
    "for i in range(25):\n",
    "    train_cnn_final(cnn50,max_ep=1)\n",
    "    _,acc = test_cnn_onehot(cnn50)\n",
    "    history_acc.append(acc)"
   ]
  },
  {
   "cell_type": "code",
   "execution_count": 359,
   "metadata": {},
   "outputs": [
    {
     "name": "stdout",
     "output_type": "stream",
     "text": [
      "0.842483660130719\n"
     ]
    }
   ],
   "source": [
    "output = test_cnn_onehot(cnn50)"
   ]
  },
  {
   "cell_type": "code",
   "execution_count": 339,
   "metadata": {},
   "outputs": [],
   "source": [
    "torch.save(cnn50.state_dict(), model_path+'\\\\cnnbest10.pth')"
   ]
  },
  {
   "cell_type": "code",
   "execution_count": null,
   "metadata": {},
   "outputs": [],
   "source": [
    "unique_306 = [i for i in range(306)]"
   ]
  },
  {
   "cell_type": "code",
   "execution_count": 469,
   "metadata": {},
   "outputs": [],
   "source": [
    "p1 = precision_score(class_306_labels_origin_val,output[0],average = 'macro',labels = unique_306)\n",
    "r1 = recall_score(class_306_labels_origin_val,output[0],average = 'macro',labels = unique_306)\n",
    "f1 = f1_score(class_306_labels_origin_val,output[0],average = 'macro',labels = unique_306)"
   ]
  },
  {
   "cell_type": "code",
   "execution_count": 470,
   "metadata": {},
   "outputs": [
    {
     "name": "stdout",
     "output_type": "stream",
     "text": [
      "0.8737952588442786 0.8601307189542485 0.8549467779859936\n"
     ]
    }
   ],
   "source": [
    "print(p1,r1,f1)"
   ]
  },
  {
   "cell_type": "code",
   "execution_count": 36,
   "metadata": {},
   "outputs": [],
   "source": [
    "best7 = [[8,64],\n",
    "         [999,0],\n",
    "         [7,128],\n",
    "         [999,0],\n",
    "         [27,268,20],\n",
    "         [999,0],\n",
    "         [27,340,20],\n",
    "         [999,0],\n",
    "         [28,360,20],\n",
    "         [999,0]]"
   ]
  },
  {
   "cell_type": "code",
   "execution_count": 388,
   "metadata": {},
   "outputs": [],
   "source": [
    "cnn51 = CNN_final(nn.CrossEntropyLoss(),best7,lr = 1e-3)\n",
    "torch.save(cnn51.state_dict(), model_path+'\\\\cnnbest7start.pth')"
   ]
  },
  {
   "cell_type": "code",
   "execution_count": null,
   "metadata": {},
   "outputs": [],
   "source": [
    "cnn100 = CNN_final(nn.CrossEntropyLoss(),best5)\n",
    "cnn100.load_state_dict(torch.load(model_path+'\\\\cnnbest10.pth'))"
   ]
  },
  {
   "cell_type": "markdown",
   "metadata": {},
   "source": [
    "# Load best CNN"
   ]
  },
  {
   "cell_type": "code",
   "execution_count": 95,
   "metadata": {},
   "outputs": [
    {
     "data": {
      "text/plain": [
       "<All keys matched successfully>"
      ]
     },
     "execution_count": 95,
     "metadata": {},
     "output_type": "execute_result"
    }
   ],
   "source": [
    "cnn51 = CNN_final(nn.CrossEntropyLoss(),best7,lr = 1e-3)\n",
    "cnn51.load_state_dict(torch.load(model_path+'\\\\cnnbest7start.pth'))"
   ]
  },
  {
   "cell_type": "code",
   "execution_count": 96,
   "metadata": {},
   "outputs": [],
   "source": [
    "history_acc_1 = []"
   ]
  },
  {
   "cell_type": "code",
   "execution_count": 97,
   "metadata": {},
   "outputs": [
    {
     "name": "stderr",
     "output_type": "stream",
     "text": [
      "GPU available: True, used: True\n",
      "TPU available: False, using: 0 TPU cores\n",
      "Using native 16bit precision.\n",
      "LOCAL_RANK: 0 - CUDA_VISIBLE_DEVICES: [0]\n",
      "\n",
      "  | Name       | Type             | Params\n",
      "------------------------------------------------\n",
      "0 | loss_func  | CrossEntropyLoss | 0     \n",
      "1 | block      | Sequential       | 2.5 M \n",
      "2 | classifier | Linear           | 110 K \n",
      "------------------------------------------------\n",
      "2.6 M     Trainable params\n",
      "0         Non-trainable params\n",
      "2.6 M     Total params\n",
      "10.459    Total estimated model params size (MB)\n",
      "C:\\Users\\99298\\anaconda3\\envs\\COMP0036-group-cw\\lib\\site-packages\\pytorch_lightning\\utilities\\distributed.py:52: UserWarning: Your val_dataloader has `shuffle=True`, it is best practice to turn this off for validation and test dataloaders.\n",
      "  warnings.warn(*args, **kwargs)\n"
     ]
    },
    {
     "data": {
      "application/vnd.jupyter.widget-view+json": {
       "model_id": "",
       "version_major": 2,
       "version_minor": 0
      },
      "text/plain": [
       "Validation sanity check: |                                                                       | 0/? [00:00<…"
      ]
     },
     "metadata": {},
     "output_type": "display_data"
    },
    {
     "name": "stdout",
     "output_type": "stream",
     "text": [
      "val\n",
      "tensor(5.7261, device='cuda:0')\n"
     ]
    },
    {
     "data": {
      "application/vnd.jupyter.widget-view+json": {
       "model_id": "79f99fc1d9ea4048816f5800d4d62732",
       "version_major": 2,
       "version_minor": 0
      },
      "text/plain": [
       "Training: |                                                                                      | 0/? [00:00<…"
      ]
     },
     "metadata": {},
     "output_type": "display_data"
    },
    {
     "name": "stderr",
     "output_type": "stream",
     "text": [
      "C:\\Users\\99298\\anaconda3\\envs\\COMP0036-group-cw\\lib\\site-packages\\torchvision\\transforms\\functional_tensor.py:876: UserWarning: Argument fill/fillcolor is not supported for Tensor input. Fill value is zero\n",
      "  warnings.warn(\"Argument fill/fillcolor is not supported for Tensor input. Fill value is zero\")\n"
     ]
    },
    {
     "name": "stdout",
     "output_type": "stream",
     "text": [
      "train\n",
      "tensor(3.9187, device='cuda:0')\n"
     ]
    },
    {
     "data": {
      "application/vnd.jupyter.widget-view+json": {
       "model_id": "",
       "version_major": 2,
       "version_minor": 0
      },
      "text/plain": [
       "Validating: |                                                                                    | 0/? [00:00<…"
      ]
     },
     "metadata": {},
     "output_type": "display_data"
    },
    {
     "name": "stdout",
     "output_type": "stream",
     "text": [
      "val\n",
      "tensor(1.6135, device='cuda:0')\n",
      "train\n",
      "tensor(1.1278, device='cuda:0')\n"
     ]
    },
    {
     "data": {
      "application/vnd.jupyter.widget-view+json": {
       "model_id": "",
       "version_major": 2,
       "version_minor": 0
      },
      "text/plain": [
       "Validating: |                                                                                    | 0/? [00:00<…"
      ]
     },
     "metadata": {},
     "output_type": "display_data"
    },
    {
     "name": "stdout",
     "output_type": "stream",
     "text": [
      "val\n",
      "tensor(0.9091, device='cuda:0')\n",
      "train\n",
      "tensor(0.7258, device='cuda:0')\n"
     ]
    },
    {
     "data": {
      "application/vnd.jupyter.widget-view+json": {
       "model_id": "",
       "version_major": 2,
       "version_minor": 0
      },
      "text/plain": [
       "Validating: |                                                                                    | 0/? [00:00<…"
      ]
     },
     "metadata": {},
     "output_type": "display_data"
    },
    {
     "name": "stdout",
     "output_type": "stream",
     "text": [
      "val\n",
      "tensor(0.7069, device='cuda:0')\n",
      "train\n",
      "tensor(0.5770, device='cuda:0')\n"
     ]
    },
    {
     "data": {
      "application/vnd.jupyter.widget-view+json": {
       "model_id": "",
       "version_major": 2,
       "version_minor": 0
      },
      "text/plain": [
       "Validating: |                                                                                    | 0/? [00:00<…"
      ]
     },
     "metadata": {},
     "output_type": "display_data"
    },
    {
     "name": "stdout",
     "output_type": "stream",
     "text": [
      "val\n",
      "tensor(0.6763, device='cuda:0')\n",
      "train\n",
      "tensor(0.4812, device='cuda:0')\n"
     ]
    },
    {
     "data": {
      "application/vnd.jupyter.widget-view+json": {
       "model_id": "",
       "version_major": 2,
       "version_minor": 0
      },
      "text/plain": [
       "Validating: |                                                                                    | 0/? [00:00<…"
      ]
     },
     "metadata": {},
     "output_type": "display_data"
    },
    {
     "name": "stdout",
     "output_type": "stream",
     "text": [
      "val\n",
      "tensor(0.6462, device='cuda:0')\n",
      "train\n",
      "tensor(0.4297, device='cuda:0')\n"
     ]
    },
    {
     "data": {
      "application/vnd.jupyter.widget-view+json": {
       "model_id": "",
       "version_major": 2,
       "version_minor": 0
      },
      "text/plain": [
       "Validating: |                                                                                    | 0/? [00:00<…"
      ]
     },
     "metadata": {},
     "output_type": "display_data"
    },
    {
     "name": "stdout",
     "output_type": "stream",
     "text": [
      "val\n",
      "tensor(0.6566, device='cuda:0')\n",
      "train\n",
      "tensor(0.3776, device='cuda:0')\n"
     ]
    },
    {
     "data": {
      "application/vnd.jupyter.widget-view+json": {
       "model_id": "",
       "version_major": 2,
       "version_minor": 0
      },
      "text/plain": [
       "Validating: |                                                                                    | 0/? [00:00<…"
      ]
     },
     "metadata": {},
     "output_type": "display_data"
    },
    {
     "name": "stdout",
     "output_type": "stream",
     "text": [
      "val\n",
      "tensor(0.6815, device='cuda:0')\n",
      "train\n",
      "tensor(0.3432, device='cuda:0')\n"
     ]
    },
    {
     "data": {
      "application/vnd.jupyter.widget-view+json": {
       "model_id": "",
       "version_major": 2,
       "version_minor": 0
      },
      "text/plain": [
       "Validating: |                                                                                    | 0/? [00:00<…"
      ]
     },
     "metadata": {},
     "output_type": "display_data"
    },
    {
     "name": "stdout",
     "output_type": "stream",
     "text": [
      "val\n",
      "tensor(0.5925, device='cuda:0')\n",
      "train\n",
      "tensor(0.3024, device='cuda:0')\n"
     ]
    },
    {
     "data": {
      "application/vnd.jupyter.widget-view+json": {
       "model_id": "",
       "version_major": 2,
       "version_minor": 0
      },
      "text/plain": [
       "Validating: |                                                                                    | 0/? [00:00<…"
      ]
     },
     "metadata": {},
     "output_type": "display_data"
    },
    {
     "name": "stdout",
     "output_type": "stream",
     "text": [
      "val\n",
      "tensor(0.6197, device='cuda:0')\n",
      "train\n",
      "tensor(0.2776, device='cuda:0')\n"
     ]
    },
    {
     "data": {
      "application/vnd.jupyter.widget-view+json": {
       "model_id": "",
       "version_major": 2,
       "version_minor": 0
      },
      "text/plain": [
       "Validating: |                                                                                    | 0/? [00:00<…"
      ]
     },
     "metadata": {},
     "output_type": "display_data"
    },
    {
     "name": "stdout",
     "output_type": "stream",
     "text": [
      "val\n",
      "tensor(0.6398, device='cuda:0')\n",
      "train\n",
      "tensor(0.2610, device='cuda:0')\n"
     ]
    },
    {
     "data": {
      "application/vnd.jupyter.widget-view+json": {
       "model_id": "",
       "version_major": 2,
       "version_minor": 0
      },
      "text/plain": [
       "Validating: |                                                                                    | 0/? [00:00<…"
      ]
     },
     "metadata": {},
     "output_type": "display_data"
    },
    {
     "name": "stdout",
     "output_type": "stream",
     "text": [
      "val\n",
      "tensor(0.6260, device='cuda:0')\n",
      "train\n",
      "tensor(0.2536, device='cuda:0')\n"
     ]
    },
    {
     "data": {
      "application/vnd.jupyter.widget-view+json": {
       "model_id": "",
       "version_major": 2,
       "version_minor": 0
      },
      "text/plain": [
       "Validating: |                                                                                    | 0/? [00:00<…"
      ]
     },
     "metadata": {},
     "output_type": "display_data"
    },
    {
     "name": "stdout",
     "output_type": "stream",
     "text": [
      "val\n",
      "tensor(0.6297, device='cuda:0')\n",
      "train\n",
      "tensor(0.2381, device='cuda:0')\n"
     ]
    },
    {
     "data": {
      "application/vnd.jupyter.widget-view+json": {
       "model_id": "",
       "version_major": 2,
       "version_minor": 0
      },
      "text/plain": [
       "Validating: |                                                                                    | 0/? [00:00<…"
      ]
     },
     "metadata": {},
     "output_type": "display_data"
    },
    {
     "name": "stdout",
     "output_type": "stream",
     "text": [
      "val\n",
      "tensor(0.6808, device='cuda:0')\n",
      "train\n",
      "tensor(0.2302, device='cuda:0')\n"
     ]
    },
    {
     "data": {
      "application/vnd.jupyter.widget-view+json": {
       "model_id": "",
       "version_major": 2,
       "version_minor": 0
      },
      "text/plain": [
       "Validating: |                                                                                    | 0/? [00:00<…"
      ]
     },
     "metadata": {},
     "output_type": "display_data"
    },
    {
     "name": "stdout",
     "output_type": "stream",
     "text": [
      "val\n",
      "tensor(0.6409, device='cuda:0')\n",
      "train\n",
      "tensor(0.2166, device='cuda:0')\n"
     ]
    },
    {
     "data": {
      "application/vnd.jupyter.widget-view+json": {
       "model_id": "",
       "version_major": 2,
       "version_minor": 0
      },
      "text/plain": [
       "Validating: |                                                                                    | 0/? [00:00<…"
      ]
     },
     "metadata": {},
     "output_type": "display_data"
    },
    {
     "name": "stdout",
     "output_type": "stream",
     "text": [
      "val\n",
      "tensor(0.6709, device='cuda:0')\n",
      "train\n",
      "tensor(0.2239, device='cuda:0')\n"
     ]
    },
    {
     "data": {
      "application/vnd.jupyter.widget-view+json": {
       "model_id": "",
       "version_major": 2,
       "version_minor": 0
      },
      "text/plain": [
       "Validating: |                                                                                    | 0/? [00:00<…"
      ]
     },
     "metadata": {},
     "output_type": "display_data"
    },
    {
     "name": "stdout",
     "output_type": "stream",
     "text": [
      "val\n",
      "tensor(0.6710, device='cuda:0')\n",
      "train\n",
      "tensor(0.1962, device='cuda:0')\n"
     ]
    },
    {
     "data": {
      "application/vnd.jupyter.widget-view+json": {
       "model_id": "",
       "version_major": 2,
       "version_minor": 0
      },
      "text/plain": [
       "Validating: |                                                                                    | 0/? [00:00<…"
      ]
     },
     "metadata": {},
     "output_type": "display_data"
    },
    {
     "name": "stdout",
     "output_type": "stream",
     "text": [
      "val\n",
      "tensor(0.6792, device='cuda:0')\n",
      "train\n",
      "tensor(0.1964, device='cuda:0')\n"
     ]
    },
    {
     "data": {
      "application/vnd.jupyter.widget-view+json": {
       "model_id": "",
       "version_major": 2,
       "version_minor": 0
      },
      "text/plain": [
       "Validating: |                                                                                    | 0/? [00:00<…"
      ]
     },
     "metadata": {},
     "output_type": "display_data"
    },
    {
     "name": "stdout",
     "output_type": "stream",
     "text": [
      "val\n",
      "tensor(0.7023, device='cuda:0')\n",
      "train\n",
      "tensor(0.1885, device='cuda:0')\n"
     ]
    },
    {
     "data": {
      "application/vnd.jupyter.widget-view+json": {
       "model_id": "",
       "version_major": 2,
       "version_minor": 0
      },
      "text/plain": [
       "Validating: |                                                                                    | 0/? [00:00<…"
      ]
     },
     "metadata": {},
     "output_type": "display_data"
    },
    {
     "name": "stdout",
     "output_type": "stream",
     "text": [
      "val\n",
      "tensor(0.6749, device='cuda:0')\n",
      "train\n",
      "tensor(0.1757, device='cuda:0')\n"
     ]
    },
    {
     "data": {
      "application/vnd.jupyter.widget-view+json": {
       "model_id": "",
       "version_major": 2,
       "version_minor": 0
      },
      "text/plain": [
       "Validating: |                                                                                    | 0/? [00:00<…"
      ]
     },
     "metadata": {},
     "output_type": "display_data"
    },
    {
     "name": "stdout",
     "output_type": "stream",
     "text": [
      "val\n",
      "tensor(0.7165, device='cuda:0')\n",
      "train\n",
      "tensor(0.1785, device='cuda:0')\n"
     ]
    },
    {
     "data": {
      "application/vnd.jupyter.widget-view+json": {
       "model_id": "",
       "version_major": 2,
       "version_minor": 0
      },
      "text/plain": [
       "Validating: |                                                                                    | 0/? [00:00<…"
      ]
     },
     "metadata": {},
     "output_type": "display_data"
    },
    {
     "name": "stdout",
     "output_type": "stream",
     "text": [
      "val\n",
      "tensor(0.7264, device='cuda:0')\n",
      "train\n",
      "tensor(0.1706, device='cuda:0')\n"
     ]
    },
    {
     "data": {
      "application/vnd.jupyter.widget-view+json": {
       "model_id": "",
       "version_major": 2,
       "version_minor": 0
      },
      "text/plain": [
       "Validating: |                                                                                    | 0/? [00:00<…"
      ]
     },
     "metadata": {},
     "output_type": "display_data"
    },
    {
     "name": "stdout",
     "output_type": "stream",
     "text": [
      "val\n",
      "tensor(0.7437, device='cuda:0')\n",
      "train\n",
      "tensor(0.1665, device='cuda:0')\n"
     ]
    },
    {
     "data": {
      "application/vnd.jupyter.widget-view+json": {
       "model_id": "",
       "version_major": 2,
       "version_minor": 0
      },
      "text/plain": [
       "Validating: |                                                                                    | 0/? [00:00<…"
      ]
     },
     "metadata": {},
     "output_type": "display_data"
    },
    {
     "name": "stdout",
     "output_type": "stream",
     "text": [
      "val\n",
      "tensor(0.7621, device='cuda:0')\n",
      "train\n",
      "tensor(0.1726, device='cuda:0')\n"
     ]
    },
    {
     "data": {
      "application/vnd.jupyter.widget-view+json": {
       "model_id": "",
       "version_major": 2,
       "version_minor": 0
      },
      "text/plain": [
       "Validating: |                                                                                    | 0/? [00:00<…"
      ]
     },
     "metadata": {},
     "output_type": "display_data"
    },
    {
     "name": "stdout",
     "output_type": "stream",
     "text": [
      "val\n",
      "tensor(0.7694, device='cuda:0')\n",
      "train\n",
      "tensor(0.1690, device='cuda:0')\n"
     ]
    },
    {
     "data": {
      "application/vnd.jupyter.widget-view+json": {
       "model_id": "",
       "version_major": 2,
       "version_minor": 0
      },
      "text/plain": [
       "Validating: |                                                                                    | 0/? [00:00<…"
      ]
     },
     "metadata": {},
     "output_type": "display_data"
    },
    {
     "name": "stdout",
     "output_type": "stream",
     "text": [
      "val\n",
      "tensor(0.7774, device='cuda:0')\n"
     ]
    }
   ],
   "source": [
    "cnn51.learning_rate = 1e-3\n",
    "train_cnn_final(cnn51,max_ep=25)"
   ]
  },
  {
   "cell_type": "code",
   "execution_count": 99,
   "metadata": {},
   "outputs": [
    {
     "name": "stderr",
     "output_type": "stream",
     "text": [
      "GPU available: True, used: True\n",
      "TPU available: False, using: 0 TPU cores\n",
      "Using native 16bit precision.\n",
      "LOCAL_RANK: 0 - CUDA_VISIBLE_DEVICES: [0]\n",
      "\n",
      "  | Name       | Type             | Params\n",
      "------------------------------------------------\n",
      "0 | loss_func  | CrossEntropyLoss | 0     \n",
      "1 | block      | Sequential       | 2.5 M \n",
      "2 | classifier | Linear           | 110 K \n",
      "------------------------------------------------\n",
      "2.6 M     Trainable params\n",
      "0         Non-trainable params\n",
      "2.6 M     Total params\n",
      "10.459    Total estimated model params size (MB)\n"
     ]
    },
    {
     "data": {
      "application/vnd.jupyter.widget-view+json": {
       "model_id": "",
       "version_major": 2,
       "version_minor": 0
      },
      "text/plain": [
       "Validation sanity check: |                                                                       | 0/? [00:00<…"
      ]
     },
     "metadata": {},
     "output_type": "display_data"
    },
    {
     "name": "stdout",
     "output_type": "stream",
     "text": [
      "val\n",
      "tensor(0.9094, device='cuda:0')\n"
     ]
    },
    {
     "data": {
      "application/vnd.jupyter.widget-view+json": {
       "model_id": "cfa70ca4728a4becbb2ec2103c5b58c6",
       "version_major": 2,
       "version_minor": 0
      },
      "text/plain": [
       "Training: |                                                                                      | 0/? [00:00<…"
      ]
     },
     "metadata": {},
     "output_type": "display_data"
    },
    {
     "name": "stdout",
     "output_type": "stream",
     "text": [
      "train\n",
      "tensor(0.0994, device='cuda:0')\n"
     ]
    },
    {
     "data": {
      "application/vnd.jupyter.widget-view+json": {
       "model_id": "",
       "version_major": 2,
       "version_minor": 0
      },
      "text/plain": [
       "Validating: |                                                                                    | 0/? [00:00<…"
      ]
     },
     "metadata": {},
     "output_type": "display_data"
    },
    {
     "name": "stdout",
     "output_type": "stream",
     "text": [
      "val\n",
      "tensor(0.6382, device='cuda:0')\n"
     ]
    },
    {
     "name": "stderr",
     "output_type": "stream",
     "text": [
      "GPU available: True, used: True\n",
      "TPU available: False, using: 0 TPU cores\n",
      "Using native 16bit precision.\n",
      "LOCAL_RANK: 0 - CUDA_VISIBLE_DEVICES: [0]\n",
      "\n",
      "  | Name       | Type             | Params\n",
      "------------------------------------------------\n",
      "0 | loss_func  | CrossEntropyLoss | 0     \n",
      "1 | block      | Sequential       | 2.5 M \n",
      "2 | classifier | Linear           | 110 K \n",
      "------------------------------------------------\n",
      "2.6 M     Trainable params\n",
      "0         Non-trainable params\n",
      "2.6 M     Total params\n",
      "10.459    Total estimated model params size (MB)\n"
     ]
    },
    {
     "data": {
      "application/vnd.jupyter.widget-view+json": {
       "model_id": "",
       "version_major": 2,
       "version_minor": 0
      },
      "text/plain": [
       "Validation sanity check: |                                                                       | 0/? [00:00<…"
      ]
     },
     "metadata": {},
     "output_type": "display_data"
    },
    {
     "name": "stdout",
     "output_type": "stream",
     "text": [
      "val\n",
      "tensor(0.7479, device='cuda:0')\n"
     ]
    },
    {
     "data": {
      "application/vnd.jupyter.widget-view+json": {
       "model_id": "3ba1f00b8ca34d119dc6fcec8400cffc",
       "version_major": 2,
       "version_minor": 0
      },
      "text/plain": [
       "Training: |                                                                                      | 0/? [00:00<…"
      ]
     },
     "metadata": {},
     "output_type": "display_data"
    },
    {
     "name": "stdout",
     "output_type": "stream",
     "text": [
      "train\n",
      "tensor(0.0757, device='cuda:0')\n"
     ]
    },
    {
     "data": {
      "application/vnd.jupyter.widget-view+json": {
       "model_id": "",
       "version_major": 2,
       "version_minor": 0
      },
      "text/plain": [
       "Validating: |                                                                                    | 0/? [00:00<…"
      ]
     },
     "metadata": {},
     "output_type": "display_data"
    },
    {
     "name": "stdout",
     "output_type": "stream",
     "text": [
      "val\n",
      "tensor(0.6241, device='cuda:0')\n"
     ]
    },
    {
     "name": "stderr",
     "output_type": "stream",
     "text": [
      "GPU available: True, used: True\n",
      "TPU available: False, using: 0 TPU cores\n",
      "Using native 16bit precision.\n",
      "LOCAL_RANK: 0 - CUDA_VISIBLE_DEVICES: [0]\n",
      "\n",
      "  | Name       | Type             | Params\n",
      "------------------------------------------------\n",
      "0 | loss_func  | CrossEntropyLoss | 0     \n",
      "1 | block      | Sequential       | 2.5 M \n",
      "2 | classifier | Linear           | 110 K \n",
      "------------------------------------------------\n",
      "2.6 M     Trainable params\n",
      "0         Non-trainable params\n",
      "2.6 M     Total params\n",
      "10.459    Total estimated model params size (MB)\n"
     ]
    },
    {
     "data": {
      "application/vnd.jupyter.widget-view+json": {
       "model_id": "",
       "version_major": 2,
       "version_minor": 0
      },
      "text/plain": [
       "Validation sanity check: |                                                                       | 0/? [00:00<…"
      ]
     },
     "metadata": {},
     "output_type": "display_data"
    },
    {
     "name": "stdout",
     "output_type": "stream",
     "text": [
      "val\n",
      "tensor(0.5304, device='cuda:0')\n"
     ]
    },
    {
     "data": {
      "application/vnd.jupyter.widget-view+json": {
       "model_id": "5f5bf208e5704371a82bbd164abb0a7a",
       "version_major": 2,
       "version_minor": 0
      },
      "text/plain": [
       "Training: |                                                                                      | 0/? [00:00<…"
      ]
     },
     "metadata": {},
     "output_type": "display_data"
    },
    {
     "name": "stdout",
     "output_type": "stream",
     "text": [
      "train\n",
      "tensor(0.0671, device='cuda:0')\n"
     ]
    },
    {
     "data": {
      "application/vnd.jupyter.widget-view+json": {
       "model_id": "",
       "version_major": 2,
       "version_minor": 0
      },
      "text/plain": [
       "Validating: |                                                                                    | 0/? [00:00<…"
      ]
     },
     "metadata": {},
     "output_type": "display_data"
    },
    {
     "name": "stdout",
     "output_type": "stream",
     "text": [
      "val\n",
      "tensor(0.6429, device='cuda:0')\n"
     ]
    },
    {
     "name": "stderr",
     "output_type": "stream",
     "text": [
      "GPU available: True, used: True\n",
      "TPU available: False, using: 0 TPU cores\n",
      "Using native 16bit precision.\n",
      "LOCAL_RANK: 0 - CUDA_VISIBLE_DEVICES: [0]\n",
      "\n",
      "  | Name       | Type             | Params\n",
      "------------------------------------------------\n",
      "0 | loss_func  | CrossEntropyLoss | 0     \n",
      "1 | block      | Sequential       | 2.5 M \n",
      "2 | classifier | Linear           | 110 K \n",
      "------------------------------------------------\n",
      "2.6 M     Trainable params\n",
      "0         Non-trainable params\n",
      "2.6 M     Total params\n",
      "10.459    Total estimated model params size (MB)\n"
     ]
    },
    {
     "data": {
      "application/vnd.jupyter.widget-view+json": {
       "model_id": "",
       "version_major": 2,
       "version_minor": 0
      },
      "text/plain": [
       "Validation sanity check: |                                                                       | 0/? [00:00<…"
      ]
     },
     "metadata": {},
     "output_type": "display_data"
    },
    {
     "name": "stdout",
     "output_type": "stream",
     "text": [
      "val\n",
      "tensor(0.6741, device='cuda:0')\n"
     ]
    },
    {
     "data": {
      "application/vnd.jupyter.widget-view+json": {
       "model_id": "31f6777c0b334435a93a2ed016a3328b",
       "version_major": 2,
       "version_minor": 0
      },
      "text/plain": [
       "Training: |                                                                                      | 0/? [00:00<…"
      ]
     },
     "metadata": {},
     "output_type": "display_data"
    },
    {
     "name": "stdout",
     "output_type": "stream",
     "text": [
      "train\n",
      "tensor(0.0650, device='cuda:0')\n"
     ]
    },
    {
     "data": {
      "application/vnd.jupyter.widget-view+json": {
       "model_id": "",
       "version_major": 2,
       "version_minor": 0
      },
      "text/plain": [
       "Validating: |                                                                                    | 0/? [00:00<…"
      ]
     },
     "metadata": {},
     "output_type": "display_data"
    },
    {
     "name": "stdout",
     "output_type": "stream",
     "text": [
      "val\n",
      "tensor(0.6319, device='cuda:0')\n"
     ]
    },
    {
     "name": "stderr",
     "output_type": "stream",
     "text": [
      "GPU available: True, used: True\n",
      "TPU available: False, using: 0 TPU cores\n",
      "Using native 16bit precision.\n",
      "LOCAL_RANK: 0 - CUDA_VISIBLE_DEVICES: [0]\n",
      "\n",
      "  | Name       | Type             | Params\n",
      "------------------------------------------------\n",
      "0 | loss_func  | CrossEntropyLoss | 0     \n",
      "1 | block      | Sequential       | 2.5 M \n",
      "2 | classifier | Linear           | 110 K \n",
      "------------------------------------------------\n",
      "2.6 M     Trainable params\n",
      "0         Non-trainable params\n",
      "2.6 M     Total params\n",
      "10.459    Total estimated model params size (MB)\n"
     ]
    },
    {
     "data": {
      "application/vnd.jupyter.widget-view+json": {
       "model_id": "",
       "version_major": 2,
       "version_minor": 0
      },
      "text/plain": [
       "Validation sanity check: |                                                                       | 0/? [00:00<…"
      ]
     },
     "metadata": {},
     "output_type": "display_data"
    },
    {
     "name": "stdout",
     "output_type": "stream",
     "text": [
      "val\n",
      "tensor(0.7391, device='cuda:0')\n"
     ]
    },
    {
     "data": {
      "application/vnd.jupyter.widget-view+json": {
       "model_id": "30ce1eb3a1c04fa796d2b94d0c070c31",
       "version_major": 2,
       "version_minor": 0
      },
      "text/plain": [
       "Training: |                                                                                      | 0/? [00:00<…"
      ]
     },
     "metadata": {},
     "output_type": "display_data"
    },
    {
     "name": "stdout",
     "output_type": "stream",
     "text": [
      "train\n",
      "tensor(0.0658, device='cuda:0')\n"
     ]
    },
    {
     "data": {
      "application/vnd.jupyter.widget-view+json": {
       "model_id": "",
       "version_major": 2,
       "version_minor": 0
      },
      "text/plain": [
       "Validating: |                                                                                    | 0/? [00:00<…"
      ]
     },
     "metadata": {},
     "output_type": "display_data"
    },
    {
     "name": "stdout",
     "output_type": "stream",
     "text": [
      "val\n",
      "tensor(0.6253, device='cuda:0')\n"
     ]
    },
    {
     "name": "stderr",
     "output_type": "stream",
     "text": [
      "GPU available: True, used: True\n",
      "TPU available: False, using: 0 TPU cores\n",
      "Using native 16bit precision.\n",
      "LOCAL_RANK: 0 - CUDA_VISIBLE_DEVICES: [0]\n",
      "\n",
      "  | Name       | Type             | Params\n",
      "------------------------------------------------\n",
      "0 | loss_func  | CrossEntropyLoss | 0     \n",
      "1 | block      | Sequential       | 2.5 M \n",
      "2 | classifier | Linear           | 110 K \n",
      "------------------------------------------------\n",
      "2.6 M     Trainable params\n",
      "0         Non-trainable params\n",
      "2.6 M     Total params\n",
      "10.459    Total estimated model params size (MB)\n"
     ]
    },
    {
     "data": {
      "application/vnd.jupyter.widget-view+json": {
       "model_id": "",
       "version_major": 2,
       "version_minor": 0
      },
      "text/plain": [
       "Validation sanity check: |                                                                       | 0/? [00:00<…"
      ]
     },
     "metadata": {},
     "output_type": "display_data"
    },
    {
     "name": "stdout",
     "output_type": "stream",
     "text": [
      "val\n",
      "tensor(0.5318, device='cuda:0')\n"
     ]
    },
    {
     "data": {
      "application/vnd.jupyter.widget-view+json": {
       "model_id": "a2726772af3142b68b32cac3165ff053",
       "version_major": 2,
       "version_minor": 0
      },
      "text/plain": [
       "Training: |                                                                                      | 0/? [00:00<…"
      ]
     },
     "metadata": {},
     "output_type": "display_data"
    },
    {
     "name": "stdout",
     "output_type": "stream",
     "text": [
      "train\n",
      "tensor(0.0611, device='cuda:0')\n"
     ]
    },
    {
     "data": {
      "application/vnd.jupyter.widget-view+json": {
       "model_id": "",
       "version_major": 2,
       "version_minor": 0
      },
      "text/plain": [
       "Validating: |                                                                                    | 0/? [00:00<…"
      ]
     },
     "metadata": {},
     "output_type": "display_data"
    },
    {
     "name": "stdout",
     "output_type": "stream",
     "text": [
      "val\n",
      "tensor(0.6416, device='cuda:0')\n"
     ]
    },
    {
     "name": "stderr",
     "output_type": "stream",
     "text": [
      "GPU available: True, used: True\n",
      "TPU available: False, using: 0 TPU cores\n",
      "Using native 16bit precision.\n",
      "LOCAL_RANK: 0 - CUDA_VISIBLE_DEVICES: [0]\n",
      "\n",
      "  | Name       | Type             | Params\n",
      "------------------------------------------------\n",
      "0 | loss_func  | CrossEntropyLoss | 0     \n",
      "1 | block      | Sequential       | 2.5 M \n",
      "2 | classifier | Linear           | 110 K \n",
      "------------------------------------------------\n",
      "2.6 M     Trainable params\n",
      "0         Non-trainable params\n",
      "2.6 M     Total params\n",
      "10.459    Total estimated model params size (MB)\n"
     ]
    },
    {
     "data": {
      "application/vnd.jupyter.widget-view+json": {
       "model_id": "",
       "version_major": 2,
       "version_minor": 0
      },
      "text/plain": [
       "Validation sanity check: |                                                                       | 0/? [00:00<…"
      ]
     },
     "metadata": {},
     "output_type": "display_data"
    },
    {
     "name": "stdout",
     "output_type": "stream",
     "text": [
      "val\n",
      "tensor(0.6207, device='cuda:0')\n"
     ]
    },
    {
     "data": {
      "application/vnd.jupyter.widget-view+json": {
       "model_id": "33c2249b4758471aaf17468ca978a75c",
       "version_major": 2,
       "version_minor": 0
      },
      "text/plain": [
       "Training: |                                                                                      | 0/? [00:00<…"
      ]
     },
     "metadata": {},
     "output_type": "display_data"
    },
    {
     "name": "stdout",
     "output_type": "stream",
     "text": [
      "train\n",
      "tensor(0.0595, device='cuda:0')\n"
     ]
    },
    {
     "data": {
      "application/vnd.jupyter.widget-view+json": {
       "model_id": "",
       "version_major": 2,
       "version_minor": 0
      },
      "text/plain": [
       "Validating: |                                                                                    | 0/? [00:00<…"
      ]
     },
     "metadata": {},
     "output_type": "display_data"
    },
    {
     "name": "stdout",
     "output_type": "stream",
     "text": [
      "val\n",
      "tensor(0.5997, device='cuda:0')\n"
     ]
    },
    {
     "name": "stderr",
     "output_type": "stream",
     "text": [
      "GPU available: True, used: True\n",
      "TPU available: False, using: 0 TPU cores\n",
      "Using native 16bit precision.\n",
      "LOCAL_RANK: 0 - CUDA_VISIBLE_DEVICES: [0]\n",
      "\n",
      "  | Name       | Type             | Params\n",
      "------------------------------------------------\n",
      "0 | loss_func  | CrossEntropyLoss | 0     \n",
      "1 | block      | Sequential       | 2.5 M \n",
      "2 | classifier | Linear           | 110 K \n",
      "------------------------------------------------\n",
      "2.6 M     Trainable params\n",
      "0         Non-trainable params\n",
      "2.6 M     Total params\n",
      "10.459    Total estimated model params size (MB)\n"
     ]
    },
    {
     "data": {
      "application/vnd.jupyter.widget-view+json": {
       "model_id": "",
       "version_major": 2,
       "version_minor": 0
      },
      "text/plain": [
       "Validation sanity check: |                                                                       | 0/? [00:00<…"
      ]
     },
     "metadata": {},
     "output_type": "display_data"
    },
    {
     "name": "stdout",
     "output_type": "stream",
     "text": [
      "val\n",
      "tensor(0.7571, device='cuda:0')\n"
     ]
    },
    {
     "data": {
      "application/vnd.jupyter.widget-view+json": {
       "model_id": "ce730139146f4cb18421dc7401bbb812",
       "version_major": 2,
       "version_minor": 0
      },
      "text/plain": [
       "Training: |                                                                                      | 0/? [00:00<…"
      ]
     },
     "metadata": {},
     "output_type": "display_data"
    },
    {
     "name": "stdout",
     "output_type": "stream",
     "text": [
      "train\n",
      "tensor(0.0556, device='cuda:0')\n"
     ]
    },
    {
     "data": {
      "application/vnd.jupyter.widget-view+json": {
       "model_id": "",
       "version_major": 2,
       "version_minor": 0
      },
      "text/plain": [
       "Validating: |                                                                                    | 0/? [00:00<…"
      ]
     },
     "metadata": {},
     "output_type": "display_data"
    },
    {
     "name": "stdout",
     "output_type": "stream",
     "text": [
      "val\n",
      "tensor(0.6748, device='cuda:0')\n"
     ]
    },
    {
     "name": "stderr",
     "output_type": "stream",
     "text": [
      "GPU available: True, used: True\n",
      "TPU available: False, using: 0 TPU cores\n",
      "Using native 16bit precision.\n",
      "LOCAL_RANK: 0 - CUDA_VISIBLE_DEVICES: [0]\n",
      "\n",
      "  | Name       | Type             | Params\n",
      "------------------------------------------------\n",
      "0 | loss_func  | CrossEntropyLoss | 0     \n",
      "1 | block      | Sequential       | 2.5 M \n",
      "2 | classifier | Linear           | 110 K \n",
      "------------------------------------------------\n",
      "2.6 M     Trainable params\n",
      "0         Non-trainable params\n",
      "2.6 M     Total params\n",
      "10.459    Total estimated model params size (MB)\n"
     ]
    },
    {
     "data": {
      "application/vnd.jupyter.widget-view+json": {
       "model_id": "",
       "version_major": 2,
       "version_minor": 0
      },
      "text/plain": [
       "Validation sanity check: |                                                                       | 0/? [00:00<…"
      ]
     },
     "metadata": {},
     "output_type": "display_data"
    },
    {
     "name": "stdout",
     "output_type": "stream",
     "text": [
      "val\n",
      "tensor(0.5072, device='cuda:0')\n"
     ]
    },
    {
     "data": {
      "application/vnd.jupyter.widget-view+json": {
       "model_id": "03bd0123a6974a558003608330dd7e70",
       "version_major": 2,
       "version_minor": 0
      },
      "text/plain": [
       "Training: |                                                                                      | 0/? [00:00<…"
      ]
     },
     "metadata": {},
     "output_type": "display_data"
    },
    {
     "name": "stdout",
     "output_type": "stream",
     "text": [
      "train\n",
      "tensor(0.0560, device='cuda:0')\n"
     ]
    },
    {
     "data": {
      "application/vnd.jupyter.widget-view+json": {
       "model_id": "",
       "version_major": 2,
       "version_minor": 0
      },
      "text/plain": [
       "Validating: |                                                                                    | 0/? [00:00<…"
      ]
     },
     "metadata": {},
     "output_type": "display_data"
    },
    {
     "name": "stdout",
     "output_type": "stream",
     "text": [
      "val\n",
      "tensor(0.6511, device='cuda:0')\n"
     ]
    },
    {
     "name": "stderr",
     "output_type": "stream",
     "text": [
      "GPU available: True, used: True\n",
      "TPU available: False, using: 0 TPU cores\n",
      "Using native 16bit precision.\n",
      "LOCAL_RANK: 0 - CUDA_VISIBLE_DEVICES: [0]\n",
      "\n",
      "  | Name       | Type             | Params\n",
      "------------------------------------------------\n",
      "0 | loss_func  | CrossEntropyLoss | 0     \n",
      "1 | block      | Sequential       | 2.5 M \n",
      "2 | classifier | Linear           | 110 K \n",
      "------------------------------------------------\n",
      "2.6 M     Trainable params\n",
      "0         Non-trainable params\n",
      "2.6 M     Total params\n",
      "10.459    Total estimated model params size (MB)\n"
     ]
    },
    {
     "data": {
      "application/vnd.jupyter.widget-view+json": {
       "model_id": "",
       "version_major": 2,
       "version_minor": 0
      },
      "text/plain": [
       "Validation sanity check: |                                                                       | 0/? [00:00<…"
      ]
     },
     "metadata": {},
     "output_type": "display_data"
    },
    {
     "name": "stdout",
     "output_type": "stream",
     "text": [
      "val\n",
      "tensor(0.8168, device='cuda:0')\n"
     ]
    },
    {
     "data": {
      "application/vnd.jupyter.widget-view+json": {
       "model_id": "d6ad5e222fe94b19aaf797023706ac48",
       "version_major": 2,
       "version_minor": 0
      },
      "text/plain": [
       "Training: |                                                                                      | 0/? [00:00<…"
      ]
     },
     "metadata": {},
     "output_type": "display_data"
    },
    {
     "name": "stdout",
     "output_type": "stream",
     "text": [
      "train\n",
      "tensor(0.0539, device='cuda:0')\n"
     ]
    },
    {
     "data": {
      "application/vnd.jupyter.widget-view+json": {
       "model_id": "",
       "version_major": 2,
       "version_minor": 0
      },
      "text/plain": [
       "Validating: |                                                                                    | 0/? [00:00<…"
      ]
     },
     "metadata": {},
     "output_type": "display_data"
    },
    {
     "name": "stdout",
     "output_type": "stream",
     "text": [
      "val\n",
      "tensor(0.6260, device='cuda:0')\n"
     ]
    },
    {
     "name": "stderr",
     "output_type": "stream",
     "text": [
      "GPU available: True, used: True\n",
      "TPU available: False, using: 0 TPU cores\n",
      "Using native 16bit precision.\n",
      "LOCAL_RANK: 0 - CUDA_VISIBLE_DEVICES: [0]\n",
      "\n",
      "  | Name       | Type             | Params\n",
      "------------------------------------------------\n",
      "0 | loss_func  | CrossEntropyLoss | 0     \n",
      "1 | block      | Sequential       | 2.5 M \n",
      "2 | classifier | Linear           | 110 K \n",
      "------------------------------------------------\n",
      "2.6 M     Trainable params\n",
      "0         Non-trainable params\n",
      "2.6 M     Total params\n",
      "10.459    Total estimated model params size (MB)\n"
     ]
    },
    {
     "data": {
      "application/vnd.jupyter.widget-view+json": {
       "model_id": "",
       "version_major": 2,
       "version_minor": 0
      },
      "text/plain": [
       "Validation sanity check: |                                                                       | 0/? [00:00<…"
      ]
     },
     "metadata": {},
     "output_type": "display_data"
    },
    {
     "name": "stdout",
     "output_type": "stream",
     "text": [
      "val\n",
      "tensor(0.9801, device='cuda:0')\n"
     ]
    },
    {
     "data": {
      "application/vnd.jupyter.widget-view+json": {
       "model_id": "5e2d4605fa7c40eebd17bb61d138b950",
       "version_major": 2,
       "version_minor": 0
      },
      "text/plain": [
       "Training: |                                                                                      | 0/? [00:00<…"
      ]
     },
     "metadata": {},
     "output_type": "display_data"
    },
    {
     "name": "stdout",
     "output_type": "stream",
     "text": [
      "train\n",
      "tensor(0.0507, device='cuda:0')\n"
     ]
    },
    {
     "data": {
      "application/vnd.jupyter.widget-view+json": {
       "model_id": "",
       "version_major": 2,
       "version_minor": 0
      },
      "text/plain": [
       "Validating: |                                                                                    | 0/? [00:00<…"
      ]
     },
     "metadata": {},
     "output_type": "display_data"
    },
    {
     "name": "stdout",
     "output_type": "stream",
     "text": [
      "val\n",
      "tensor(0.6376, device='cuda:0')\n"
     ]
    },
    {
     "name": "stderr",
     "output_type": "stream",
     "text": [
      "GPU available: True, used: True\n",
      "TPU available: False, using: 0 TPU cores\n",
      "Using native 16bit precision.\n",
      "LOCAL_RANK: 0 - CUDA_VISIBLE_DEVICES: [0]\n",
      "\n",
      "  | Name       | Type             | Params\n",
      "------------------------------------------------\n",
      "0 | loss_func  | CrossEntropyLoss | 0     \n",
      "1 | block      | Sequential       | 2.5 M \n",
      "2 | classifier | Linear           | 110 K \n",
      "------------------------------------------------\n",
      "2.6 M     Trainable params\n",
      "0         Non-trainable params\n",
      "2.6 M     Total params\n",
      "10.459    Total estimated model params size (MB)\n"
     ]
    },
    {
     "data": {
      "application/vnd.jupyter.widget-view+json": {
       "model_id": "",
       "version_major": 2,
       "version_minor": 0
      },
      "text/plain": [
       "Validation sanity check: |                                                                       | 0/? [00:00<…"
      ]
     },
     "metadata": {},
     "output_type": "display_data"
    },
    {
     "name": "stdout",
     "output_type": "stream",
     "text": [
      "val\n",
      "tensor(0.7207, device='cuda:0')\n"
     ]
    },
    {
     "data": {
      "application/vnd.jupyter.widget-view+json": {
       "model_id": "b8729dcbc71745d19be326040352329f",
       "version_major": 2,
       "version_minor": 0
      },
      "text/plain": [
       "Training: |                                                                                      | 0/? [00:00<…"
      ]
     },
     "metadata": {},
     "output_type": "display_data"
    },
    {
     "name": "stdout",
     "output_type": "stream",
     "text": [
      "train\n",
      "tensor(0.0513, device='cuda:0')\n"
     ]
    },
    {
     "data": {
      "application/vnd.jupyter.widget-view+json": {
       "model_id": "",
       "version_major": 2,
       "version_minor": 0
      },
      "text/plain": [
       "Validating: |                                                                                    | 0/? [00:00<…"
      ]
     },
     "metadata": {},
     "output_type": "display_data"
    },
    {
     "name": "stdout",
     "output_type": "stream",
     "text": [
      "val\n",
      "tensor(0.6096, device='cuda:0')\n"
     ]
    },
    {
     "name": "stderr",
     "output_type": "stream",
     "text": [
      "GPU available: True, used: True\n",
      "TPU available: False, using: 0 TPU cores\n",
      "Using native 16bit precision.\n",
      "LOCAL_RANK: 0 - CUDA_VISIBLE_DEVICES: [0]\n",
      "\n",
      "  | Name       | Type             | Params\n",
      "------------------------------------------------\n",
      "0 | loss_func  | CrossEntropyLoss | 0     \n",
      "1 | block      | Sequential       | 2.5 M \n",
      "2 | classifier | Linear           | 110 K \n",
      "------------------------------------------------\n",
      "2.6 M     Trainable params\n",
      "0         Non-trainable params\n",
      "2.6 M     Total params\n",
      "10.459    Total estimated model params size (MB)\n"
     ]
    },
    {
     "data": {
      "application/vnd.jupyter.widget-view+json": {
       "model_id": "",
       "version_major": 2,
       "version_minor": 0
      },
      "text/plain": [
       "Validation sanity check: |                                                                       | 0/? [00:00<…"
      ]
     },
     "metadata": {},
     "output_type": "display_data"
    },
    {
     "name": "stdout",
     "output_type": "stream",
     "text": [
      "val\n",
      "tensor(0.7328, device='cuda:0')\n"
     ]
    },
    {
     "data": {
      "application/vnd.jupyter.widget-view+json": {
       "model_id": "dec366fad2604c05bbf732bf369de7e1",
       "version_major": 2,
       "version_minor": 0
      },
      "text/plain": [
       "Training: |                                                                                      | 0/? [00:00<…"
      ]
     },
     "metadata": {},
     "output_type": "display_data"
    },
    {
     "name": "stdout",
     "output_type": "stream",
     "text": [
      "train\n",
      "tensor(0.0497, device='cuda:0')\n"
     ]
    },
    {
     "data": {
      "application/vnd.jupyter.widget-view+json": {
       "model_id": "",
       "version_major": 2,
       "version_minor": 0
      },
      "text/plain": [
       "Validating: |                                                                                    | 0/? [00:00<…"
      ]
     },
     "metadata": {},
     "output_type": "display_data"
    },
    {
     "name": "stdout",
     "output_type": "stream",
     "text": [
      "val\n",
      "tensor(0.6287, device='cuda:0')\n"
     ]
    },
    {
     "name": "stderr",
     "output_type": "stream",
     "text": [
      "GPU available: True, used: True\n",
      "TPU available: False, using: 0 TPU cores\n",
      "Using native 16bit precision.\n",
      "LOCAL_RANK: 0 - CUDA_VISIBLE_DEVICES: [0]\n",
      "\n",
      "  | Name       | Type             | Params\n",
      "------------------------------------------------\n",
      "0 | loss_func  | CrossEntropyLoss | 0     \n",
      "1 | block      | Sequential       | 2.5 M \n",
      "2 | classifier | Linear           | 110 K \n",
      "------------------------------------------------\n",
      "2.6 M     Trainable params\n",
      "0         Non-trainable params\n",
      "2.6 M     Total params\n",
      "10.459    Total estimated model params size (MB)\n"
     ]
    },
    {
     "data": {
      "application/vnd.jupyter.widget-view+json": {
       "model_id": "",
       "version_major": 2,
       "version_minor": 0
      },
      "text/plain": [
       "Validation sanity check: |                                                                       | 0/? [00:00<…"
      ]
     },
     "metadata": {},
     "output_type": "display_data"
    },
    {
     "name": "stdout",
     "output_type": "stream",
     "text": [
      "val\n",
      "tensor(0.5543, device='cuda:0')\n"
     ]
    },
    {
     "data": {
      "application/vnd.jupyter.widget-view+json": {
       "model_id": "da137562137f4902a18644b291320101",
       "version_major": 2,
       "version_minor": 0
      },
      "text/plain": [
       "Training: |                                                                                      | 0/? [00:00<…"
      ]
     },
     "metadata": {},
     "output_type": "display_data"
    },
    {
     "name": "stderr",
     "output_type": "stream",
     "text": [
      "C:\\Users\\99298\\anaconda3\\envs\\COMP0036-group-cw\\lib\\site-packages\\pytorch_lightning\\utilities\\distributed.py:52: UserWarning: Detected KeyboardInterrupt, attempting graceful shutdown...\n",
      "  warnings.warn(*args, **kwargs)\n",
      "GPU available: True, used: True\n",
      "TPU available: False, using: 0 TPU cores\n",
      "Using native 16bit precision.\n",
      "LOCAL_RANK: 0 - CUDA_VISIBLE_DEVICES: [0]\n",
      "\n",
      "  | Name       | Type             | Params\n",
      "------------------------------------------------\n",
      "0 | loss_func  | CrossEntropyLoss | 0     \n",
      "1 | block      | Sequential       | 2.5 M \n",
      "2 | classifier | Linear           | 110 K \n",
      "------------------------------------------------\n",
      "2.6 M     Trainable params\n",
      "0         Non-trainable params\n",
      "2.6 M     Total params\n",
      "10.459    Total estimated model params size (MB)\n"
     ]
    },
    {
     "data": {
      "application/vnd.jupyter.widget-view+json": {
       "model_id": "",
       "version_major": 2,
       "version_minor": 0
      },
      "text/plain": [
       "Validation sanity check: |                                                                       | 0/? [00:00<…"
      ]
     },
     "metadata": {},
     "output_type": "display_data"
    },
    {
     "name": "stdout",
     "output_type": "stream",
     "text": [
      "val\n",
      "tensor(0.7051, device='cuda:0')\n"
     ]
    },
    {
     "data": {
      "application/vnd.jupyter.widget-view+json": {
       "model_id": "677150934a774e63b20c66717054a629",
       "version_major": 2,
       "version_minor": 0
      },
      "text/plain": [
       "Training: |                                                                                      | 0/? [00:00<…"
      ]
     },
     "metadata": {},
     "output_type": "display_data"
    },
    {
     "name": "stderr",
     "output_type": "stream",
     "text": [
      "GPU available: True, used: True\n",
      "TPU available: False, using: 0 TPU cores\n",
      "Using native 16bit precision.\n",
      "LOCAL_RANK: 0 - CUDA_VISIBLE_DEVICES: [0]\n",
      "\n",
      "  | Name       | Type             | Params\n",
      "------------------------------------------------\n",
      "0 | loss_func  | CrossEntropyLoss | 0     \n",
      "1 | block      | Sequential       | 2.5 M \n",
      "2 | classifier | Linear           | 110 K \n",
      "------------------------------------------------\n",
      "2.6 M     Trainable params\n",
      "0         Non-trainable params\n",
      "2.6 M     Total params\n",
      "10.459    Total estimated model params size (MB)\n"
     ]
    },
    {
     "data": {
      "application/vnd.jupyter.widget-view+json": {
       "model_id": "",
       "version_major": 2,
       "version_minor": 0
      },
      "text/plain": [
       "Validation sanity check: |                                                                       | 0/? [00:00<…"
      ]
     },
     "metadata": {},
     "output_type": "display_data"
    },
    {
     "name": "stdout",
     "output_type": "stream",
     "text": [
      "val\n",
      "tensor(0.6805, device='cuda:0')\n"
     ]
    },
    {
     "data": {
      "application/vnd.jupyter.widget-view+json": {
       "model_id": "8dbafbd0a3904072bdf2aa4093b9102f",
       "version_major": 2,
       "version_minor": 0
      },
      "text/plain": [
       "Training: |                                                                                      | 0/? [00:00<…"
      ]
     },
     "metadata": {},
     "output_type": "display_data"
    },
    {
     "name": "stderr",
     "output_type": "stream",
     "text": [
      "GPU available: True, used: True\n",
      "TPU available: False, using: 0 TPU cores\n",
      "Using native 16bit precision.\n",
      "LOCAL_RANK: 0 - CUDA_VISIBLE_DEVICES: [0]\n",
      "\n",
      "  | Name       | Type             | Params\n",
      "------------------------------------------------\n",
      "0 | loss_func  | CrossEntropyLoss | 0     \n",
      "1 | block      | Sequential       | 2.5 M \n",
      "2 | classifier | Linear           | 110 K \n",
      "------------------------------------------------\n",
      "2.6 M     Trainable params\n",
      "0         Non-trainable params\n",
      "2.6 M     Total params\n",
      "10.459    Total estimated model params size (MB)\n"
     ]
    },
    {
     "data": {
      "application/vnd.jupyter.widget-view+json": {
       "model_id": "",
       "version_major": 2,
       "version_minor": 0
      },
      "text/plain": [
       "Validation sanity check: |                                                                       | 0/? [00:00<…"
      ]
     },
     "metadata": {},
     "output_type": "display_data"
    },
    {
     "name": "stdout",
     "output_type": "stream",
     "text": [
      "val\n",
      "tensor(0.8984, device='cuda:0')\n"
     ]
    },
    {
     "data": {
      "application/vnd.jupyter.widget-view+json": {
       "model_id": "7f4b1e3f6acd4c878c3d5c354c789946",
       "version_major": 2,
       "version_minor": 0
      },
      "text/plain": [
       "Training: |                                                                                      | 0/? [00:00<…"
      ]
     },
     "metadata": {},
     "output_type": "display_data"
    },
    {
     "name": "stderr",
     "output_type": "stream",
     "text": [
      "GPU available: True, used: True\n",
      "TPU available: False, using: 0 TPU cores\n",
      "Using native 16bit precision.\n",
      "LOCAL_RANK: 0 - CUDA_VISIBLE_DEVICES: [0]\n",
      "\n",
      "  | Name       | Type             | Params\n",
      "------------------------------------------------\n",
      "0 | loss_func  | CrossEntropyLoss | 0     \n",
      "1 | block      | Sequential       | 2.5 M \n",
      "2 | classifier | Linear           | 110 K \n",
      "------------------------------------------------\n",
      "2.6 M     Trainable params\n",
      "0         Non-trainable params\n",
      "2.6 M     Total params\n",
      "10.459    Total estimated model params size (MB)\n"
     ]
    },
    {
     "data": {
      "application/vnd.jupyter.widget-view+json": {
       "model_id": "",
       "version_major": 2,
       "version_minor": 0
      },
      "text/plain": [
       "Validation sanity check: |                                                                       | 0/? [00:00<…"
      ]
     },
     "metadata": {},
     "output_type": "display_data"
    },
    {
     "name": "stdout",
     "output_type": "stream",
     "text": [
      "val\n",
      "tensor(0.9506, device='cuda:0')\n"
     ]
    },
    {
     "data": {
      "application/vnd.jupyter.widget-view+json": {
       "model_id": "163b928b3bda43a5851f43094d4e364b",
       "version_major": 2,
       "version_minor": 0
      },
      "text/plain": [
       "Training: |                                                                                      | 0/? [00:00<…"
      ]
     },
     "metadata": {},
     "output_type": "display_data"
    },
    {
     "name": "stderr",
     "output_type": "stream",
     "text": [
      "GPU available: True, used: True\n",
      "TPU available: False, using: 0 TPU cores\n",
      "Using native 16bit precision.\n",
      "LOCAL_RANK: 0 - CUDA_VISIBLE_DEVICES: [0]\n",
      "\n",
      "  | Name       | Type             | Params\n",
      "------------------------------------------------\n",
      "0 | loss_func  | CrossEntropyLoss | 0     \n",
      "1 | block      | Sequential       | 2.5 M \n",
      "2 | classifier | Linear           | 110 K \n",
      "------------------------------------------------\n",
      "2.6 M     Trainable params\n",
      "0         Non-trainable params\n",
      "2.6 M     Total params\n",
      "10.459    Total estimated model params size (MB)\n"
     ]
    },
    {
     "data": {
      "application/vnd.jupyter.widget-view+json": {
       "model_id": "",
       "version_major": 2,
       "version_minor": 0
      },
      "text/plain": [
       "Validation sanity check: |                                                                       | 0/? [00:00<…"
      ]
     },
     "metadata": {},
     "output_type": "display_data"
    },
    {
     "name": "stdout",
     "output_type": "stream",
     "text": [
      "val\n",
      "tensor(0.6502, device='cuda:0')\n"
     ]
    },
    {
     "data": {
      "application/vnd.jupyter.widget-view+json": {
       "model_id": "a179fdbd8c4341e49afb71bbd8154d0f",
       "version_major": 2,
       "version_minor": 0
      },
      "text/plain": [
       "Training: |                                                                                      | 0/? [00:00<…"
      ]
     },
     "metadata": {},
     "output_type": "display_data"
    },
    {
     "name": "stderr",
     "output_type": "stream",
     "text": [
      "GPU available: True, used: True\n",
      "TPU available: False, using: 0 TPU cores\n",
      "Using native 16bit precision.\n",
      "LOCAL_RANK: 0 - CUDA_VISIBLE_DEVICES: [0]\n",
      "\n",
      "  | Name       | Type             | Params\n",
      "------------------------------------------------\n",
      "0 | loss_func  | CrossEntropyLoss | 0     \n",
      "1 | block      | Sequential       | 2.5 M \n",
      "2 | classifier | Linear           | 110 K \n",
      "------------------------------------------------\n",
      "2.6 M     Trainable params\n",
      "0         Non-trainable params\n",
      "2.6 M     Total params\n",
      "10.459    Total estimated model params size (MB)\n"
     ]
    },
    {
     "data": {
      "application/vnd.jupyter.widget-view+json": {
       "model_id": "",
       "version_major": 2,
       "version_minor": 0
      },
      "text/plain": [
       "Validation sanity check: |                                                                       | 0/? [00:00<…"
      ]
     },
     "metadata": {},
     "output_type": "display_data"
    },
    {
     "name": "stdout",
     "output_type": "stream",
     "text": [
      "val\n",
      "tensor(0.6609, device='cuda:0')\n"
     ]
    },
    {
     "data": {
      "application/vnd.jupyter.widget-view+json": {
       "model_id": "384ca8cf94b0434496082fd256dc5c6e",
       "version_major": 2,
       "version_minor": 0
      },
      "text/plain": [
       "Training: |                                                                                      | 0/? [00:00<…"
      ]
     },
     "metadata": {},
     "output_type": "display_data"
    },
    {
     "name": "stderr",
     "output_type": "stream",
     "text": [
      "GPU available: True, used: True\n",
      "TPU available: False, using: 0 TPU cores\n",
      "Using native 16bit precision.\n",
      "LOCAL_RANK: 0 - CUDA_VISIBLE_DEVICES: [0]\n",
      "\n",
      "  | Name       | Type             | Params\n",
      "------------------------------------------------\n",
      "0 | loss_func  | CrossEntropyLoss | 0     \n",
      "1 | block      | Sequential       | 2.5 M \n",
      "2 | classifier | Linear           | 110 K \n",
      "------------------------------------------------\n",
      "2.6 M     Trainable params\n",
      "0         Non-trainable params\n",
      "2.6 M     Total params\n",
      "10.459    Total estimated model params size (MB)\n"
     ]
    },
    {
     "data": {
      "application/vnd.jupyter.widget-view+json": {
       "model_id": "",
       "version_major": 2,
       "version_minor": 0
      },
      "text/plain": [
       "Validation sanity check: |                                                                       | 0/? [00:00<…"
      ]
     },
     "metadata": {},
     "output_type": "display_data"
    },
    {
     "name": "stdout",
     "output_type": "stream",
     "text": [
      "val\n",
      "tensor(0.7135, device='cuda:0')\n"
     ]
    },
    {
     "data": {
      "application/vnd.jupyter.widget-view+json": {
       "model_id": "b302bb25c87344e5b252feab2edc5c58",
       "version_major": 2,
       "version_minor": 0
      },
      "text/plain": [
       "Training: |                                                                                      | 0/? [00:00<…"
      ]
     },
     "metadata": {},
     "output_type": "display_data"
    },
    {
     "name": "stderr",
     "output_type": "stream",
     "text": [
      "GPU available: True, used: True\n",
      "TPU available: False, using: 0 TPU cores\n",
      "Using native 16bit precision.\n",
      "LOCAL_RANK: 0 - CUDA_VISIBLE_DEVICES: [0]\n",
      "\n",
      "  | Name       | Type             | Params\n",
      "------------------------------------------------\n",
      "0 | loss_func  | CrossEntropyLoss | 0     \n",
      "1 | block      | Sequential       | 2.5 M \n",
      "2 | classifier | Linear           | 110 K \n",
      "------------------------------------------------\n",
      "2.6 M     Trainable params\n",
      "0         Non-trainable params\n",
      "2.6 M     Total params\n",
      "10.459    Total estimated model params size (MB)\n"
     ]
    },
    {
     "data": {
      "application/vnd.jupyter.widget-view+json": {
       "model_id": "",
       "version_major": 2,
       "version_minor": 0
      },
      "text/plain": [
       "Validation sanity check: |                                                                       | 0/? [00:00<…"
      ]
     },
     "metadata": {},
     "output_type": "display_data"
    },
    {
     "name": "stdout",
     "output_type": "stream",
     "text": [
      "val\n",
      "tensor(0.7835, device='cuda:0')\n"
     ]
    },
    {
     "data": {
      "application/vnd.jupyter.widget-view+json": {
       "model_id": "2b3d3bf89af145968bb619abd7b66770",
       "version_major": 2,
       "version_minor": 0
      },
      "text/plain": [
       "Training: |                                                                                      | 0/? [00:00<…"
      ]
     },
     "metadata": {},
     "output_type": "display_data"
    },
    {
     "name": "stderr",
     "output_type": "stream",
     "text": [
      "GPU available: True, used: True\n",
      "TPU available: False, using: 0 TPU cores\n",
      "Using native 16bit precision.\n",
      "LOCAL_RANK: 0 - CUDA_VISIBLE_DEVICES: [0]\n",
      "\n",
      "  | Name       | Type             | Params\n",
      "------------------------------------------------\n",
      "0 | loss_func  | CrossEntropyLoss | 0     \n",
      "1 | block      | Sequential       | 2.5 M \n",
      "2 | classifier | Linear           | 110 K \n",
      "------------------------------------------------\n",
      "2.6 M     Trainable params\n",
      "0         Non-trainable params\n",
      "2.6 M     Total params\n",
      "10.459    Total estimated model params size (MB)\n"
     ]
    },
    {
     "data": {
      "application/vnd.jupyter.widget-view+json": {
       "model_id": "",
       "version_major": 2,
       "version_minor": 0
      },
      "text/plain": [
       "Validation sanity check: |                                                                       | 0/? [00:00<…"
      ]
     },
     "metadata": {},
     "output_type": "display_data"
    },
    {
     "name": "stdout",
     "output_type": "stream",
     "text": [
      "val\n",
      "tensor(0.7636, device='cuda:0')\n"
     ]
    },
    {
     "data": {
      "application/vnd.jupyter.widget-view+json": {
       "model_id": "9afe42513f9e43b3aa02c6e3608d2dd1",
       "version_major": 2,
       "version_minor": 0
      },
      "text/plain": [
       "Training: |                                                                                      | 0/? [00:00<…"
      ]
     },
     "metadata": {},
     "output_type": "display_data"
    },
    {
     "name": "stderr",
     "output_type": "stream",
     "text": [
      "GPU available: True, used: True\n",
      "TPU available: False, using: 0 TPU cores\n",
      "Using native 16bit precision.\n",
      "LOCAL_RANK: 0 - CUDA_VISIBLE_DEVICES: [0]\n",
      "\n",
      "  | Name       | Type             | Params\n",
      "------------------------------------------------\n",
      "0 | loss_func  | CrossEntropyLoss | 0     \n",
      "1 | block      | Sequential       | 2.5 M \n",
      "2 | classifier | Linear           | 110 K \n",
      "------------------------------------------------\n",
      "2.6 M     Trainable params\n",
      "0         Non-trainable params\n",
      "2.6 M     Total params\n",
      "10.459    Total estimated model params size (MB)\n"
     ]
    },
    {
     "data": {
      "application/vnd.jupyter.widget-view+json": {
       "model_id": "",
       "version_major": 2,
       "version_minor": 0
      },
      "text/plain": [
       "Validation sanity check: |                                                                       | 0/? [00:00<…"
      ]
     },
     "metadata": {},
     "output_type": "display_data"
    },
    {
     "name": "stdout",
     "output_type": "stream",
     "text": [
      "val\n",
      "tensor(0.4275, device='cuda:0')\n"
     ]
    },
    {
     "data": {
      "application/vnd.jupyter.widget-view+json": {
       "model_id": "4030cae96f9e476db3a576fb5edc8d3a",
       "version_major": 2,
       "version_minor": 0
      },
      "text/plain": [
       "Training: |                                                                                      | 0/? [00:00<…"
      ]
     },
     "metadata": {},
     "output_type": "display_data"
    },
    {
     "name": "stderr",
     "output_type": "stream",
     "text": [
      "GPU available: True, used: True\n",
      "TPU available: False, using: 0 TPU cores\n",
      "Using native 16bit precision.\n",
      "LOCAL_RANK: 0 - CUDA_VISIBLE_DEVICES: [0]\n",
      "\n",
      "  | Name       | Type             | Params\n",
      "------------------------------------------------\n",
      "0 | loss_func  | CrossEntropyLoss | 0     \n",
      "1 | block      | Sequential       | 2.5 M \n",
      "2 | classifier | Linear           | 110 K \n",
      "------------------------------------------------\n",
      "2.6 M     Trainable params\n",
      "0         Non-trainable params\n",
      "2.6 M     Total params\n",
      "10.459    Total estimated model params size (MB)\n"
     ]
    },
    {
     "data": {
      "application/vnd.jupyter.widget-view+json": {
       "model_id": "",
       "version_major": 2,
       "version_minor": 0
      },
      "text/plain": [
       "Validation sanity check: |                                                                       | 0/? [00:00<…"
      ]
     },
     "metadata": {},
     "output_type": "display_data"
    },
    {
     "name": "stdout",
     "output_type": "stream",
     "text": [
      "val\n",
      "tensor(0.6883, device='cuda:0')\n"
     ]
    },
    {
     "data": {
      "application/vnd.jupyter.widget-view+json": {
       "model_id": "ba98b0baccce407e808472140148ba83",
       "version_major": 2,
       "version_minor": 0
      },
      "text/plain": [
       "Training: |                                                                                      | 0/? [00:00<…"
      ]
     },
     "metadata": {},
     "output_type": "display_data"
    }
   ],
   "source": [
    "cnn51.learning_rate = 1e-4\n",
    "for i in range(25):\n",
    "    train_cnn_final(cnn51,max_ep=1)\n",
    "    '''_,acc = test_cnn_onehot(cnn51)\n",
    "    if acc > 0.86:\n",
    "        break'''"
   ]
  },
  {
   "cell_type": "code",
   "execution_count": 468,
   "metadata": {},
   "outputs": [
    {
     "name": "stdout",
     "output_type": "stream",
     "text": [
      "0.8601307189542484\n"
     ]
    }
   ],
   "source": [
    "output = test_cnn_onehot(cnn51)"
   ]
  },
  {
   "cell_type": "code",
   "execution_count": 100,
   "metadata": {},
   "outputs": [
    {
     "name": "stdout",
     "output_type": "stream",
     "text": [
      "0.8568627450980392\n"
     ]
    }
   ],
   "source": [
    "output = test_cnn_onehot(cnn51)"
   ]
  },
  {
   "cell_type": "code",
   "execution_count": 103,
   "metadata": {},
   "outputs": [
    {
     "data": {
      "text/plain": [
       "tensor([2., 2., 2., 2., 2., 3., 3., 3., 1., 3.])"
      ]
     },
     "execution_count": 103,
     "metadata": {},
     "output_type": "execute_result"
    }
   ],
   "source": [
    "output[0][10:20]"
   ]
  },
  {
   "cell_type": "code",
   "execution_count": 104,
   "metadata": {},
   "outputs": [],
   "source": [
    "torch.save(cnn51.state_dict(), model_path+'\\\\cnnbest7bestbest.pth')"
   ]
  },
  {
   "cell_type": "code",
   "execution_count": 106,
   "metadata": {},
   "outputs": [
    {
     "data": {
      "text/plain": [
       "<All keys matched successfully>"
      ]
     },
     "execution_count": 106,
     "metadata": {},
     "output_type": "execute_result"
    }
   ],
   "source": [
    "cnn52 = CNN_final(nn.CrossEntropyLoss(),best7)\n",
    "cnn52.load_state_dict(torch.load(model_path+'\\\\cnnbest7bestbest.pth'))"
   ]
  },
  {
   "cell_type": "code",
   "execution_count": 123,
   "metadata": {},
   "outputs": [
    {
     "data": {
      "text/plain": [
       "'\\\\prod'"
      ]
     },
     "execution_count": 123,
     "metadata": {},
     "output_type": "execute_result"
    }
   ],
   "source": [
    "class306id[145]"
   ]
  },
  {
   "cell_type": "code",
   "execution_count": 143,
   "metadata": {},
   "outputs": [
    {
     "name": "stdout",
     "output_type": "stream",
     "text": [
      "92\n"
     ]
    }
   ],
   "source": [
    "a = '\\\\int'\n",
    "for i in range(len(class306id)):\n",
    "    if class306id[i] == a:\n",
    "        print(i)"
   ]
  },
  {
   "cell_type": "code",
   "execution_count": null,
   "metadata": {},
   "outputs": [],
   "source": []
  },
  {
   "cell_type": "code",
   "execution_count": 452,
   "metadata": {},
   "outputs": [
    {
     "data": {
      "image/png": "[encoded data removed]",
      "text/plain": [
       "<Figure size 432x288 with 2 Axes>"
      ]
     },
     "metadata": {
      "needs_background": "light"
     },
     "output_type": "display_data"
    }
   ],
   "source": [
    "x = np.linspace(1, 50, 50)\n",
    "fig, ax1 = plt.subplots()\n",
    "color = 'tab:red'\n",
    "ax1.set_xlabel('generation')\n",
    "ax1.set_ylabel('training loss', color=color)\n",
    "ax1.plot(x,train2,color = color)\n",
    "ax1.tick_params(axis='y', labelcolor=color)\n",
    "ax2 = ax1.twinx()\n",
    "color = 'tab:blue'\n",
    "ax2.set_ylabel('accuracy', color=color)\n",
    "ax2.plot(x, history_acc_1, color=color)\n",
    "ax2.tick_params(axis='y', labelcolor=color)\n",
    "fig.tight_layout() \n",
    "def annot_max(x,y, ax=None):\n",
    "    xmax = x[np.argmax(y)]\n",
    "    ymax = max(y)\n",
    "    text= \"maximum : x={:.3f}, y={:.3f}\".format(xmax, ymax)\n",
    "    bbox_props = dict(boxstyle=\"square,pad=0.3\", fc=\"w\", ec=\"k\", lw=0.72)\n",
    "    arrowprops=dict(arrowstyle=\"->\",connectionstyle=\"angle,angleA=0,angleB=60\")\n",
    "    kw = dict(xycoords='data',textcoords=\"axes fraction\",\n",
    "              arrowprops=arrowprops, bbox=bbox_props, ha=\"left\", va=\"bottom\")\n",
    "    ax.annotate(text, xy=(xmax, ymax), xytext=(0.94,0.96), **kw)\n",
    "\n",
    "annot_max(x,history_acc_1,ax = ax2)\n",
    "#plt.savefig('../diagrams/best5best.png')\n",
    "plt.show()"
   ]
  },
  {
   "cell_type": "code",
   "execution_count": null,
   "metadata": {},
   "outputs": [],
   "source": []
  },
  {
   "cell_type": "code",
   "execution_count": 456,
   "metadata": {},
   "outputs": [],
   "source": [
    "class CNN31(pl.LightningModule):\n",
    "    def __init__(self,loss_func,build_code,lr = 1e-3):\n",
    "        super().__init__()\n",
    "        self.loss_func = loss_func\n",
    "        self.learning_rate = lr\n",
    "        self.current_channel = 1\n",
    "        layers = []\n",
    "        for code in build_code:\n",
    "            layer = self.parse_code(code)\n",
    "            layers.append(layer)\n",
    "        self.block  = nn.Sequential(*layers)  \n",
    "        self.classifier = nn.Sequential(\n",
    "            nn.Conv2d(self.current_channel,306,kernel_size = 1),\n",
    "            nn.ReLU(inplace=True),\n",
    "            nn.AdaptiveAvgPool2d((1, 1))\n",
    "        )\n",
    "    \n",
    "    def parse_code(self,code):\n",
    "        if code[0]<21:                    # Resnet\n",
    "            unit = ResNetUnit(code[0],self.current_channel,code[1])\n",
    "            self.current_channel = code[1] \n",
    "        if code[0]>20 and code[0]<100 :  #Densenet\n",
    "            unit = DenseNetUnit(code[2],code[0]-20,self.current_channel,code[1],code[2]*10)\n",
    "            #params : k, amount, in_channel, out_channel, max_input_channel\n",
    "            self.current_channel = code[1] \n",
    "        else:                            #pooling\n",
    "            if code[1] == 0:\n",
    "                unit = nn.MaxPool2d(2,stride = 2)\n",
    "            if code[1] == 1:\n",
    "                unit = nn.AvgPool2d(2,stride = 2)\n",
    "        return unit    \n",
    "    \n",
    "    def forward(self, x):\n",
    "        # \n",
    "        # x : batch_size x 3 x 32 x 32\n",
    "        x = self.block(x)\n",
    "        x = self.classifier(x)\n",
    "        return torch.flatten(x, 1)\n",
    "    \n",
    "    def configure_optimizers(self):\n",
    "        optimizer = torch.optim.Adam(self.parameters(), lr=self.learning_rate)\n",
    "        return optimizer\n",
    "    \n",
    "    def training_step(self,batch,batch_idx):\n",
    "        x,y = batch\n",
    "        y_hat = self(x)\n",
    "        loss = self.loss_func(y_hat,y)\n",
    "        #self.log('train_loss', loss)\n",
    "        return loss"
   ]
  },
  {
   "cell_type": "code",
   "execution_count": 457,
   "metadata": {},
   "outputs": [],
   "source": [
    "# 0 maxpool # 1 meanpool \n",
    "build_code = [[30,201,20],[999,0],[999,1],[7,256],[999,1]]\n",
    "cnn31 = CNN_fc(nn.CrossEntropyLoss(),build_code)"
   ]
  },
  {
   "cell_type": "code",
   "execution_count": 458,
   "metadata": {},
   "outputs": [
    {
     "name": "stderr",
     "output_type": "stream",
     "text": [
      "GPU available: True, used: True\n",
      "TPU available: False, using: 0 TPU cores\n",
      "Using native 16bit precision.\n",
      "LOCAL_RANK: 0 - CUDA_VISIBLE_DEVICES: [0]\n",
      "\n",
      "  | Name       | Type             | Params\n",
      "------------------------------------------------\n",
      "0 | loss_func  | CrossEntropyLoss | 0     \n",
      "1 | block      | Sequential       | 5.3 M \n",
      "2 | classifier | Linear           | 1.3 M \n",
      "------------------------------------------------\n",
      "6.6 M     Trainable params\n",
      "0         Non-trainable params\n",
      "6.6 M     Total params\n",
      "26.275    Total estimated model params size (MB)\n"
     ]
    },
    {
     "data": {
      "application/vnd.jupyter.widget-view+json": {
       "model_id": "017fbf9b22604b13992275382aedd62f",
       "version_major": 2,
       "version_minor": 0
      },
      "text/plain": [
       "Training: |                                                                                      | 0/? [00:00<…"
      ]
     },
     "metadata": {},
     "output_type": "display_data"
    },
    {
     "name": "stdout",
     "output_type": "stream",
     "text": [
      "18.1149742603302\n"
     ]
    }
   ],
   "source": [
    "trainer_cnn31 = train_cnn(cnn31,dataloader = images_dataloader_onehot,max_ep = 1 )"
   ]
  },
  {
   "cell_type": "code",
   "execution_count": null,
   "metadata": {},
   "outputs": [],
   "source": [
    "output = test_cnn_onehot(cnn31)"
   ]
  },
  {
   "cell_type": "code",
   "execution_count": null,
   "metadata": {},
   "outputs": [],
   "source": [
    "p1 = precision_score(class_306_labels_origin_val,output[0],average = 'macro',labels = unique_306)\n",
    "r1 = recall_score(class_306_labels_origin_val,output[0],average = 'macro',labels = unique_306)\n",
    "f1 = f1_score(class_306_labels_origin_val,output[0],average = 'macro',labels = unique_306)\n",
    "print(p1,r1,f1)"
   ]
  },
  {
   "cell_type": "markdown",
   "metadata": {},
   "source": [
    "## CNN 32"
   ]
  },
  {
   "cell_type": "code",
   "execution_count": 459,
   "metadata": {},
   "outputs": [],
   "source": [
    "class CNN_fc(pl.LightningModule):\n",
    "    def __init__(self,loss_func,build_code,lr = 1e-4):\n",
    "        super().__init__()\n",
    "        self.loss_func = loss_func\n",
    "        self.learning_rate = lr\n",
    "        self.current_channel = 1\n",
    "        self.res = 32 # resolution 32x32\n",
    "        layers = []\n",
    "        for code in build_code:\n",
    "            layer = self.parse_code(code)\n",
    "            layers.append(layer)\n",
    "        self.block  = nn.Sequential(*layers)  \n",
    "        num = self.current_channel*self.res*self.res      \n",
    "        self.classifier = nn.Linear(int(num),306)\n",
    "    \n",
    "    def parse_code(self,code):\n",
    "        if code[0]<21:                    # Resnet\n",
    "            unit = ResNetUnit(code[0],self.current_channel,code[1])\n",
    "            self.current_channel = code[1] \n",
    "        elif code[0]>20 and code[0]<100 :  #Densenet\n",
    "            unit = DenseNetUnit(code[2],code[0]-20,self.current_channel,code[1],code[2]*10)\n",
    "            #params : k, amount, in_channel, out_channel, max_input_channel\n",
    "            self.current_channel = code[1] \n",
    "        else:                            #pooling\n",
    "            self.res /= 2\n",
    "            if code[1] == 0:\n",
    "                unit = nn.MaxPool2d(2,stride = 2)\n",
    "            if code[1] == 1:\n",
    "                unit = nn.AvgPool2d(2,stride = 2)\n",
    "        return unit    \n",
    "    \n",
    "    def forward(self, x):\n",
    "        # \n",
    "        # x : batch_size x 3 x 32 x 32\n",
    "        x = self.block(x)\n",
    "        x = self.classifier(torch.flatten(x, 1))\n",
    "        return x\n",
    "    \n",
    "    def configure_optimizers(self):\n",
    "        optimizer = torch.optim.Adam(self.parameters(), lr=self.learning_rate)\n",
    "        return optimizer\n",
    "    \n",
    "    def training_step(self,batch,batch_idx):\n",
    "        x,y = batch\n",
    "        y_hat = self(x)\n",
    "        loss = self.loss_func(y_hat,y)\n",
    "        #self.log('train_loss', loss)\n",
    "        return loss"
   ]
  },
  {
   "cell_type": "code",
   "execution_count": 460,
   "metadata": {},
   "outputs": [],
   "source": [
    "build_code_32 = [[27,141,20],[999,0],[27,281,20],[999,0],[27,340,20],[999,0]]\n",
    "cnn32 = CNN_fc(nn.CrossEntropyLoss(),build_code_32)"
   ]
  },
  {
   "cell_type": "code",
   "execution_count": 461,
   "metadata": {},
   "outputs": [
    {
     "name": "stderr",
     "output_type": "stream",
     "text": [
      "GPU available: True, used: True\n",
      "TPU available: False, using: 0 TPU cores\n",
      "Using native 16bit precision.\n",
      "LOCAL_RANK: 0 - CUDA_VISIBLE_DEVICES: [0]\n",
      "\n",
      "  | Name       | Type             | Params\n",
      "------------------------------------------------\n",
      "0 | loss_func  | CrossEntropyLoss | 0     \n",
      "1 | block      | Sequential       | 662 K \n",
      "2 | classifier | Linear           | 1.7 M \n",
      "------------------------------------------------\n",
      "2.3 M     Trainable params\n",
      "0         Non-trainable params\n",
      "2.3 M     Total params\n",
      "9.308     Total estimated model params size (MB)\n"
     ]
    },
    {
     "data": {
      "application/vnd.jupyter.widget-view+json": {
       "model_id": "0bc2cb1dfe404ec5842fb4f1d336748a",
       "version_major": 2,
       "version_minor": 0
      },
      "text/plain": [
       "Training: |                                                                                      | 0/? [00:00<…"
      ]
     },
     "metadata": {},
     "output_type": "display_data"
    },
    {
     "name": "stdout",
     "output_type": "stream",
     "text": [
      "15.752328157424927\n"
     ]
    }
   ],
   "source": [
    "trainer_cnn32 = train_cnn(cnn32,dataloader = images_dataloader_onehot,max_ep = 1 )"
   ]
  },
  {
   "cell_type": "code",
   "execution_count": null,
   "metadata": {},
   "outputs": [],
   "source": [
    "output = test_cnn_onehot(cnn32)"
   ]
  },
  {
   "cell_type": "code",
   "execution_count": null,
   "metadata": {},
   "outputs": [],
   "source": [
    "p1 = precision_score(class_306_labels_origin_val,output[0],average = 'macro',labels = unique_306)\n",
    "r1 = recall_score(class_306_labels_origin_val,output[0],average = 'macro',labels = unique_306)\n",
    "f1 = f1_score(class_306_labels_origin_val,output[0],average = 'macro',labels = unique_306)\n",
    "print(p1,r1,f1)"
   ]
  },
  {
   "cell_type": "markdown",
   "metadata": {},
   "source": [
    "## CNN33"
   ]
  },
  {
   "cell_type": "code",
   "execution_count": 462,
   "metadata": {},
   "outputs": [],
   "source": [
    "build_code_33 = [[30,201,20],[999,0],[7,256],[999,0],[30,400,20],[999,0]]\n",
    "cnn33 = CNN_fc(nn.CrossEntropyLoss(),build_code_33)"
   ]
  },
  {
   "cell_type": "code",
   "execution_count": 463,
   "metadata": {},
   "outputs": [
    {
     "name": "stderr",
     "output_type": "stream",
     "text": [
      "GPU available: True, used: True\n",
      "TPU available: False, using: 0 TPU cores\n",
      "Using native 16bit precision.\n",
      "LOCAL_RANK: 0 - CUDA_VISIBLE_DEVICES: [0]\n",
      "\n",
      "  | Name       | Type             | Params\n",
      "------------------------------------------------\n",
      "0 | loss_func  | CrossEntropyLoss | 0     \n",
      "1 | block      | Sequential       | 5.8 M \n",
      "2 | classifier | Linear           | 2.0 M \n",
      "------------------------------------------------\n",
      "7.7 M     Trainable params\n",
      "0         Non-trainable params\n",
      "7.7 M     Total params\n",
      "30.836    Total estimated model params size (MB)\n"
     ]
    },
    {
     "data": {
      "application/vnd.jupyter.widget-view+json": {
       "model_id": "440b9a2435b540e6a50ba81a7315757a",
       "version_major": 2,
       "version_minor": 0
      },
      "text/plain": [
       "Training: |                                                                                      | 0/? [00:00<…"
      ]
     },
     "metadata": {},
     "output_type": "display_data"
    },
    {
     "name": "stdout",
     "output_type": "stream",
     "text": [
      "25.393836736679077\n"
     ]
    }
   ],
   "source": [
    "trainer_cnn33 = train_cnn(cnn33,dataloader = images_dataloader_onehot,max_ep =1 )"
   ]
  },
  {
   "cell_type": "code",
   "execution_count": null,
   "metadata": {},
   "outputs": [],
   "source": [
    "output = test_cnn_onehot(cnn33)\n",
    "\n",
    "p1 = precision_score(class_306_labels_origin_val,output[0],average = 'macro',labels = unique_306)\n",
    "r1 = recall_score(class_306_labels_origin_val,output[0],average = 'macro',labels = unique_306)\n",
    "f1 = f1_score(class_306_labels_origin_val,output[0],average = 'macro',labels = unique_306)\n",
    "print(p1,r1,f1)"
   ]
  },
  {
   "cell_type": "markdown",
   "metadata": {},
   "source": [
    "## CNN34"
   ]
  },
  {
   "cell_type": "code",
   "execution_count": null,
   "metadata": {},
   "outputs": [],
   "source": [
    "build_code = [[27,141,20],[999,0],[27,281,20],[999,0],[27,340,20],[999,0],[27,340,20],[999,0],[27,340,20],[999,0]]\n",
    "cnn34 = CNN_fc(nn.CrossEntropyLoss(),build_code)"
   ]
  },
  {
   "cell_type": "code",
   "execution_count": null,
   "metadata": {},
   "outputs": [],
   "source": [
    "trainer_cnn34 = train_cnn(cnn34,dataloader = images_dataloader_onehot,max_ep = 20 )"
   ]
  },
  {
   "cell_type": "code",
   "execution_count": null,
   "metadata": {},
   "outputs": [],
   "source": [
    "output = test_cnn_onehot(cnn34)"
   ]
  },
  {
   "cell_type": "code",
   "execution_count": null,
   "metadata": {},
   "outputs": [],
   "source": [
    "cnn34.learning_rate = 0.0001\n",
    "trainer = pl.Trainer(max_epochs = 15,gpus = 1,precision = 16)\n",
    "trainer.fit(cnn34,train_dataloader = images_dataloader_onehot)"
   ]
  },
  {
   "cell_type": "code",
   "execution_count": null,
   "metadata": {},
   "outputs": [],
   "source": [
    "cnn34.cpu()\n",
    "output = test_cnn_onehot(cnn34)"
   ]
  },
  {
   "cell_type": "markdown",
   "metadata": {},
   "source": [
    "## CNN 35"
   ]
  },
  {
   "cell_type": "code",
   "execution_count": 464,
   "metadata": {},
   "outputs": [],
   "source": [
    "build_code_35 = [[3,64],[999,0],[3,64],[999,0],[3,64],[999,0],[3,64],[999,0]]\n",
    "cnn35 = CNN_fc(nn.CrossEntropyLoss(),build_code_35)"
   ]
  },
  {
   "cell_type": "code",
   "execution_count": 465,
   "metadata": {},
   "outputs": [
    {
     "name": "stderr",
     "output_type": "stream",
     "text": [
      "GPU available: True, used: True\n",
      "TPU available: False, using: 0 TPU cores\n",
      "Using native 16bit precision.\n",
      "LOCAL_RANK: 0 - CUDA_VISIBLE_DEVICES: [0]\n",
      "\n",
      "  | Name       | Type             | Params\n",
      "------------------------------------------------\n",
      "0 | loss_func  | CrossEntropyLoss | 0     \n",
      "1 | block      | Sequential       | 541 K \n",
      "2 | classifier | Linear           | 78.6 K\n",
      "------------------------------------------------\n",
      "620 K     Trainable params\n",
      "0         Non-trainable params\n",
      "620 K     Total params\n",
      "2.480     Total estimated model params size (MB)\n"
     ]
    },
    {
     "data": {
      "application/vnd.jupyter.widget-view+json": {
       "model_id": "9a3b7e0cba934505a55d4ab6227dffef",
       "version_major": 2,
       "version_minor": 0
      },
      "text/plain": [
       "Training: |                                                                                      | 0/? [00:00<…"
      ]
     },
     "metadata": {},
     "output_type": "display_data"
    },
    {
     "name": "stdout",
     "output_type": "stream",
     "text": [
      "11.24289584159851\n"
     ]
    }
   ],
   "source": [
    "trainer_cnn35 = train_cnn(cnn35,dataloader = images_dataloader_onehot,max_ep = 1 )"
   ]
  },
  {
   "cell_type": "code",
   "execution_count": null,
   "metadata": {},
   "outputs": [],
   "source": [
    "output = test_cnn_onehot(cnn35)"
   ]
  },
  {
   "cell_type": "code",
   "execution_count": null,
   "metadata": {},
   "outputs": [],
   "source": [
    "p1 = precision_score(class_306_labels_origin_val,output[0],average = 'macro',labels = unique_306)\n",
    "r1 = recall_score(class_306_labels_origin_val,output[0],average = 'macro',labels = unique_306)\n",
    "f1 = f1_score(class_306_labels_origin_val,output[0],average = 'macro',labels = unique_306)\n",
    "print(p1,r1,f1)"
   ]
  },
  {
   "cell_type": "markdown",
   "metadata": {},
   "source": [
    "## CNN36"
   ]
  },
  {
   "cell_type": "code",
   "execution_count": 466,
   "metadata": {},
   "outputs": [],
   "source": [
    "build_code_36 = [[30, 201, 20], [999, 1], [10, 256], [999, 1], [999, 0], [25, 180, 12], [4, 256]]\n",
    "cnn36 = CNN31(nn.CrossEntropyLoss(),build_code_36)"
   ]
  },
  {
   "cell_type": "code",
   "execution_count": 467,
   "metadata": {},
   "outputs": [
    {
     "name": "stderr",
     "output_type": "stream",
     "text": [
      "GPU available: True, used: True\n",
      "TPU available: False, using: 0 TPU cores\n",
      "Using native 16bit precision.\n",
      "LOCAL_RANK: 0 - CUDA_VISIBLE_DEVICES: [0]\n",
      "\n",
      "  | Name       | Type             | Params\n",
      "------------------------------------------------\n",
      "0 | loss_func  | CrossEntropyLoss | 0     \n",
      "1 | block      | Sequential       | 10.5 M\n",
      "2 | classifier | Sequential       | 78.6 K\n",
      "------------------------------------------------\n",
      "10.6 M    Trainable params\n",
      "0         Non-trainable params\n",
      "10.6 M    Total params\n",
      "42.286    Total estimated model params size (MB)\n"
     ]
    },
    {
     "data": {
      "application/vnd.jupyter.widget-view+json": {
       "model_id": "a1bea0f7b3cf4a46acb34e00448e6427",
       "version_major": 2,
       "version_minor": 0
      },
      "text/plain": [
       "Training: |                                                                                      | 0/? [00:00<…"
      ]
     },
     "metadata": {},
     "output_type": "display_data"
    },
    {
     "name": "stdout",
     "output_type": "stream",
     "text": [
      "5.657455682754517\n"
     ]
    }
   ],
   "source": [
    "trainer_cnn36 = train_cnn(cnn36,dataloader = images_dataloader_onehot,max_ep = 1 )"
   ]
  },
  {
   "cell_type": "code",
   "execution_count": null,
   "metadata": {},
   "outputs": [],
   "source": [
    "train_cnn(cnn36,dataloader = images_dataloader_onehot,max_ep = 30 )"
   ]
  },
  {
   "cell_type": "code",
   "execution_count": null,
   "metadata": {},
   "outputs": [],
   "source": [
    "output = test_cnn_onehot(cnn36)\n",
    "p1 = precision_score(class_306_labels_origin_val,output[0],average = 'macro',labels = unique_306)\n",
    "r1 = recall_score(class_306_labels_origin_val,output[0],average = 'macro',labels = unique_306)\n",
    "f1 = f1_score(class_306_labels_origin_val,output[0],average = 'macro',labels = unique_306)\n",
    "print(p1,r1,f1)"
   ]
  },
  {
   "cell_type": "code",
   "execution_count": null,
   "metadata": {},
   "outputs": [],
   "source": []
  },
  {
   "cell_type": "code",
   "execution_count": null,
   "metadata": {},
   "outputs": [],
   "source": []
  }
 ],
 "metadata": {
  "kernelspec": {
   "display_name": "Python 3",
   "language": "python",
   "name": "python3"
  },
  "language_info": {
   "codemirror_mode": {
    "name": "ipython",
    "version": 3
   },
   "file_extension": ".py",
   "mimetype": "text/x-python",
   "name": "python",
   "nbconvert_exporter": "python",
   "pygments_lexer": "ipython3",
   "version": "3.7.9"
  }
 },
 "nbformat": 4,
 "nbformat_minor": 4
}
